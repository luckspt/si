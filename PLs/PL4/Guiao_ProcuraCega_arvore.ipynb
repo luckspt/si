{
 "cells": [
  {
   "cell_type": "markdown",
   "metadata": {
    "colab_type": "text",
    "id": "LekFEsVbua_R"
   },
   "source": [
    "# Sistemas Inteligentes\n",
    "\n",
    "## Procura não informada\n",
    "\n",
    "## Conteúdos\n",
    "\n",
    "##### Procura em árvores\n",
    "* Procura em largura primeiro\n",
    "* Procura em profundidade primeiro\n",
    "* Estados vs nós da árvore de procura (classe Node)\n",
    "* Algoritmo genérico para a largura-primeiro e para a profundidade-primeiro\n",
    "* Ciclos na procura\n",
    "* Procura com aprofundamento progressivo\n",
    "* Exercícios\n",
    "\n",
    "\n"
   ]
  },
  {
   "cell_type": "markdown",
   "metadata": {},
   "source": [
    "Nesta aula vamos ver mais alguns aspetos relacionados com a resolução de problemas de acordo com o Paradigma do Espaço de Estados, usando a implementação disponibilizada pelo módulo searchPlus.py, introduzido nas aulas anteriores. Vamos hoje ver como poderemos utilizar os diferentes algoritmos de procura, os \"cegos\" ou \"não informados\", alguns deles garantem soluções de menor custo, outros nem por isso.\n",
    "\n",
    "## Introdução\n",
    "Lembremos que para resolver um problema segundo o paradigma do espaço de estados, teremos que:\n",
    "\n",
    "\n",
    "1.   Definir o problema em termos de estados e operadores (com os custos), definir o estado inicial e a condição para ser final.\n",
    "2.   Utilizar um algoritmo de procura para o resolver.\n",
    "\n",
    "Vamos experimentar os vários algoritmos de procura, começando por usar um espaço de estados correspondente a um grafo abstracto.\n",
    "\n",
    "\n",
    "## Recursos necessários\n",
    "\n",
    "Para executar as experiências que se seguem, \n",
    "\n",
    "*   Copie o módulo searchPlus.py para a directoria de trabalho;\n",
    "*   Copie para o mesmo local os outros módulos auxiliares necessários: utils.py."
   ]
  },
  {
   "cell_type": "markdown",
   "metadata": {},
   "source": [
    "## Grafo com custos heterogéneos\n",
    "Considere o grafo na figura em baixo, com custos heterogéneos. Optimizar não significa uma solução no menor número de acções, porque há diferentes custos para as acções, optimizar é encontrar uma das soluções de menor custo acumulado, entre o estado inicial I e o final F."
   ]
  },
  {
   "cell_type": "markdown",
   "metadata": {},
   "source": [
    "![figura](figura-ee-T-2.png)"
   ]
  },
  {
   "cell_type": "markdown",
   "metadata": {},
   "source": [
    "### Representação dos estados\n",
    "Neste caso uma letra serve para representar os estados. Num dicionário teremos explicitamente representados todos os estados e operadores do espaço de estados.\n",
    "Vamos para a definição da classe"
   ]
  },
  {
   "cell_type": "code",
   "execution_count": 1,
   "metadata": {
    "colab": {},
    "colab_type": "code",
    "id": "ExFVWdVxyRvI"
   },
   "outputs": [],
   "source": [
    "from searchPlus import *\n",
    "\n",
    "class ProblemaGrafoCustos(Problem):\n",
    "    def __init__(self,initial = 'I', final = 'F',grafo = {'I':{'A':2,'B':5},\n",
    "             'A':{'C':2,'D':4,'I':2},\n",
    "             'B':{'D':1,'F':5,'I':5},\n",
    "             'C':{},\n",
    "             'D':{'C':3,'F':2},\n",
    "             'F':{}}) :\n",
    "        super().__init__(initial,final)\n",
    "        self.grafo = grafo\n",
    "        \n",
    "    def actions(self,estado) :\n",
    "        sucessores = self.grafo[estado].keys()  # métodos keys() devolve a lista das chaves do dicionário\n",
    "        accoes = list(map(lambda x : \"ir de {} para {}\".format(estado,x),sucessores))\n",
    "        return accoes\n",
    "\n",
    "    def result(self, estado, accao) :\n",
    "        \"\"\"Assume-se que uma acção é da forma 'ir de X para Y'\n",
    "        \"\"\"\n",
    "        return accao.split()[-1]\n",
    "    \n",
    "    def path_cost(self, c, state1, action, state2):\n",
    "        return c + self.grafo[state1][state2]"
   ]
  },
  {
   "cell_type": "markdown",
   "metadata": {
    "colab_type": "text",
    "id": "FjkymD_czL2l"
   },
   "source": [
    "Comecemos por criar uma instância da classe do problema e mostrar o grafo e o estado inicial."
   ]
  },
  {
   "cell_type": "code",
   "execution_count": 27,
   "metadata": {
    "colab": {
     "base_uri": "https://localhost:8080/",
     "height": 34
    },
    "colab_type": "code",
    "executionInfo": {
     "elapsed": 623,
     "status": "ok",
     "timestamp": 1538853312991,
     "user": {
      "displayName": "Paulo Urbano",
      "photoUrl": "",
      "userId": "11091263212854737306"
     },
     "user_tz": -60
    },
    "id": "DjZ5zsTuzXXX",
    "outputId": "4539549d-9e76-43c1-8421-d5affc97d9e6"
   },
   "outputs": [
    {
     "name": "stdout",
     "output_type": "stream",
     "text": [
      "I\n",
      "{'I': {'A': 2, 'B': 5}, 'A': {'C': 2, 'D': 4, 'I': 2}, 'B': {'D': 1, 'F': 5, 'I': 5}, 'C': {}, 'D': {'C': 3, 'F': 2}, 'F': {}}\n"
     ]
    }
   ],
   "source": [
    "p = ProblemaGrafoCustos()\n",
    "print(p.initial)\n",
    "print(p.grafo)"
   ]
  },
  {
   "cell_type": "markdown",
   "metadata": {},
   "source": [
    "### Largura-Primeiro (árvore)\n",
    "Vamos executar uma procura em largura primeiro que **dá preferência aos nós da fronteira que estejam mais à superfície (menor número de acções)** e que nos dará uma solução óptima em termos do número de acções, e não em termos do custo. **Só garante a optimalidade quando os custos são homogéneos, o que não é o caso.\n",
    "A procura em largura, numa árvore, não entra em ciclo** porque precisamente varre os estados em largura: primeiro explora todos os estados à distância de uma acção do estado inicial, depois todos os estados à distância de duas acções do estado inicial, etc. etc., escapando a um ciclo infinito desde que haja uma solução."
   ]
  },
  {
   "cell_type": "code",
   "execution_count": 28,
   "metadata": {},
   "outputs": [],
   "source": [
    "resultado = breadth_first_tree_search(p)"
   ]
  },
  {
   "cell_type": "markdown",
   "metadata": {},
   "source": [
    "Os algoritmos de procura devolvem sempre um objecto da classe **Node** que satisfaz o **goal_test**. É a partir desse ***Node*** que se obtém a solução: a lista de acções que nos leva do estado inicial ao final.\n",
    "Para obtermos a solução, teremos de aplicar o método ***solution()***. Mais tarde olharemos com mais cuidado para essa classe e para os seus atributos e métodos."
   ]
  },
  {
   "cell_type": "code",
   "execution_count": 29,
   "metadata": {},
   "outputs": [
    {
     "name": "stdout",
     "output_type": "stream",
     "text": [
      "['ir de I para B', 'ir de B para F']\n"
     ]
    }
   ],
   "source": [
    "print(resultado.solution())"
   ]
  },
  {
   "cell_type": "markdown",
   "metadata": {},
   "source": [
    "## Casos em que não há solução\n",
    "\n",
    "Neste grafo, não há solução a partir do estado C.\n",
    "\n",
    "Vejamos o que acontece se invocarmos um dos algoritmos de procura a partir de C:"
   ]
  },
  {
   "cell_type": "code",
   "execution_count": 30,
   "metadata": {},
   "outputs": [
    {
     "ename": "AttributeError",
     "evalue": "'NoneType' object has no attribute 'solution'",
     "output_type": "error",
     "traceback": [
      "\u001B[0;31m---------------------------------------------------------------------------\u001B[0m",
      "\u001B[0;31mAttributeError\u001B[0m                            Traceback (most recent call last)",
      "Input \u001B[0;32mIn [30]\u001B[0m, in \u001B[0;36m<cell line: 3>\u001B[0;34m()\u001B[0m\n\u001B[1;32m      1\u001B[0m p \u001B[38;5;241m=\u001B[39m ProblemaGrafoCustos(\u001B[38;5;124m'\u001B[39m\u001B[38;5;124mC\u001B[39m\u001B[38;5;124m'\u001B[39m)\n\u001B[1;32m      2\u001B[0m resultado \u001B[38;5;241m=\u001B[39m breadth_first_tree_search(p)\n\u001B[0;32m----> 3\u001B[0m \u001B[38;5;28mprint\u001B[39m(\u001B[43mresultado\u001B[49m\u001B[38;5;241;43m.\u001B[39;49m\u001B[43msolution\u001B[49m())\n",
      "\u001B[0;31mAttributeError\u001B[0m: 'NoneType' object has no attribute 'solution'"
     ]
    }
   ],
   "source": [
    "p = ProblemaGrafoCustos('C')\n",
    "resultado = breadth_first_tree_search(p)\n",
    "print(resultado.solution())"
   ]
  },
  {
   "cell_type": "markdown",
   "metadata": {},
   "source": [
    "Quando não há solução o resultado é do tipo ***None***.\n",
    "Convém invocar o métdo ***solution()*** apenas quando se encontrar uma solução:"
   ]
  },
  {
   "cell_type": "code",
   "execution_count": 38,
   "metadata": {},
   "outputs": [
    {
     "name": "stdout",
     "output_type": "stream",
     "text": [
      "Sem solução!!!!\n"
     ]
    }
   ],
   "source": [
    "if resultado:\n",
    "    print(\"Solução, com custo \",resultado.path_cost)\n",
    "    for x in resultado.solution():\n",
    "        print(\"  \" + x)\n",
    "else:\n",
    "    print(\"Sem solução!!!!\")"
   ]
  },
  {
   "cell_type": "markdown",
   "metadata": {},
   "source": [
    "### Profundidade (árvore)\n",
    "O algoritmo de profundidade primeiro, **dá preferência aos nós da fronteira que estejam mais afastados da raíz (maior número de acções).** Se executarmos a procura em profundidade, **entraremos em ciclo, porque este método de procura não faz controlo de ciclos.** O primeiro sucessor de I é A e o primeiro sucessor de A é I. (A ordem dos sucessores é invertida na fronteira como verão mais abaixo).\n",
    "\n",
    "Notem que a procura em profundidade quando devolve uma solução não garante que ela seja a de menor custo, não sendo optimal. **Só garante a solução óptima se todas as soluções estiverem à mesma profundidade e os custos são homogéneos.**\n",
    "\n",
    "Recomecemos de novo criando uma nova instância do problema e apliquemos a profundidade. Descomentem o código e corram, mas cuidado que vai entrar em ciclo.\n",
    "\n",
    "Depois de confirmarem que está em ciclo, seleccionem **Kernel** e **Interrupt**."
   ]
  },
  {
   "cell_type": "code",
   "execution_count": null,
   "metadata": {},
   "outputs": [],
   "source": [
    "# p = ProblemaGrafoCustos()\n",
    "# resultado = depth_first_tree_search(p)\n",
    "# print(resultado.solution())"
   ]
  },
  {
   "cell_type": "markdown",
   "metadata": {},
   "source": [
    "Vamos eliminar os ciclos do grafo (tornando os arcos bidireccionais {I <-> A e I <-> B} em unidireccionais: {I -> A e I -> B}),vamos criar um novo problema e invocar de novo a procura em profundidade-primeiro em árvore, que, por acaso, dá a mesma solução que a largura."
   ]
  },
  {
   "cell_type": "code",
   "execution_count": 39,
   "metadata": {},
   "outputs": [],
   "source": [
    "safe={'I':{'A':2,'B':5},'A':{'C':2,'D':4},'B':{'D':1,'F':5},'C':{},'D':{'C':3,'F':2},'F':{}}"
   ]
  },
  {
   "cell_type": "code",
   "execution_count": 76,
   "metadata": {},
   "outputs": [
    {
     "name": "stdout",
     "output_type": "stream",
     "text": [
      "['ir de I para B', 'ir de B para F']\n",
      "[<Node I>, <Node B>, <Node F>]\n"
     ]
    }
   ],
   "source": [
    "ui=ProblemaGrafoCustos(grafo=safe)\n",
    "resultado = depth_first_tree_search(ui)\n",
    "print(resultado.solution())\n"
   ]
  },
  {
   "cell_type": "markdown",
   "metadata": {},
   "source": [
    "Mais abaixo iremos perceber porque é que o método ***depth_first_tree_search()*** não respeita a ordem das acções"
   ]
  },
  {
   "cell_type": "markdown",
   "metadata": {},
   "source": [
    "### A árvore de procura e a classe Node\n",
    "A procura desenvolve-se numa árvore de procura formada por nós (objectos da classe ***Node***). Uma coisa são os estados do espaço de estados, outra coisa, completamente diferente, são os nós da árvore de procura. **A cada nó corresponde um estado, mas nós diferentes podem corresponder ao mesmo estado,** porque pode haver vários caminhos entre o estado inicial e um determinado estado.\n",
    "\n",
    "#### Atributos\n",
    "Vejemos os atributos da classe Node e o seu construtor:\n",
    "\n",
    "    parent:o objecto node pai (o objecto node de quem é sucessor);\n",
    "    state: o estado;\n",
    "    Notem que se chegámos ao mesmo estado através de dois ramos diferentes, então existem dois Nodes com o mesmo estado.\n",
    "    action: a acção que nos trouxe até este estado\n",
    "    path_cost: o custo total do ramo (caminho desde a origem até este estado).\n",
    "    \n",
    "Vejemos o construtor\n",
    "\n",
    "```python\n",
    "def __init__(self, state, parent=None, action=None, path_cost=0):\n",
    "        \"\"\"Create a search tree Node, derived from a parent by an action.\"\"\"\n",
    "        self.state = state\n",
    "        self.parent = parent\n",
    "        self.action = action\n",
    "        self.path_cost = path_cost\n",
    "        self.depth = 0\n",
    "        if parent:\n",
    "            self.depth = parent.depth + 1\n",
    "```"
   ]
  },
  {
   "cell_type": "markdown",
   "metadata": {},
   "source": [
    "Qualquer árvore de procura vai iniciar-se com a fronteira constituída apenas pela sua raíz, um objecto da classe Node com o estado inicial, sem **parent**, sem **action** e com o **path_cost** a 0. Esse nó só recebe um parâmetro, que é o estado e os restantes atributos ficarão com os valores por omissão.\n",
    "\n",
    "Vamos construir um **Node** correspondente à raíz da árvore de procura, com o estado inicial:"
   ]
  },
  {
   "cell_type": "code",
   "execution_count": 17,
   "metadata": {},
   "outputs": [
    {
     "name": "stdout",
     "output_type": "stream",
     "text": [
      "<Node I>\n"
     ]
    }
   ],
   "source": [
    "raiz=Node(ui.initial)\n",
    "print(raiz)"
   ]
  },
  {
   "cell_type": "markdown",
   "metadata": {},
   "source": [
    "Vamos mostrar o conteúdo desse nó:"
   ]
  },
  {
   "cell_type": "code",
   "execution_count": 18,
   "metadata": {},
   "outputs": [
    {
     "name": "stdout",
     "output_type": "stream",
     "text": [
      "Estado: I\n",
      "Acção: None\n",
      "Nó pai: None\n",
      "Custo do caminho: 0\n"
     ]
    }
   ],
   "source": [
    "print(\"Estado:\",raiz.state)\n",
    "print(\"Acção:\",raiz.action)\n",
    "print(\"Nó pai:\",raiz.parent)\n",
    "print(\"Custo do caminho:\",raiz.path_cost)"
   ]
  },
  {
   "cell_type": "markdown",
   "metadata": {},
   "source": [
    "Notem mais uma vez que qualquer objecto da classe **Node** corresponde a um ramo da árvore de procura. O seu atributo **state** corresponde ao estado folha desse caminho, mais longe da raíz. Para ir trepando pelo ramo, (de ***parent*** em ***parent***) e obtermos todos os estados do ramo ou a sequência de acções, até à raíz, existem os métodos ***path()*** e ***solution()***."
   ]
  },
  {
   "cell_type": "markdown",
   "metadata": {},
   "source": [
    "Se os aplicarmos ao nó raíz, obtemos, um caminho só com o nó raíz e uma lista vazia de acções:"
   ]
  },
  {
   "cell_type": "code",
   "execution_count": 19,
   "metadata": {},
   "outputs": [
    {
     "name": "stdout",
     "output_type": "stream",
     "text": [
      "[<Node I>]\n",
      "[]\n"
     ]
    }
   ],
   "source": [
    "print(raiz.path())\n",
    "print(raiz.solution())"
   ]
  },
  {
   "cell_type": "markdown",
   "metadata": {},
   "source": [
    "Mas se os aplicarmos ao nó devolvido pelos algoritmos de procura, em que o estado corresponde a um estado final, obteremos a solução do problema."
   ]
  },
  {
   "cell_type": "code",
   "execution_count": 20,
   "metadata": {},
   "outputs": [
    {
     "name": "stdout",
     "output_type": "stream",
     "text": [
      "Solução: ['ir de I para B', 'ir de B para F']\n",
      "Ramo: [<Node I>, <Node B>, <Node F>]\n"
     ]
    }
   ],
   "source": [
    "print(\"Solução:\",resultado.solution())\n",
    "print(\"Ramo:\",resultado.path())"
   ]
  },
  {
   "cell_type": "markdown",
   "metadata": {},
   "source": [
    "Vamos inspeccionar os métodos ***solution()*** e ***path()***."
   ]
  },
  {
   "cell_type": "markdown",
   "metadata": {},
   "source": [
    "``` python\n",
    "    def solution(self):\n",
    "        \"\"\"Return the sequence of actions to go from the root to this node.\"\"\"\n",
    "        return [node.action for node in self.path()[1:]]\n",
    "\n",
    "    def path(self):\n",
    "        \"\"\"Return a list of nodes forming the path from the root to this node.\"\"\"\n",
    "        node, path_back = self, []\n",
    "        while node:\n",
    "            path_back.append(node)\n",
    "            node = node.parent\n",
    "        return list(reversed(path_back))\n",
    "```\n",
    "Notem que o método ***path()*** vai recolhendo numa lista os nós desde a folha, subindo pelo atributo **parent**, e depois essa lista é invertida.\n",
    "\n",
    "O método ***solution()*** devolve numa lista a acção para cada nó que faz parte da lista devolvida por ***path()***, ignorando a primeira acção que é **None**."
   ]
  },
  {
   "cell_type": "markdown",
   "metadata": {},
   "source": [
    "Continuemos. \n",
    "Vamos devolver uma solução mais **pretty**, que nos devolve também o custo, fazendo uso do atributo **path_cost** da classe **Node**."
   ]
  },
  {
   "cell_type": "code",
   "execution_count": 21,
   "metadata": {},
   "outputs": [
    {
     "name": "stdout",
     "output_type": "stream",
     "text": [
      "Solução, com custo 10\n",
      "  ir de I para B\n",
      "  ir de B para F\n"
     ]
    }
   ],
   "source": [
    "print(\"Solução, com custo\",resultado.path_cost)\n",
    "for x in resultado.solution():\n",
    "    print(\"  \" + x)"
   ]
  },
  {
   "cell_type": "markdown",
   "metadata": {},
   "source": [
    "#### Exercício 1\n",
    "Desenvolvam o código para devolver não só a sequência das acções, mas indiquem o estado inicial e final e também os custos de cada acção e o custo final.\n",
    "```\n",
    "Solução, com custo 10\n",
    "Começamos em: I\n",
    "  ir de I para B (5)\n",
    "  ir de B para F (5)\n",
    "F satisfaz o objectivo\n",
    "```"
   ]
  },
  {
   "cell_type": "code",
   "execution_count": 97,
   "metadata": {},
   "outputs": [
    {
     "name": "stdout",
     "output_type": "stream",
     "text": [
      "Solução, com custo 10\n",
      "Começamos em I\n",
      "\tir de I para B (5)\n",
      "\tir de B para F (5)\n",
      "F satisfaz o objetivo\n"
     ]
    }
   ],
   "source": [
    "# Resolução do exercício 1\n",
    "print(\"Solução, com custo\", resultado.path_cost)\n",
    "\n",
    "path = resultado.path()\n",
    "path_iter = iter(path)\n",
    "print(f'Começamos em {next(path_iter).state}')\n",
    "\n",
    "for node in path_iter:\n",
    "    print(f'\\t{node.action} ({node.path_cost - node.parent.path_cost})')\n",
    "\n",
    "print(f'{path[-1].state} satisfaz o objetivo')"
   ]
  },
  {
   "cell_type": "markdown",
   "metadata": {},
   "source": [
    "Regressemos à árvore formada apenas pela raíz, o nó com o estado inicial do problema do grafo, I."
   ]
  },
  {
   "cell_type": "code",
   "execution_count": 73,
   "metadata": {},
   "outputs": [
    {
     "data": {
      "text/plain": "<Node I>"
     },
     "execution_count": 73,
     "metadata": {},
     "output_type": "execute_result"
    }
   ],
   "source": [
    "raiz"
   ]
  },
  {
   "cell_type": "markdown",
   "metadata": {},
   "source": [
    "Se quisermos expandir um nó, que vai criar uma lista de novos nós, em que os estados desses nós serão os sucessores do nó referido, pela ordem das acções, usaremos o método ***expand()*** da classe **Node**, que recebe como argumento a instância do problema. Notem que esse método é que fará uso dos métodos implicados na formulação do problema em concreto: ***actions()***, ***result()*** e ***path_cost()***.\n",
    "Vamos então expandir o nó que acabámos de criar."
   ]
  },
  {
   "cell_type": "code",
   "execution_count": 74,
   "metadata": {},
   "outputs": [
    {
     "name": "stdout",
     "output_type": "stream",
     "text": [
      "[<Node A>, <Node B>]\n"
     ]
    }
   ],
   "source": [
    "novos = raiz.expand(p)\n",
    "print(novos)"
   ]
  },
  {
   "cell_type": "markdown",
   "metadata": {},
   "source": [
    "Vamos inspeccionar os novos nós."
   ]
  },
  {
   "cell_type": "code",
   "execution_count": 75,
   "metadata": {},
   "outputs": [
    {
     "name": "stdout",
     "output_type": "stream",
     "text": [
      "Primeiro sucessor:\n",
      "estado = A\n",
      "pai= <Node I>\n",
      "accao = ir de I para A\n",
      "custo do caminho = 2\n",
      "\n",
      "Segundo sucessor:\n",
      "estado = B\n",
      "pai= <Node I>\n",
      "accao = ir de I para B\n",
      "custo do caminho = 5\n"
     ]
    }
   ],
   "source": [
    "prim=novos[0]\n",
    "print(\"Primeiro sucessor:\")\n",
    "print(\"estado =\",prim.state)\n",
    "print(\"pai=\",prim.parent)\n",
    "print(\"accao =\",prim.action)\n",
    "print(\"custo do caminho =\",prim.path_cost)\n",
    "seg=novos[1]\n",
    "print(\"\\nSegundo sucessor:\")\n",
    "print(\"estado =\",seg.state)\n",
    "print(\"pai=\",seg.parent)\n",
    "print(\"accao =\",seg.action)\n",
    "print(\"custo do caminho =\",seg.path_cost)"
   ]
  },
  {
   "cell_type": "markdown",
   "metadata": {},
   "source": [
    "Reparem que os nós sucessores ficaram ligados ao nó pai **Node I**, os custos foram actualizados e a última acção de cada um deles foi guardada."
   ]
  },
  {
   "cell_type": "markdown",
   "metadata": {},
   "source": [
    "Vejam o código do método ***expand()*** que faz uso dos métodos da classe **Problem()** ou neste caso da classe **ProblemaGrafoCustos**: ***actions()***, ***result()*** e ***path_cost()***, que aplica ao seu estado a lista de acções, gerando para cada acção, o novo nó sucessor aplicando o método ***child_node()***, e devolve a lista desses nós sucessores."
   ]
  },
  {
   "cell_type": "markdown",
   "metadata": {},
   "source": [
    "``` python\n",
    "    def expand(self, problem):\n",
    "        \"\"\"List the nodes reachable in one step from this node.\"\"\"\n",
    "        return [self.child_node(problem, action)\n",
    "                for action in problem.actions(self.state)]\n",
    "```"
   ]
  },
  {
   "cell_type": "markdown",
   "metadata": {},
   "source": [
    "Vejam o método ***child_node()*** que gera o estado que resulta da acção e cria o novo **Node**, preenchendo os atributos."
   ]
  },
  {
   "cell_type": "markdown",
   "metadata": {},
   "source": [
    "``` python\n",
    "    def child_node(self, problem, action):\n",
    "        next = problem.result(self.state, action)\n",
    "        return Node(next, self, action,\n",
    "                    problem.path_cost(self.path_cost, self.state,\n",
    "                                      action, next))\n",
    "```"
   ]
  },
  {
   "cell_type": "markdown",
   "metadata": {},
   "source": [
    "#### Exercício 2 \n",
    "Expandam o nó B, o segundo dos sucessores do nó I, e mostrem os atributos dos seus sucessores, através de um ciclo for, testando também se qualquer deles é final"
   ]
  },
  {
   "cell_type": "code",
   "execution_count": 84,
   "metadata": {},
   "outputs": [
    {
     "name": "stdout",
     "output_type": "stream",
     "text": [
      "Sucessor 0:\n",
      "estado = D\n",
      "pai = <Node B>\n",
      "accao = ir de B para D\n",
      "custo do caminho = 6\n",
      "\n",
      "Sucessor 1:\n",
      "estado = F\n",
      "pai = <Node B>\n",
      "accao = ir de B para F\n",
      "custo do caminho = 10\n",
      "\n",
      "Sucessor 2:\n",
      "estado = I\n",
      "pai = <Node B>\n",
      "accao = ir de B para I\n",
      "custo do caminho = 10\n",
      "\n"
     ]
    }
   ],
   "source": [
    "## resolução do exercício 2\n",
    "exp_b = novos[1].expand(p)\n",
    "for i, node in enumerate(exp_b):\n",
    "    print(f'Sucessor {i}:')\n",
    "    print(f'estado = {node.state}')\n",
    "    print(f'pai = {node.parent}')\n",
    "    print(f'accao = {node.action}')\n",
    "    print(f'custo do caminho = {node.path_cost}\\n')"
   ]
  },
  {
   "cell_type": "markdown",
   "metadata": {},
   "source": [
    "### Algoritmo Genérico para a largura-primeiro e para a profundidade-primeiro\n",
    "Os algoritmos de procura em profundidade e largura, que recebem como argumento a instância do problema, invocam ambos o método ***tree_search()***, passando-lhe o problema e a fronteira da árvore de procura, inicialmente vazia. No caso da **profundidade usa-se uma pilha, no caso da largura usa-se uma fila para a fronteira**, passadas ambas vazias.\n",
    "\n",
    "```python\n",
    "def breadth_first_tree_search(problem):\n",
    "    \"\"\"Search the shallowest nodes in the search tree first.\"\"\"\n",
    "    return tree_search(problem, FIFOQueue())\n",
    "\n",
    "\n",
    "def depth_first_tree_search(problem):\n",
    "    \"\"\"Search the deepest nodes in the search tree first.\"\"\"\n",
    "    return tree_search(problem, Stack())\n",
    "```"
   ]
  },
  {
   "cell_type": "markdown",
   "metadata": {},
   "source": [
    "Olhemos com algum detalhe para o método ***tree_search()***."
   ]
  },
  {
   "cell_type": "markdown",
   "metadata": {},
   "source": [
    "``` python\n",
    "def tree_search(problem, frontier):\n",
    "    frontier.append(Node(problem.initial))\n",
    "    while frontier:\n",
    "        node = frontier.pop()\n",
    "        if problem.goal_test(node.state):\n",
    "            return node\n",
    "        frontier.extend(node.expand(problem))\n",
    "    return None\n",
    "```"
   ]
  },
  {
   "cell_type": "markdown",
   "metadata": {},
   "source": [
    "O ***tree_search()*** recebe dois parâmetros: o problema e a fronteira inicial que está vazia.\n",
    "    \n",
    "    1. Inicialmente é adicionada à fronteira vazia um objecto da classe **Node** formado a partir do estado inicial obtido do problema.\n",
    "    2. Enquanto a fronteira não for vazia:\n",
    "        2a. Retira o primeiro da fronteira (no caso da pilha ou da fila, o primeiro varia)\n",
    "        2b. se satisfaz o objectivo devolve, senão expande o nó retirado e estende a fronteira com os novos nós (sucessores)\n",
    "    3. Se não saiu antes é porque não há solução, (a fronteira está vazia) devolve None -  o espaço de estados foi esgotado\n",
    "    \n",
    "Expande-se a fronteira com os novos **Nodes** que resultam da aplicação das acções ao estado do **Node** que foi retirado da fronteira. Reparem que tanto a classe **Stack** como **FIFOQueue** possuem os métodos ***append()*** e ***extend()***. "
   ]
  },
  {
   "cell_type": "markdown",
   "metadata": {},
   "source": [
    "Vamos brincar com a **Stack**"
   ]
  },
  {
   "cell_type": "code",
   "execution_count": 85,
   "metadata": {},
   "outputs": [
    {
     "name": "stdout",
     "output_type": "stream",
     "text": [
      "Tipo= <class 'list'>\n",
      "[1]\n",
      "[1, 2]\n",
      "[1]\n"
     ]
    }
   ],
   "source": [
    "x = Stack()\n",
    "print(\"Tipo=\",type(x))\n",
    "x.append(1)\n",
    "print(x)\n",
    "x.append(2)\n",
    "print(x)\n",
    "x.pop()\n",
    "print(x)"
   ]
  },
  {
   "cell_type": "code",
   "execution_count": 86,
   "metadata": {},
   "outputs": [
    {
     "name": "stdout",
     "output_type": "stream",
     "text": [
      "[1, 10, 11, 12]\n",
      "[1, 10, 11]\n"
     ]
    }
   ],
   "source": [
    "x.extend([10,11,12])\n",
    "print(x)\n",
    "x.pop()\n",
    "print(x)"
   ]
  },
  {
   "cell_type": "markdown",
   "metadata": {},
   "source": [
    "A classe **Stack** corresponde a uma lista e os elementos são retirados do fim da lista com ***pop()***, inseridos no fim com o ***append()*** e concatenados no fim com ***extend()***. O **FIFOQueue** é uma classe que tem um atributo **queue** que é da classe **deque**, no módulo collections que é uma fila \"double-ended\" na qual os elementos podem ser tanto inseridos como apagados de ambas as pontas da fila. Brinquemos agora com a **FIFOQueue** e **deque**."
   ]
  },
  {
   "cell_type": "code",
   "execution_count": 87,
   "metadata": {},
   "outputs": [
    {
     "name": "stdout",
     "output_type": "stream",
     "text": [
      "deque([])\n",
      "<class 'utils.FIFOQueue'>\n",
      "Adicionemos 2:\n",
      "deque([2])\n",
      "Concatenemos [5,6,7]\n",
      "deque([2, 5, 6, 7])\n",
      "Façamos pop:\n",
      "deque([5, 6, 7])\n",
      "Adicionemos 20:\n",
      "deque([5, 6, 7, 20])\n"
     ]
    }
   ],
   "source": [
    "f = FIFOQueue()\n",
    "print(f.queue)\n",
    "print(type(f))\n",
    "print('Adicionemos 2:')\n",
    "f.append(2)\n",
    "print(f.queue)\n",
    "print('Concatenemos [5,6,7]')\n",
    "f.extend([5,6,7])\n",
    "print(f.queue)\n",
    "print('Façamos pop:')\n",
    "z=f.pop()\n",
    "print(f.queue)\n",
    "print('Adicionemos 20:')\n",
    "f.append(20)\n",
    "print(f.queue)"
   ]
  },
  {
   "cell_type": "markdown",
   "metadata": {},
   "source": [
    "### Porque entrou em ciclo a procura em Profundidade-Primeiro?\n",
    "Para vermos porque é que a procura em profundidade entrou em ciclo, vamos simular o funcionamento do ***depth_first_tree_search()*** a partir do **Node** I, que está na variável raiz."
   ]
  },
  {
   "cell_type": "code",
   "execution_count": 88,
   "metadata": {},
   "outputs": [
    {
     "name": "stdout",
     "output_type": "stream",
     "text": [
      "Fronteira: [<Node I>]\n"
     ]
    }
   ],
   "source": [
    "fronteira = Stack()\n",
    "fronteira.append(raiz)\n",
    "print(\"Fronteira:\",fronteira)"
   ]
  },
  {
   "cell_type": "markdown",
   "metadata": {},
   "source": [
    "A ordem dos sucessores corresponde à ordem dos estados sucessores na representação do grafo no dicionário, mas como é uma pilha, o nó a que fazemos pop() é:"
   ]
  },
  {
   "cell_type": "code",
   "execution_count": 90,
   "metadata": {},
   "outputs": [
    {
     "name": "stdout",
     "output_type": "stream",
     "text": [
      "Fazemos POP de <Node I>\n",
      "que expandimos e fazemos push para a fronteira\n",
      "Fronteira: [<Node A>, <Node B>]\n"
     ]
    }
   ],
   "source": [
    "expandir = fronteira.pop()\n",
    "print(\"Fazemos POP de\",expandir)\n",
    "print(\"que expandimos e fazemos push para a fronteira\")\n",
    "fronteira.extend(expandir.expand(p))\n",
    "print(\"Fronteira:\",fronteira)"
   ]
  },
  {
   "cell_type": "markdown",
   "metadata": {},
   "source": [
    "Continuemos a simular a profundidade primeiro. Podemos ver que o primeiro da pilha é o último da lista, o Nó B e que B é o estado que resulta da segunda acção. A ordem dos sucessores é invertida quando se empilha."
   ]
  },
  {
   "cell_type": "code",
   "execution_count": 91,
   "metadata": {},
   "outputs": [
    {
     "name": "stdout",
     "output_type": "stream",
     "text": [
      "Fazemos POP de <Node B>\n",
      "que expandimos e fazemos push para a fronteira de [<Node D>, <Node F>, <Node I>]\n",
      "Fronteira: [<Node A>, <Node D>, <Node F>, <Node I>]\n"
     ]
    }
   ],
   "source": [
    "expandir = fronteira.pop()\n",
    "print(\"Fazemos POP de\",expandir)\n",
    "print(\"que expandimos e fazemos push para a fronteira de\",expandir.expand(p))\n",
    "fronteira.extend(expandir.expand(p))\n",
    "print(\"Fronteira:\",fronteira)"
   ]
  },
  {
   "cell_type": "markdown",
   "metadata": {},
   "source": [
    "Agora, vamos fazer pop() e gerar os novos sucessores que irão para a fronteira empilhadinhos."
   ]
  },
  {
   "cell_type": "code",
   "execution_count": 92,
   "metadata": {},
   "outputs": [
    {
     "data": {
      "text/plain": "['ir de I para B', 'ir de B para I']"
     },
     "execution_count": 92,
     "metadata": {},
     "output_type": "execute_result"
    }
   ],
   "source": [
    "prim = fronteira.pop()\n",
    "prim.solution()"
   ]
  },
  {
   "cell_type": "markdown",
   "metadata": {},
   "source": [
    "Ao empilharmos os sucessores, a sua ordem inverte-se e o ***Node I*** vai ser o primeiro a ser expandido, dando origem ao ciclo... porque há dois I's no ramo, na raíz e na ponta."
   ]
  },
  {
   "cell_type": "markdown",
   "metadata": {},
   "source": [
    "#### Exercício 3\n",
    "Crie uma nova versão do método ***tree_search()***, o ***tree_echo_search()*** que imprime os estados à medida que vão sendo expandidos. Adapte os dois algoritmos (prof. e larg. prim) de modo a usarem essa nova versão. Teste com o grafo abstracto e tanto com a largura-primeiro como com a procura em profundidade-primeiro (neste caso o grafo sem ciclos)."
   ]
  },
  {
   "cell_type": "code",
   "execution_count": 96,
   "metadata": {},
   "outputs": [
    {
     "name": "stdout",
     "output_type": "stream",
     "text": [
      "---------- BFS ECHO ---------------\n",
      "estado = A\n",
      "pai = <Node I>\n",
      "accao = ir de I para A\n",
      "custo do caminho = 2\n",
      "\n",
      "estado = B\n",
      "pai = <Node I>\n",
      "accao = ir de I para B\n",
      "custo do caminho = 5\n",
      "\n",
      "estado = C\n",
      "pai = <Node A>\n",
      "accao = ir de A para C\n",
      "custo do caminho = 4\n",
      "\n",
      "estado = D\n",
      "pai = <Node A>\n",
      "accao = ir de A para D\n",
      "custo do caminho = 6\n",
      "\n",
      "estado = D\n",
      "pai = <Node B>\n",
      "accao = ir de B para D\n",
      "custo do caminho = 6\n",
      "\n",
      "estado = F\n",
      "pai = <Node B>\n",
      "accao = ir de B para F\n",
      "custo do caminho = 10\n",
      "\n",
      "estado = C\n",
      "pai = <Node D>\n",
      "accao = ir de D para C\n",
      "custo do caminho = 9\n",
      "\n",
      "estado = F\n",
      "pai = <Node D>\n",
      "accao = ir de D para F\n",
      "custo do caminho = 8\n",
      "\n",
      "estado = C\n",
      "pai = <Node D>\n",
      "accao = ir de D para C\n",
      "custo do caminho = 9\n",
      "\n",
      "estado = F\n",
      "pai = <Node D>\n",
      "accao = ir de D para F\n",
      "custo do caminho = 8\n",
      "\n",
      "['ir de I para B', 'ir de B para F']\n",
      "---------- DFS ECHO ---------------\n",
      "estado = A\n",
      "pai = <Node I>\n",
      "accao = ir de I para A\n",
      "custo do caminho = 2\n",
      "\n",
      "estado = B\n",
      "pai = <Node I>\n",
      "accao = ir de I para B\n",
      "custo do caminho = 5\n",
      "\n",
      "estado = D\n",
      "pai = <Node B>\n",
      "accao = ir de B para D\n",
      "custo do caminho = 6\n",
      "\n",
      "estado = F\n",
      "pai = <Node B>\n",
      "accao = ir de B para F\n",
      "custo do caminho = 10\n",
      "\n",
      "['ir de I para B', 'ir de B para F']\n"
     ]
    }
   ],
   "source": [
    "# Resolução do exercício 3\n",
    "def imprime_estado(node):\n",
    "    print(f'estado = {node.state}')\n",
    "    print(f'pai = {node.parent}')\n",
    "    print(f'accao = {node.action}')\n",
    "    print(f'custo do caminho = {node.path_cost}\\n')\n",
    "\n",
    "def tree_echo_search(problem, frontier):\n",
    "    frontier.append(Node(problem.initial))\n",
    "\n",
    "    while frontier:\n",
    "        node = frontier.pop()\n",
    "        if problem.goal_test(node.state):\n",
    "            return node\n",
    "\n",
    "        expandidos = node.expand(problem)\n",
    "        for no in expandidos:\n",
    "            imprime_estado(no)\n",
    "\n",
    "        frontier.extend(expandidos)\n",
    "\n",
    "    return None\n",
    "\n",
    "def breadth_first_tree_echo_search(problem):\n",
    "    \"\"\"Search the shallowest nodes in the search tree first.\"\"\"\n",
    "    return tree_echo_search(problem, FIFOQueue())\n",
    "\n",
    "ui = ProblemaGrafoCustos(grafo=safe)\n",
    "print('---------- BFS ECHO ---------------')\n",
    "resultado = breadth_first_tree_echo_search(ui)\n",
    "print(resultado.solution())\n",
    "\n",
    "\n",
    "def depth_first_tree_echo_search(problem):\n",
    "    \"\"\"Search the deepest nodes in the search tree first.\"\"\"\n",
    "    return tree_echo_search(problem, Stack())\n",
    "\n",
    "print('---------- DFS ECHO ---------------')\n",
    "resultado = depth_first_tree_echo_search(ui)\n",
    "print(resultado.solution())"
   ]
  },
  {
   "cell_type": "markdown",
   "metadata": {},
   "source": [
    "#### Exercício 4\n",
    "Do modo que está feito o ***tree_search()***, ao usarmos uma Stack, a ordem das acções e da adição à fronteira dos novos estados, não vai ser respeitada, sendo invertida. Altere o ***tree_search()*** para o ***tree_ord_search()*** de modo a que ordem de visita dos estados corresponda à ordem dos sucessores no dicionário, e mostrando a ordem de expansão dos nós apenas para confirmar que a ordem da expansão dos nós corresponde à ordem das acções na procura em profundidade-primeiro!"
   ]
  },
  {
   "cell_type": "code",
   "execution_count": null,
   "metadata": {},
   "outputs": [],
   "source": [
    "# Resolução do exercício 4\n"
   ]
  },
  {
   "cell_type": "markdown",
   "metadata": {},
   "source": [
    "#### Exercício 5\n",
    "A pesquisa em profundidade é muito sensível à ordem das acções. É habitual baralhar a lista de acções de modo aleatório ao expandir os nós. \n",
    "Crie uma nova versão do método ***tree_search()***, o ***tree_shuffle_search()*** que resolva esse problema e crie também o ***depth_first_shuffle_tree_search()***.\n",
    "Teste com o grafo abstracto."
   ]
  },
  {
   "cell_type": "code",
   "execution_count": null,
   "metadata": {},
   "outputs": [],
   "source": [
    "# Resolução do exercício 5\n"
   ]
  },
  {
   "cell_type": "markdown",
   "metadata": {},
   "source": [
    "##### Exercício 6\n",
    "Construa uma função que invoca a variante da profundidade-primeiro feita no exercício 5, para um problema, um número de vezes, passados ambos por parâmetros e que devolve a média dos tamanhos das diversas soluções encontradas, bem como os comprimentos da menor e da maior solução. Teste esse método com o problema do troco, por exemplo, que está formulado a seguir e em que não há risco de ciclos, calculando para 1000 resoluções por exemplo, confirmando que a profundidade-primeiro é muito sensível à ordem das acções. Compare com a largura-primeiro que garante o troco no menor número de moedas, dando a solução mais curta."
   ]
  },
  {
   "cell_type": "code",
   "execution_count": 98,
   "metadata": {},
   "outputs": [],
   "source": [
    "class Troco(Problem):\n",
    "    \"\"\" Vamos ter como estado com um inteiro.\n",
    "    \"\"\"\n",
    "      \n",
    "    def __init__(self, initial=0, goal=87, moedas = [50,20,10,5,2,1] ):\n",
    "        self.initial, self.goal, self.moedas = initial, goal, moedas\n",
    "            \n",
    "    def actions(self, state):\n",
    "        \"\"\"Indicação das peças que vão deslizar...\"\"\"\n",
    "        return [m for m in self.moedas if state+m <= self.goal]\n",
    "    \n",
    "    def result(self, state, action):\n",
    "        \"\"\"adicionar mais uma moeda  \"\"\"\n",
    "        return state + action"
   ]
  },
  {
   "cell_type": "code",
   "execution_count": 102,
   "metadata": {},
   "outputs": [
    {
     "name": "stdout",
     "output_type": "stream",
     "text": [
      "[50, 20, 10, 5, 2]\n",
      "[1, 1, 1, 1, 1, 1, 1, 1, 1, 1, 1, 1, 1, 1, 1, 1, 1, 1, 1, 1, 1, 1, 1, 1, 1, 1, 1, 1, 1, 1, 1, 1, 1, 1, 1, 1, 1, 1, 1, 1, 1, 1, 1, 1, 1, 1, 1, 1, 1, 1, 1, 1, 1, 1, 1, 1, 1, 1, 1, 1, 1, 1, 1, 1, 1, 1, 1, 1, 1, 1, 1, 1, 1, 1, 1, 1, 1, 1, 1, 1, 1, 1, 1, 1, 1, 1, 1]\n"
     ]
    }
   ],
   "source": [
    "# Resolução do exercício 6\n",
    "ptroco = Troco()\n",
    "bfs_troco = breadth_first_tree_search(ptroco)\n",
    "print(bfs_troco.solution())\n",
    "\n",
    "dfs_troco = depth_first_tree_search(ptroco)\n",
    "print(dfs_troco.solution())"
   ]
  },
  {
   "cell_type": "markdown",
   "metadata": {},
   "source": [
    "#### Exercício 7\n",
    "Crie uma versão dos métodos de procura em profundidade-primeiro e largura-primeiro que calculam e imprimam o maior tamanho da fronteira durante o processo de procura.\n",
    "Compare o consumo de memória para a largura-primeiro e a profundidade-primeiro para o problema do puzzle da formação do troco."
   ]
  },
  {
   "cell_type": "code",
   "execution_count": null,
   "metadata": {},
   "outputs": [],
   "source": [
    "# Resolução do exercício 7\n",
    "\n"
   ]
  },
  {
   "cell_type": "markdown",
   "metadata": {},
   "source": [
    "#### Exercício 8\n",
    "Inverta a ordem das moedas (acções ou construtor) na formulação do problema do troco e compare os resultados da profundidade-primeiro com os do exercício anterior. Vamos também confirmar que a ordem das acções pode afectar a largura."
   ]
  },
  {
   "cell_type": "code",
   "execution_count": null,
   "metadata": {},
   "outputs": [],
   "source": [
    "# Resolução do exercício 8\n"
   ]
  },
  {
   "cell_type": "markdown",
   "metadata": {},
   "source": [
    "#### Exercício 9\n",
    "Compare os algoritmos de procura em profundidade-primeiro e de largura-primeiro em termos de tempo tanto para o caso do exercício 7 como 8."
   ]
  },
  {
   "cell_type": "code",
   "execution_count": null,
   "metadata": {},
   "outputs": [],
   "source": [
    "# resolução do exercício 9  \n"
   ]
  },
  {
   "cell_type": "markdown",
   "metadata": {},
   "source": [
    "### Aprofundamento Progressivo (árvore)\n",
    "Se aplicarmos o aprofundamento progressivo não teremos também a garantia de encontrar a solução óptima porque os custos não são homogéneos. **Este algoritmo garante a solução mais próxima do estado inicial, em termos de número de acções,** como a procura em largura, mas com um preço menor do que a largura em termos de memória utilizada.\n",
    "Começa por fazer uma procura limitada ao estado inicial e à profundidade 0, depois limitada à profundidade 1, a seguir limitada à profundidade 2, etc. etc., evitando os ciclos até encontrar uma solução que esteja mais próxima da raíz da árvore em termos do número de movimentos ou acções.\n",
    "Vamos aplicar o aprofundamento progressivo ao grafo abstracto."
   ]
  },
  {
   "cell_type": "code",
   "execution_count": null,
   "metadata": {},
   "outputs": [],
   "source": [
    "p = ProblemaGrafoCustos()\n",
    "resultado = iterative_deepening_search(p)\n",
    "print(\"solução aprofundamento progressivo (árvore) com custo\", str(resultado.path_cost)+\":\")\n",
    "for x in resultado.solution():\n",
    "    print(x)"
   ]
  },
  {
   "cell_type": "markdown",
   "metadata": {},
   "source": [
    "Vamos aplicar também ao problema dos trocos e calculemos o tempo que demora."
   ]
  },
  {
   "cell_type": "code",
   "execution_count": null,
   "metadata": {},
   "outputs": [],
   "source": [
    "import timeit\n",
    "t = Troco()\n",
    "start = timeit.default_timer()\n",
    "resultado = iterative_deepening_search(t)\n",
    "print(\"solução aprofundamento progressivo (árvore) com custo\", str(resultado.path_cost)+\":\")\n",
    "print(resultado.solution())\n",
    "stop = timeit.default_timer()\n",
    "\n",
    "print('Time: ', stop - start) "
   ]
  },
  {
   "cell_type": "markdown",
   "metadata": {},
   "source": [
    "Vamos comparar em termos de tempo com a procura em largura."
   ]
  },
  {
   "cell_type": "code",
   "execution_count": null,
   "metadata": {},
   "outputs": [],
   "source": [
    "start = timeit.default_timer()\n",
    "\n",
    "#Your statements here\n",
    "print(\"Resultados da Largura:\")\n",
    "res= breadth_first_tree_search(t)\n",
    "print(res.solution())\n",
    "print(\"Solução óptima:\",len(res.solution()))\n",
    "\n",
    "stop = timeit.default_timer()\n",
    "\n",
    "print('Time: ', stop - start)  "
   ]
  },
  {
   "cell_type": "markdown",
   "metadata": {},
   "source": [
    "#### Exercício 10\n",
    "O aprofundamento progressivo do pacote aima-python é o seguinte:\n",
    "\n",
    "```Python\n",
    "def iterative_deepening_search(problem):\n",
    "    \"\"\"[Figure 3.18]\"\"\"\n",
    "    for depth in range(sys.maxsize):\n",
    "        result = depth_limited_search(problem, depth)\n",
    "        if result != 'cutoff':\n",
    "            return result\n",
    "```\n",
    "\n",
    "e começa sempre com a profundidade 1 e progride em incrementos de 1.\n",
    "Crie uma variante em que a profundidade inicial e o incremento sejam passados por parâmetro.\n",
    "Teste-a com algum dos problemas."
   ]
  },
  {
   "cell_type": "code",
   "execution_count": null,
   "metadata": {},
   "outputs": [],
   "source": [
    "# Resolução do exercício 10\n"
   ]
  },
  {
   "cell_type": "markdown",
   "metadata": {},
   "source": [
    "#### Exercício 11\n",
    "Faça uma variante do aprofundamento progressivo de modo a mostrar a sequência de nós expandidos.\n",
    "Aplique-o ao grafo abstracto com ciclos."
   ]
  },
  {
   "cell_type": "code",
   "execution_count": null,
   "metadata": {},
   "outputs": [],
   "source": [
    "# Resolução do exercício 11\n"
   ]
  },
  {
   "cell_type": "code",
   "execution_count": null,
   "metadata": {},
   "outputs": [],
   "source": []
  }
 ],
 "metadata": {
  "colab": {
   "collapsed_sections": [],
   "name": "Untitled0.ipynb",
   "provenance": [],
   "version": "0.3.2"
  },
  "kernelspec": {
   "display_name": "Python 3 (ipykernel)",
   "language": "python",
   "name": "python3"
  },
  "language_info": {
   "codemirror_mode": {
    "name": "ipython",
    "version": 3
   },
   "file_extension": ".py",
   "mimetype": "text/x-python",
   "name": "python",
   "nbconvert_exporter": "python",
   "pygments_lexer": "ipython3",
   "version": "3.8.12"
  }
 },
 "nbformat": 4,
 "nbformat_minor": 2
}