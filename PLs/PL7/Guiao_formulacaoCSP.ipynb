{
 "cells": [
  {
   "cell_type": "markdown",
   "metadata": {},
   "source": [
    "# Sistemas Inteligentes\n",
    "\n",
    "## Formulação de Problemas de Satisfação de Restrições\n",
    "\n",
    "\n",
    "## Conteúdos\n",
    "\n",
    "* A classe CSP\n",
    "    * definição de variáveis, domínios, vizinhos e restrições\n",
    "* Problema das três variáveis todas diferentes\n",
    "* Problema dos jogadores de Golfe\n",
    "* Exercícios"
   ]
  },
  {
   "cell_type": "markdown",
   "metadata": {},
   "source": [
    "### Introdução\n",
    "\n",
    "Nesta aula vamos formular e resolver problemas de satisfação de restrições - **Constraint Satisfaction Problems (CSP)**.\n",
    "O contexto é o analisado nas aulas T e TP em que um CSP é caracterizado por 3 componentes:\n",
    "- **Variáveis** - para as quais se quer encontrar uma afectação (*assigment*) completa e consistente (solução); podem ser discretas ou contínuas.\n",
    "- **Domínios** - indicam os valores possíveis das variáveis; podem ser finitos ou infinitos.\n",
    "- **Restrições** - especificam combinações possíveis de valores para subconjuntos de variáveis; podem ser: \n",
    "    1. unárias, por exemplo `<(X1): X1=5>`, \n",
    "    2. binárias, por exemplo `<(X1,X2): X1=X2>`, ou de \n",
    "    3. ordem superior, por exemplo `<(X1,X2,X3), alldiff(X1,X2,X3)>`."
   ]
  },
  {
   "cell_type": "markdown",
   "metadata": {},
   "source": [
    "Neste contexto, **em CSP**:\n",
    "\n",
    "* **Estado** - é um conjunto de variáveis com valores nos seus domínios (afectação/assignment); uma afectação pode ser (1) completa, se todas as variáveis têm valor, ou parcial, caso contrário; e (2) consistente, se  satisfaz todas as restrições, ou inconsistente, caso contrário. \n",
    "    \n",
    "* **Inferência e Procura** - é efectuada usando propagação de restrições e, quando ainda há diversas soluções possíveis, algoritmos de procura que usam heurísticas genéricas em vez de heurística específica do problema, como acontecia na resolução dos Problemas de Espaços de Estados (PEE).\n",
    "\n",
    "* **Solução** - é uma afectação completa e consistente.\n",
    "\n",
    "**A resolução de um CSP tem 2 passos**:\n",
    "\n",
    "**Passo 1)** Formulação do problema (definir variáveis, domínios, restrições)\n",
    "\n",
    "**Passo 2)** Resolução do problema (propagar restrições e, caso necessário, usar algoritmo de procura)\n",
    "\n",
    "Nesta aula iremos apenas dedicar-nos à formulação."
   ]
  },
  {
   "cell_type": "code",
   "execution_count": 1,
   "metadata": {},
   "outputs": [],
   "source": [
    "from csp import *"
   ]
  },
  {
   "cell_type": "markdown",
   "metadata": {},
   "source": [
    "### Módulo *CSP.py* - Breve Explicação\n",
    "\n",
    "Este módulo foi construído com base no módulo **CSP.py** disponível no [repositório habitual](https://github.com/aimacode/aima-python). \n",
    "No essencial, é disponibilizado o seguinte:\n",
    "* Classe **CSP**, que serve de base à definição dos problemas CSP;\n",
    "* Funções que implementam os métodos de resolução de problemas CSP, que trataremos apenas na aula seguinte.\n",
    "\n",
    "Este módulo tem que ser importado (como ilustrado acima), mas **não deverá alterá-lo**.\n",
    "\n",
    "**Note que este módulo lida apenas com restrições binárias!** As restrições unárias terão de ser eliminadas de modo a verificar a consistência das variáveis. Os domínios reflectem essas restrições. "
   ]
  },
  {
   "cell_type": "markdown",
   "metadata": {},
   "source": [
    "### Criação de um CSP usando a classe **CSP**\n",
    "\n",
    "Esta classe permite definir um CSP assumindo que os domínios das variáveis são finitos. Para definir um CSP concreto é necessário definir as variáveis, os domínios, o grafo de restrições e as restrições que serão depois usadas para criar um objecto da classe CSP.\n",
    "\n",
    "Neste contexto, o construtor **`def __init__(self, variables, domains, neighbors, constraints)`** tem os seguintes argumentos:\n",
    "  \n",
    "* **`variables`** : Lista de variáveis (strings ou inteiros).\n",
    "\n",
    "* **`domains`** : Dicionário com elementos do tipo `{var:[valor, ...]}`.\n",
    "\n",
    "* **`neighbors`**: Dicionário com elementos do tipo `{var:[var,...]}` em que cada variável var (chave) tem como valor uma lista das variáveis com as quais tem restrições (vizinhos no grafo de restrições), que define o grafo de restrições.\n",
    "\n",
    "* **`constraints`** : Função do tipo `f(A, a, B, b)` que devolve `True` se os vizinhos `A` e `B` satisfazem a restrição quando têm valores `A=a` e `B=b`. "
   ]
  },
  {
   "cell_type": "markdown",
   "metadata": {},
   "source": [
    "### Problema das três variáveis A, B e C tal que todas são diferentes\n",
    "Vamos formmular o problema de encontrar valores para as 3 variáveis A, B e C tais que sejam todas diferentes, quando o domínio é {1,2,3}\n",
    "Para isso vamos definir as variáveis, os domínios, a vizinhança entre as variáveis (as que estão ligadas por restrições binárias) e a função que verifica se os valores de duas variáveis vizinhas são consistentes, não violando a respectivas restrições."
   ]
  },
  {
   "cell_type": "markdown",
   "metadata": {},
   "source": [
    "#### Definição das variáveis\n",
    "Temos 3 variáveis A, B e C.\n",
    "\n",
    "Vamos ter a lista\n",
    "``` python\n",
    "    variaveis_ABCdifs = ['A', 'B', 'C']\n",
    "```"
   ]
  },
  {
   "cell_type": "markdown",
   "metadata": {},
   "source": [
    "#### Definição dos domínios\n",
    "Os domínios vão ser listas de números. Neste caso referem-se à lista formada por 1, 2 e 3.\n",
    "\n",
    "O domínio vai ser o mesmo para todas as variáveis.\n",
    "\n",
    "``` python\n",
    "    dominios_ABCdifs = {}\n",
    "    for v in variaveis_ABCdifs :\n",
    "        dominios_ABCdifs[v] = [1,2,3]  \n",
    "```"
   ]
  },
  {
   "cell_type": "markdown",
   "metadata": {},
   "source": [
    "#### Definir Vizinhos\n",
    "Vamos criar o grafo de restrições com os arcos seguintes:\n",
    "    \n",
    "    A - B, A - C, B - C\n",
    "    \n",
    "    Para isso usaremos a função \n",
    "```python\n",
    "    parse_neighbors('A : B C; B: C; C : ')\n",
    "```\n",
    "\n",
    "É necessário perceber o que faz o `parse_neighbors`. Converte uma string da forma 'X: Y Z; Y: Z' num dicionário como este:\n",
    "```python\n",
    "    {'Y': ['X', 'Z'], 'X': ['Y', 'Z'], 'Z': ['X', 'Y']}\n",
    "```\n",
    "Declarando 'X: Y' não precisamos de declarar 'Y: X'.\n",
    "A função `parse_neighbors()` irá devolver um `defaultdict` que não é mais do que um dicionário com uma função factory para gerar o valor por defeito quando se pede o valor de uma chave que ainda não existe. Neste caso, gera-se por omissão uma lista vazia. "
   ]
  },
  {
   "cell_type": "markdown",
   "metadata": {},
   "source": [
    "#### Definir a função  que verifica a satisfação das restrições entre duas variáveis afectadas\n",
    "Precisamos de uma função que verifique se duas variáveis X, e Y vizinhas satisfazem todas as restrições binárias em que estão envolvidas, quando afetadas respetivamente aos valores a e b.\n",
    "\n",
    "Essa função neste caso é a mesma para todos as variáveis vizinhas, eles têm de ter valores diferentes entre si. Vamos usar a função ***different_values_constraint()*** definida em `csp.py`\n",
    "\n",
    "```python\n",
    "    def different_values_constraint(A, a, B, b):\n",
    "        \"\"\"A constraint saying two neighboring variables must differ in value.\"\"\"\n",
    "        return a != b\n",
    "```"
   ]
  },
  {
   "cell_type": "markdown",
   "metadata": {},
   "source": [
    "Vamos então criar o CSP desejado utilizando uma função."
   ]
  },
  {
   "cell_type": "code",
   "execution_count": 3,
   "metadata": {},
   "outputs": [],
   "source": [
    "def CSP_ABCdifs():\n",
    "    \"\"\"\n",
    "    Retorna um objecto da classe CSP inicializado com as variáveis, os domínios,\n",
    "    os vizinhos e restrições do problema de em que todos são diferentes entre si.\n",
    "    \"\"\"\n",
    "    \n",
    "    #Definir Variáveis\n",
    "    variaveis_ABCdifs = 'A B C'.split()\n",
    "        \n",
    "    # Definir Domínios\n",
    "    # Devolve um dicionario com os domínios com as variáveis do problema dos Golfers.\n",
    "    # Deveria ser {1,2,3} para todas as variáveis, mas dado que a implementação \n",
    "    # em CSP assume que as restrições são binárias.     \n",
    "    dominios_ABCdifs = {}\n",
    "    for v in variaveis_ABCdifs :\n",
    "        dominios_ABCdifs[v] = [1,2,3]\n",
    "    \n",
    "    #Definir Vizinhos\n",
    "    #Cria o grafo de restrições com os arcos seguintes:\n",
    "    #A : B\n",
    "    #B : C\n",
    "    \n",
    "    vizinhos_ABCdifs = parse_neighbors('A: B C; B: C')\n",
    "\n",
    "        \n",
    "    return CSP(variaveis_ABCdifs, dominios_ABCdifs, vizinhos_ABCdifs, different_values_constraint)\n",
    "\n",
    "p = CSP_ABCdifs()"
   ]
  },
  {
   "cell_type": "markdown",
   "metadata": {},
   "source": [
    "Podemos agora ler os atributos do objecto criado:"
   ]
  },
  {
   "cell_type": "code",
   "execution_count": 4,
   "metadata": {},
   "outputs": [
    {
     "name": "stdout",
     "output_type": "stream",
     "text": [
      "Variáveis =  ['A', 'B', 'C']\n",
      "Domínios =  {'A': [1, 2, 3], 'B': [1, 2, 3], 'C': [1, 2, 3]}\n",
      "Variáveis =  defaultdict(<class 'list'>, {'A': ['B', 'C'], 'B': ['A', 'C'], 'C': ['A', 'B']})\n",
      "Restrições <function different_values_constraint at 0x7f64bc6315a0>\n"
     ]
    }
   ],
   "source": [
    "print(\"Variáveis = \", p.variables)\n",
    "print(\"Domínios = \", p.domains)\n",
    "print(\"Variáveis = \", p.neighbors)\n",
    "print(\"Restrições\",p.constraints)"
   ]
  },
  {
   "cell_type": "markdown",
   "metadata": {},
   "source": [
    "Invoquemos a restrição sobre duas variáveis:"
   ]
  },
  {
   "cell_type": "code",
   "execution_count": 5,
   "metadata": {},
   "outputs": [
    {
     "data": {
      "text/plain": "True"
     },
     "execution_count": 5,
     "metadata": {},
     "output_type": "execute_result"
    }
   ],
   "source": [
    "p.constraints('A',2,'B',3)"
   ]
  },
  {
   "cell_type": "code",
   "execution_count": 6,
   "metadata": {},
   "outputs": [
    {
     "data": {
      "text/plain": "False"
     },
     "execution_count": 6,
     "metadata": {},
     "output_type": "execute_result"
    }
   ],
   "source": [
    "p.constraints('A',2,'B',2)"
   ]
  },
  {
   "cell_type": "markdown",
   "metadata": {},
   "source": [
    "### Problema dos Jogadores de Golfe (Golfers)\n",
    "\n",
    "Vamos agora formular o problema dos Golfers: Quatro jogadores de golfe (Bob, Fred, Joe, Tom) estão alinhados, da esquerda para a direita em posições numeradas de 1 a 4. Todos têm calças de cor diferente. Tendo em conta a informação a seguir formule o problema de modo a determinar a ordem pela qual os golfistas estão alinhados e a cor das respectivas calças.\n",
    "\n",
    "    Um tem calças vermelhas;\n",
    "    O que está à direita do Fred tem calças azuis;\n",
    "    Joe é o segundo no alinhamento;\n",
    "    Bob tem calças pretas;\n",
    "    Tom não está na posição 4, e não é ele que tem as calças cor de laranja."
   ]
  },
  {
   "cell_type": "markdown",
   "metadata": {},
   "source": [
    "#### Formulação do CSP Golfers\n",
    "\n",
    "Por forma formular o problema implementamos a **função `CSP_golfers`** que devolve um objecto da classe `CSP` inicializado com as variáveis, os domínios, os vizinhos e as restrições do problema dos Golfers.\n",
    "\n",
    "Antes de criar o objecto da classe `CSP` temos que definir:\n",
    "\n",
    "* **`variaveis_golfers`**\n",
    "* **`dominios_golfers`**\n",
    "* **`vizinhos_golfers`**\n",
    "* **`restricoes_golfers`**\n",
    "\n",
    "de forma a passar estes argumentos ao construtor da classe `CSP`. \n",
    "\n",
    "Repare ainda que `restricoes_golfers` é uma função que avalia as restrições binárias do problema dos Golfers.\n",
    "\n",
    "Vamos formular o problema dos Golfers considerando que temos 8 variáveis: os nomes dos golfers e as cores das calças e que os domínios serão as posições entre 1 e 4. Assim, a afectação {Bob = 1, Azuis = 1} significa que o Bob está na posição 1 e quem veste calças azuis também, i.e. o Bob veste calças azuis e está na primeira posição.\n",
    "\n",
    "Vamos de seguida descrever a função `CSP_golfers` com algum detalhe, nos seus 4 componentes."
   ]
  },
  {
   "cell_type": "markdown",
   "metadata": {},
   "source": [
    "#### Definição das variáveis\n",
    "Temos 4 variáveis que se referem aos jogadores de Golf e também temos variáveis que se referem a quem tem uma determinada côr de calças.\n",
    "\n",
    "Vamos criar duas listas com os dois conjuntos de variáveis. Podíamos ter explicitado as listas mas resolvemos usar o método split().\n",
    "\n",
    "``` python\n",
    "    golfers = 'Bob Fred Joe Tom'.split()\n",
    "    cores_calcas = 'Azuis Laranja Pretas Vermelhas'.split()\n",
    "```\n",
    "Vamos criar uma lista com todas as variáveis:\n",
    "``` python\n",
    "variaveis_golfers = golfers + cores_calcas\n",
    "```"
   ]
  },
  {
   "cell_type": "markdown",
   "metadata": {},
   "source": [
    "#### Definição dos domínios\n",
    "Os domínios vão ser listas de números. Neste caso referem-se às posições, que variam de 1 a 4.\n",
    "Essas listas são guardadas num dicionário, em que as chaves são as variáveis e os valores os domínios respectivos.\n",
    "\n",
    "O domínio deveria ser o mesmo para todas as variáveis, {1,2,3,4}, mas dado que a implementação em CSP assume que as restrições são binárias, as restrições unárias foram eliminadas verificando a consistência das variáveis e os domínios das variáveis 'Joe' e 'Tom' já reflectem  essas restrições.\n",
    "\n",
    "``` python\n",
    "    dominios_golfers = {}\n",
    "    for v in variaveis_golfers :\n",
    "        dominios_golfers[v] = [1,2,3,4]\n",
    "    dominios_golfers['Joe'] = [2]\n",
    "    dominios_golfers['Tom'] = [1,2,3]  \n",
    "```"
   ]
  },
  {
   "cell_type": "markdown",
   "metadata": {},
   "source": [
    "#### Definir Vizinhos\n",
    "Vamos criar o grafo de restrições com os arcos seguintes:\n",
    "    \n",
    "    Bob : Fred Joe Tom Pretas\n",
    "    Fred: Joe Tom Azuis\n",
    "    Joe : Tom\n",
    "    Tom : Laranja\n",
    "    Azuis : Laranja Pretas Vermelhas\n",
    "    Laranja : Pretas Vermelhas\n",
    "    Pretas : Vermelhas\n",
    "\n",
    "```python\n",
    "\n",
    "vizinhos_golfers = parse_neighbors('Bob : Fred Joe Tom Pretas; \\\n",
    "        Fred: Joe Tom Azuis; Joe : Tom ; Tom : Laranja; \\\n",
    "        Azuis : Laranja Pretas Vermelhas; Laranja : Pretas Vermelhas; \\\n",
    "        Pretas : Vermelhas')\n",
    "```"
   ]
  },
  {
   "cell_type": "markdown",
   "metadata": {},
   "source": [
    "#### Definir a função  que verifica a satisfação das restrições entre duas variáveis afectadas\n",
    "Precisamos de uma função que verifique se duas variáveis X, e Y satisfazem todas as restrições binárias em que estão envolvidas, quando afetadas respetivamente aos valores a e b.\n",
    "\n",
    "Essa função vai criar todas as restrições e depois verificar a satisfabilidade de todas as que envolvam o par de variáveis. Neste caso, dos Golfers, só teremos uma restrição por par.\n",
    "\n",
    "\n",
    "Cada restrição será uma função:\n",
    "\n",
    "Eis as binárias:\n",
    "\n",
    "        Retrições Binárias:\n",
    "        R_B1) Fred = Azuis - 1  [equivalente a Azul = Fred + 1]\n",
    "        R_B2) Bob = Pretas\n",
    "        R_B3) Tom <> Laranja\n",
    "\n",
    "As não binárias (globais) terão de ser transformadas em binárias envolvendo apenas o <>.\n",
    "\n",
    "        R_G1) allDiff(golfers)\n",
    "        R_G2) allDiff(cores_calcas)\n",
    "\n",
    "\n",
    "Todas as condições nas restrições, serão implementadas em python como funções\n",
    "\n",
    "``` python\n",
    "        def menos1(x,y):\n",
    "            return (x == y - 1)\n",
    "        \n",
    "        def mais1(x,y):\n",
    "            return (x == y + 1)\n",
    "        \n",
    "        def iguais(x,y):\n",
    "            return x == y\n",
    "        \n",
    "        def diferentes(x,y):\n",
    "            return x != y\n",
    "```\n",
    "\n",
    "Vamos guardar as restrições binárias num dicionário em que cada chave é um par de variáveis e o valor é uma restrição (função). Note que vamos incluir as condições para o par (X,Y) e o seu simétrico. É necessário fazer isto porque, ao contrário da vizinhança, que é uma relação cumutativa, algumas restrições, como por exemplo \"menos1\" não são cumutativas.\n",
    "\n",
    "```python\n",
    "# restrições binárias (necessário incluir (X,Y) e (Y,X))\n",
    "restricoes = { ('Fred','Azuis') : menos1, \n",
    "               ('Azuis','Fred') : mais1, \n",
    "               ('Bob','Pretas') : iguais, \n",
    "               ('Pretas','Bob') : iguais,\n",
    "               ('Tom','Laranja') : diferentes, \n",
    "               ('Laranja','Tom') : differentes,\n",
    "               ('Laranja','Pretas') : diferentes, \n",
    "               ('Pretas','Laranja') : diferentes}\n",
    "```\n",
    "\n",
    "Iremos adicionar de modo automático a esse dicionário as restrições binárias que resultam das restrições globais:\n",
    "```python\n",
    "# all-different em cada categoria (golfers e cores)\n",
    "if X in golfers and Y in golfers or \\\n",
    "            X in cores_calcas and Y in cores_calcas :\n",
    "    restricoes[(X,Y)] = diferentes\n",
    "```  \n",
    "\n",
    "No final da geração das restrições, é necessário verificar se X=a e Y=b satisfazem a restrição, que depende da ordem do par. Se não houver uma restrição entre essas duas variáveis então o resultado é True.\n",
    "\n",
    "Assim, a função `restricoes_golfers(X, a, Y, b)`, depois de se terem definido as condições e o dicionário com as restrições, irá devolver:\n",
    "        \n",
    "```python\n",
    "if (X,Y) in restricoes :\n",
    "    return restricoes[(X,Y)](a,b)\n",
    "else: # Se não há restrição\n",
    "    True\n",
    "```\n"
   ]
  },
  {
   "cell_type": "markdown",
   "metadata": {},
   "source": [
    "Depois da explicação em detalhe da geração dos componentes necessários para gerar uma instância da classe CSP para o problemas dos Golfers, eis o código completo. "
   ]
  },
  {
   "cell_type": "code",
   "execution_count": 8,
   "metadata": {},
   "outputs": [],
   "source": [
    "# Funções binárias usadas nas restrições\n",
    "def menos1(x,y):\n",
    "    \"\"\"x é igual a y-1\"\"\"\n",
    "    return (x == y - 1)\n",
    "        \n",
    "def mais1(x,y):\n",
    "    \"\"\"x é igual a y+1\"\"\"\n",
    "    return (x == y + 1)\n",
    "        \n",
    "def iguais(x,y):\n",
    "    \"\"\"x é igual a y\"\"\"\n",
    "    return x == y\n",
    "        \n",
    "def diferentes(x,y):\n",
    "    \"\"\"x diferente de y\"\"\"\n",
    "    return x != y\n",
    "\n",
    "\n",
    "def CSP_golfers ():\n",
    "    \"\"\"\n",
    "    Retorna um objecto da classe CSP inicializado com as variáveis, os domínios,\n",
    "    os vizinhos e restrições do problema dos Golfers\n",
    "    \"\"\"\n",
    "    \n",
    "    #Definir Variáveis\n",
    "    #golfers - posicao dos golfers - {1,2,3,4}\n",
    "    #cores_calcas - posicao das cores - {1,2,3,4}\n",
    "    golfers = 'Bob Fred Joe Tom'.split()\n",
    "    cores_calcas = 'Azuis Laranja Pretas Vermelhas'.split()\n",
    "    variaveis_golfers = golfers + cores_calcas\n",
    "    \n",
    "    # Definir Domínios\n",
    "    # Devolve um dicionario com os domínios com as variáveis do problema dos Golfers.\n",
    "    # Deveria ser {1,2,3,4} para todas as variáveis, mas dado que a implementação \n",
    "    # em CSP assume que as restrições são binárias, as restrições unárias foram \n",
    "    # eliminadas verificando a consistencia das variáveis e os domínios das variáveis 'Joe' e 'Tom' já reflectem \n",
    "    # essas restrições.      \n",
    "    dominios_golfers = {}\n",
    "    for v in variaveis_golfers :\n",
    "        dominios_golfers[v] = [1,2,3,4]\n",
    "    dominios_golfers['Joe'] = [2]\n",
    "    dominios_golfers['Tom'] = [1,2,3]  \n",
    " \n",
    "    #Definir Vizinhos\n",
    "    #Cria o grafo de restrições com os arcos seguintes:\n",
    "    #Bob : Fred Joe Tom Pretas\n",
    "    #Fred: Joe Tom Azuis\n",
    "    #Joe : Tom\n",
    "    #Tom : Laranja\n",
    "    #Azuis : Laranja Pretas Vermelhas\n",
    "    #Laranja : Pretas Vermelhas\n",
    "    #Pretas : Vermelhas\n",
    "    \n",
    "    vizinhos_golfers = parse_neighbors('Bob: Fred Joe Tom Pretas; \\\n",
    "        Fred: Joe Tom Azuis; Joe: Tom; Tom: Laranja; \\\n",
    "        Azuis: Laranja Pretas Vermelhas; Laranja: Pretas Vermelhas; \\\n",
    "        Pretas: Vermelhas')\n",
    "\n",
    "    #Definir função que verifica restrições binárias\n",
    "    def restricoes_golfers(X, a, Y, b) :\n",
    "        \"\"\"\n",
    "        A implementação em CSP assume que as restrições são binárias.\n",
    "        Retorna True se (X=a,Y=b) satisfaz as restrições entre X e Y.\n",
    "        \n",
    "        Restrições unárias:\n",
    "        R_U1) Joe = 2 obriga a que domínio Joe = {2}\n",
    "        R_U2) Tom <> 4 obriga a que domínio Tom = {1,2,3}\n",
    "        \n",
    "        Retrições Binárias:\n",
    "        R_B1) Fred = Azuis - 1  [equivalente a Azul = Fred + 1]\n",
    "        R_B2) Bob = Pretas\n",
    "        R_B3) Tom <> Laranja\n",
    "        \n",
    "        Restrições Globais:\n",
    "        R_G1) allDiff(golfers)\n",
    "        R_G2) allDiff(cores_calcas)\n",
    "        \"\"\"\n",
    "        \n",
    "        # restrições binárias (necessário incluir (X,Y) e (Y,X))\n",
    "        restricoes = { ('Fred','Azuis') : menos1, ('Azuis','Fred') : mais1, \n",
    "                       ('Bob','Pretas') : iguais, ('Pretas','Bob') : iguais,\n",
    "                       ('Tom','Laranja') : diferentes, ('Laranja','Tom') : diferentes,\n",
    "                       ('Laranja','Pretas') : diferentes, ('Pretas','Laranja') : diferentes}\n",
    "\n",
    "        \n",
    "        # all-different em cada categoria (golfers e cores)\n",
    "        if X in golfers and Y in golfers or \\\n",
    "           X in cores_calcas and Y in cores_calcas :\n",
    "            restricoes[(X,Y)] = diferentes \n",
    "        \n",
    "        if (X,Y) in restricoes :\n",
    "            return restricoes[(X,Y)](a,b)\n",
    "\n",
    "        \n",
    "    return CSP(variaveis_golfers, dominios_golfers, vizinhos_golfers, restricoes_golfers)"
   ]
  },
  {
   "cell_type": "markdown",
   "metadata": {},
   "source": [
    "Vamos agora criar um objecto `CSP` usando a função `CSP_golfers` que implementámos em cima:"
   ]
  },
  {
   "cell_type": "code",
   "execution_count": 9,
   "metadata": {},
   "outputs": [],
   "source": [
    "p = CSP_golfers()"
   ]
  },
  {
   "cell_type": "markdown",
   "metadata": {},
   "source": [
    "E verificar os valores das variáveis, dos domínios e dos vizinhos (grafo de restrições):"
   ]
  },
  {
   "cell_type": "code",
   "execution_count": 10,
   "metadata": {},
   "outputs": [
    {
     "name": "stdout",
     "output_type": "stream",
     "text": [
      "Variáveis =  ['Bob', 'Fred', 'Joe', 'Tom', 'Azuis', 'Laranja', 'Pretas', 'Vermelhas']\n"
     ]
    }
   ],
   "source": [
    "print(\"Variáveis = \", p.variables)"
   ]
  },
  {
   "cell_type": "code",
   "execution_count": 11,
   "metadata": {},
   "outputs": [
    {
     "name": "stdout",
     "output_type": "stream",
     "text": [
      "Domínios =  {'Bob': [1, 2, 3, 4], 'Fred': [1, 2, 3, 4], 'Joe': [2], 'Tom': [1, 2, 3], 'Azuis': [1, 2, 3, 4], 'Laranja': [1, 2, 3, 4], 'Pretas': [1, 2, 3, 4], 'Vermelhas': [1, 2, 3, 4]}\n"
     ]
    }
   ],
   "source": [
    "print(\"Domínios = \", p.domains)"
   ]
  },
  {
   "cell_type": "code",
   "execution_count": 12,
   "metadata": {},
   "outputs": [
    {
     "name": "stdout",
     "output_type": "stream",
     "text": [
      "Vizinhos =  defaultdict(<class 'list'>, {'Bob': ['Fred', 'Joe', 'Tom', 'Pretas'], 'Fred': ['Bob', 'Joe', 'Tom', 'Azuis'], 'Joe': ['Bob', 'Fred', 'Tom'], 'Tom': ['Bob', 'Fred', 'Joe', 'Laranja'], 'Pretas': ['Bob', 'Azuis', 'Laranja', 'Vermelhas'], 'Azuis': ['Fred', 'Laranja', 'Pretas', 'Vermelhas'], 'Laranja': ['Tom', 'Azuis', 'Pretas', 'Vermelhas'], 'Vermelhas': ['Azuis', 'Laranja', 'Pretas']})\n"
     ]
    }
   ],
   "source": [
    "print(\"Vizinhos = \", p.neighbors)"
   ]
  },
  {
   "cell_type": "markdown",
   "metadata": {},
   "source": [
    "Verifique também que a função `restricoes_golfers` foi bem implementada, testando algumas afetações a pares de variáveis, confirmando que a função retorna `True`, se os valores não têm conflito com as restrições entre o par de variáveis passados como argumento para o par de valores concreto, e `False`, caso contrário."
   ]
  },
  {
   "cell_type": "code",
   "execution_count": 13,
   "metadata": {},
   "outputs": [
    {
     "name": "stdout",
     "output_type": "stream",
     "text": [
      "True\n",
      "False\n"
     ]
    }
   ],
   "source": [
    "# Restrição Fred = Azuis - 1\n",
    "print(p.constraints('Fred', 2, \"Azuis\", 3))\n",
    "print(p.constraints('Fred', 3, \"Azuis\", 2))"
   ]
  },
  {
   "cell_type": "code",
   "execution_count": 14,
   "metadata": {},
   "outputs": [
    {
     "name": "stdout",
     "output_type": "stream",
     "text": [
      "False\n",
      "None\n"
     ]
    }
   ],
   "source": [
    "#Restrição Tom <> Laranja\n",
    "print(p.constraints('Tom', 1, \"Laranja\", 1))\n",
    "print(p.constraints('Tom', 1, \"Azuis\", 2))"
   ]
  },
  {
   "cell_type": "code",
   "execution_count": 15,
   "metadata": {},
   "outputs": [
    {
     "name": "stdout",
     "output_type": "stream",
     "text": [
      "True\n",
      "False\n"
     ]
    }
   ],
   "source": [
    "#Restrição alldiff golfers\n",
    "print(p.constraints('Bob', 1, \"Fred\", 2))\n",
    "print(p.constraints('Bob', 1, \"Fred\", 1))   "
   ]
  },
  {
   "cell_type": "code",
   "execution_count": 16,
   "metadata": {},
   "outputs": [
    {
     "name": "stdout",
     "output_type": "stream",
     "text": [
      "False\n",
      "True\n"
     ]
    }
   ],
   "source": [
    "#Restrição alldiff cores calças\n",
    "print(p.constraints('Azuis', 1, \"Laranja\", 1))\n",
    "print(p.constraints('Azuis', 1, \"Laranja\", 2))"
   ]
  },
  {
   "cell_type": "markdown",
   "metadata": {},
   "source": [
    "Vamos então resolvê-lo invocando o algoritmo `backtrack_search()`. Este algoritmo será explicado em detalhe nas aulas da próxima semana. Para já considerem-no como uma caixa negra que recebe uma formulação do problema CSP e devolve uma solução (um *assignment* para cada uma das variáveis)."
   ]
  },
  {
   "cell_type": "code",
   "execution_count": 17,
   "metadata": {},
   "outputs": [
    {
     "name": "stdout",
     "output_type": "stream",
     "text": [
      "Afetação p =  {'Bob': 4, 'Fred': 1, 'Joe': 2, 'Tom': 3, 'Azuis': 2, 'Laranja': 1, 'Pretas': 4, 'Vermelhas': 3}\n"
     ]
    }
   ],
   "source": [
    "r = backtracking_search(p)\n",
    "print('Afetação p = ',r)"
   ]
  },
  {
   "cell_type": "markdown",
   "metadata": {},
   "source": [
    "#### Exercício 1\n",
    "Formule usando a metodologia CSP, o problema de encontrar valores para as 3 variáveis A, B e C tais que A > B > C, quando o domínio é {1,2,3}\n",
    "Teste-o usando a função 'backtracking_search()'."
   ]
  },
  {
   "cell_type": "code",
   "execution_count": 26,
   "metadata": {},
   "outputs": [],
   "source": [
    "# Resolução do exercício 1\n",
    "def maior(x, y):\n",
    "    return x > y\n",
    "\n",
    "def menor(x, y):\n",
    "    return x < y\n",
    "\n",
    "def CSP_maiores ():\n",
    "    \"\"\"\n",
    "    Retorna um objecto da classe CSP inicializado com as variáveis, os domínios,\n",
    "    os vizinhos e restrições do problema dos maiores\n",
    "    \"\"\"\n",
    "\n",
    "    #Definir Variáveis\n",
    "    #letras\n",
    "    variaveis_maiores = 'A B C'.split()\n",
    "\n",
    "    # Definir Domínios\n",
    "    # Devolve um dicionario com os domínios com as variáveis do problema dos Maiores.\n",
    "    # É {1,2,3} para todas as variáveis\n",
    "    dominios_maiores = {}\n",
    "    for v in variaveis_maiores :\n",
    "        dominios_maiores[v] = [1,2,3]\n",
    "\n",
    "    #Definir Vizinhos\n",
    "    #Cria o grafo de restrições com os arcos seguintes:\n",
    "    #A: B C\n",
    "    #B: C\n",
    "\n",
    "    vizinhos_maiores = parse_neighbors('A: B C; B: C')\n",
    "\n",
    "    #Definir função que verifica restrições binárias\n",
    "    def restricoes_maiores(X, a, Y, b) :\n",
    "        \"\"\"\n",
    "        A implementação em CSP assume que as restrições são binárias.\n",
    "        Retorna True se (X=a,Y=b) satisfaz as restrições entre X e Y.\n",
    "\n",
    "        Restrições unárias:\n",
    "\n",
    "        Retrições Binárias:\n",
    "        R_B1) A > B\n",
    "        R_B2) B > C\n",
    "\n",
    "        Restrições Globais:\n",
    "        \"\"\"\n",
    "\n",
    "        # restrições binárias (necessário incluir (X,Y) e (Y,X))\n",
    "        restricoes = { ('A','B'): maior, ('B','A'): menor,\n",
    "                       ('B','C'): maior, ('C', 'B'): menor,\n",
    "                       ('A', 'C'): maior, ('C', 'A'): menor }\n",
    "\n",
    "        if (X,Y) in restricoes :\n",
    "            return restricoes[(X,Y)](a,b)\n",
    "\n",
    "\n",
    "    return CSP(variaveis_maiores, dominios_maiores, vizinhos_maiores, restricoes_maiores)"
   ]
  },
  {
   "cell_type": "code",
   "execution_count": 27,
   "outputs": [
    {
     "name": "stdout",
     "output_type": "stream",
     "text": [
      "Variáveis =  ['A', 'B', 'C']\n",
      "Domínios =  {'A': [1, 2, 3], 'B': [1, 2, 3], 'C': [1, 2, 3]}\n",
      "Vizinhos =  defaultdict(<class 'list'>, {'A': ['B', 'C'], 'B': ['A', 'C'], 'C': ['A', 'B']})\n",
      "Afetação p =  {'A': 3, 'B': 2, 'C': 1}\n"
     ]
    }
   ],
   "source": [
    "p = CSP_maiores()\n",
    "print(\"Variáveis = \", p.variables)\n",
    "print(\"Domínios = \", p.domains)\n",
    "print(\"Vizinhos = \", p.neighbors)\n",
    "\n",
    "r = backtracking_search(p)\n",
    "print('Afetação p = ',r)"
   ],
   "metadata": {
    "collapsed": false,
    "pycharm": {
     "name": "#%%\n"
    }
   }
  },
  {
   "cell_type": "markdown",
   "metadata": {},
   "source": [
    "### Exercício 2 - Problema da coloração de mapas (Map Coloring)\n",
    "<img src=\"figures/mapa_colorir.PNG\" alt=\"Drawing\" style=\"width: 200px;\"/>\n",
    "\n",
    "Considere o problema de colorir o mapa em cima usando 4 cores, por exemplo: R(ed), G(reen), B(lue) e Y(ellow). Defina um `CSP` inicializado com as variáveis, os domínios, os vizinhos e as restrições para este problema."
   ]
  },
  {
   "cell_type": "code",
   "execution_count": 35,
   "metadata": {},
   "outputs": [],
   "source": [
    "# Resolução do exercício 2\n",
    "def CSP_mapa ():\n",
    "    \"\"\"\n",
    "    Retorna um objecto da classe CSP inicializado com as variáveis, os domínios,\n",
    "    os vizinhos e restrições do problema dos maiores\n",
    "    \"\"\"\n",
    "\n",
    "    #Definir Variáveis\n",
    "    # regiões\n",
    "    variaveis_mapa = 'A B C D E'.split()\n",
    "\n",
    "    # Definir Domínios\n",
    "    # Devolve um dicionario com os domínios com as variáveis do problema de colorir o mapa.\n",
    "    # É {'R', 'G', 'B', 'Y'} para todas as variáveis\n",
    "    dominios_mapa = {}\n",
    "    for v in variaveis_mapa :\n",
    "        dominios_mapa[v] = 'R G B Y'.split()\n",
    "\n",
    "    #Definir Vizinhos\n",
    "    #Cria o grafo de restrições com os arcos seguintes:\n",
    "    #A: B C D\n",
    "    #B: C D\n",
    "    #C: D\n",
    "    #D: E\n",
    "\n",
    "    vizinhos_mapa = parse_neighbors('A: B C D; B: C D; C: D; D: E')\n",
    "\n",
    "    #Definir função que verifica restrições binárias\n",
    "    def restricoes_mapa(X, a, Y, b) :\n",
    "        \"\"\"\n",
    "        A implementação em CSP assume que as restrições são binárias.\n",
    "        Retorna True se (X=a,Y=b) satisfaz as restrições entre X e Y.\n",
    "\n",
    "        Restrições unárias:\n",
    "\n",
    "        Retrições Binárias:\n",
    "        R_B1) X != Y se Y é vizinho de X\n",
    "\n",
    "        Restrições Globais:\n",
    "        \"\"\"\n",
    "        if Y in vizinhos_mapa[X]:\n",
    "            return diferentes(a, b)\n",
    "\n",
    "        return True\n",
    "\n",
    "    return CSP(variaveis_mapa, dominios_mapa, vizinhos_mapa, restricoes_mapa)"
   ]
  },
  {
   "cell_type": "code",
   "execution_count": 36,
   "outputs": [
    {
     "name": "stdout",
     "output_type": "stream",
     "text": [
      "Variáveis =  ['A', 'B', 'C', 'D', 'E']\n",
      "Domínios =  {'A': ['R', 'G', 'B', 'Y'], 'B': ['R', 'G', 'B', 'Y'], 'C': ['R', 'G', 'B', 'Y'], 'D': ['R', 'G', 'B', 'Y'], 'E': ['R', 'G', 'B', 'Y']}\n",
      "Vizinhos =  defaultdict(<class 'list'>, {'A': ['B', 'C', 'D'], 'B': ['A', 'C', 'D'], 'C': ['A', 'B', 'D'], 'D': ['A', 'B', 'C', 'E'], 'E': ['D']})\n",
      "Afetação p =  {'A': 'R', 'B': 'G', 'C': 'B', 'D': 'Y', 'E': 'R'}\n"
     ]
    }
   ],
   "source": [
    "p = CSP_mapa()\n",
    "print(\"Variáveis = \", p.variables)\n",
    "print(\"Domínios = \", p.domains)\n",
    "print(\"Vizinhos = \", p.neighbors)\n",
    "\n",
    "r = backtracking_search(p)\n",
    "print('Afetação p = ',r)"
   ],
   "metadata": {
    "collapsed": false,
    "pycharm": {
     "name": "#%%\n"
    }
   }
  },
  {
   "cell_type": "markdown",
   "metadata": {},
   "source": [
    "### Exercício 3 - Problema genérico de coloração de mapa\n",
    "Crie uma função que permite criar qualquer problema de coloração de mapas, fornecendo-lhe como input o conjunto de cores e a vizinhança. As cores definem o domínio de todas as variáveis e a partir da vizinhança obtêm-se as variáveis. Teste-o com o mapa do exercício anterior e com os seguintes países, dando-lhes as regiões adjacentes e as cores.\n",
    "\n",
    "```python\n",
    "australia = MapColoringCSP(list('RGBY'),\n",
    "                           'SA: WA NT Q NSW V; NT: WA Q; NSW: Q V; T: ')\n",
    "\n",
    "france = MapColoringCSP(list('RGBY'),\n",
    "                        \"\"\"AL: LO FC; AQ: MP LI PC; AU: LI CE BO RA LR MP; BO: CE IF CA FC RA\n",
    "        AU; BR: NB PL; CA: IF PI LO FC BO; CE: PL NB NH IF BO AU LI PC; FC: BO\n",
    "        CA LO AL RA; IF: NH PI CA BO CE; LI: PC CE AU MP AQ; LO: CA AL FC; LR:\n",
    "        MP AU RA PA; MP: AQ LI AU LR; NB: NH CE PL BR; NH: PI IF CE NB; NO:\n",
    "        PI; PA: LR RA; PC: PL CE LI AQ; PI: NH NO CA IF; PL: BR NB CE PC; RA:\n",
    "        AU BO FC PA LR\"\"\")\n",
    "\n",
    "usa = MapColoringCSP(list('RGBY'),\n",
    "                     \"\"\"WA: OR ID; OR: ID NV CA; CA: NV AZ; NV: ID UT AZ; ID: MT WY UT;\n",
    "        UT: WY CO AZ; MT: ND SD WY; WY: SD NE CO; CO: NE KA OK NM; NM: OK TX AZ;\n",
    "        ND: MN SD; SD: MN IA NE; NE: IA MO KA; KA: MO OK; OK: MO AR TX;\n",
    "        TX: AR LA; MN: WI IA; IA: WI IL MO; MO: IL KY TN AR; AR: MS TN LA;\n",
    "        LA: MS; WI: MI IL; IL: IN KY; IN: OH KY; MS: TN AL; AL: TN GA FL;\n",
    "        MI: OH IN; OH: PA WV KY; KY: WV VA TN; TN: VA NC GA; GA: NC SC FL;\n",
    "        PA: NY NJ DE MD WV; WV: MD VA; VA: MD DC NC; NC: SC; NY: VT MA CT NJ;\n",
    "        NJ: DE; DE: MD; MD: DC; VT: NH MA; MA: NH RI CT; CT: RI; ME: NH;\n",
    "        HI: ; AK: \"\"\")\n",
    "\n",
    "```"
   ]
  },
  {
   "cell_type": "code",
   "execution_count": 38,
   "metadata": {},
   "outputs": [],
   "source": [
    "# Resolução do exercício 3\n",
    "\n",
    "# Resolução do exercício 2\n",
    "def MapColoringCSP (cores, vizinhos):\n",
    "    \"\"\"\n",
    "    Retorna um objecto da classe CSP inicializado com as variáveis, os domínios,\n",
    "    os vizinhos e restrições do problema dos maiores\n",
    "    \"\"\"\n",
    "\n",
    "    #Definir Vizinhos\n",
    "    vizinhos_mapa = parse_neighbors(vizinhos)\n",
    "\n",
    "    #Definir Variáveis\n",
    "    # regiões\n",
    "    variaveis_mapa = list(vizinhos_mapa.keys())\n",
    "\n",
    "    # Definir Domínios\n",
    "    # Devolve um dicionario com os domínios com as variáveis do problema de colorir o mapa.\n",
    "    # É {'R', 'G', 'B', 'Y'} para todas as variáveis\n",
    "    dominios_mapa = {}\n",
    "    for v in variaveis_mapa :\n",
    "        dominios_mapa[v] = cores\n",
    "\n",
    "    #Definir função que verifica restrições binárias\n",
    "    def restricoes_mapa(X, a, Y, b) :\n",
    "        \"\"\"\n",
    "        A implementação em CSP assume que as restrições são binárias.\n",
    "        Retorna True se (X=a,Y=b) satisfaz as restrições entre X e Y.\n",
    "\n",
    "        Restrições unárias:\n",
    "\n",
    "        Retrições Binárias:\n",
    "        R_B1) X != Y se Y é vizinho de X\n",
    "\n",
    "        Restrições Globais:\n",
    "        \"\"\"\n",
    "        if Y in vizinhos_mapa[X]:\n",
    "            return diferentes(a, b)\n",
    "\n",
    "        return True\n",
    "\n",
    "    return CSP(variaveis_mapa, dominios_mapa, vizinhos_mapa, restricoes_mapa)"
   ]
  },
  {
   "cell_type": "code",
   "execution_count": 39,
   "outputs": [
    {
     "name": "stdout",
     "output_type": "stream",
     "text": [
      "Variáveis =  ['SA', 'WA', 'NT', 'Q', 'NSW', 'V']\n",
      "Domínios =  {'SA': ['R', 'G', 'B', 'Y'], 'WA': ['R', 'G', 'B', 'Y'], 'NT': ['R', 'G', 'B', 'Y'], 'Q': ['R', 'G', 'B', 'Y'], 'NSW': ['R', 'G', 'B', 'Y'], 'V': ['R', 'G', 'B', 'Y']}\n",
      "Vizinhos =  defaultdict(<class 'list'>, {'SA': ['WA', 'NT', 'Q', 'NSW', 'V'], 'WA': ['SA', 'NT'], 'NT': ['SA', 'WA', 'Q'], 'Q': ['SA', 'NT', 'NSW'], 'NSW': ['SA', 'Q', 'V'], 'V': ['SA', 'NSW']})\n",
      "Afetação p =  {'SA': 'R', 'WA': 'G', 'NT': 'B', 'Q': 'G', 'NSW': 'B', 'V': 'G'}\n"
     ]
    }
   ],
   "source": [
    "australia = MapColoringCSP(list('RGBY'),\n",
    "                           'SA: WA NT Q NSW V; NT: WA Q; NSW: Q V; T: ')\n",
    "\n",
    "print(\"Variáveis = \", australia.variables)\n",
    "print(\"Domínios = \", australia.domains)\n",
    "print(\"Vizinhos = \", australia.neighbors)\n",
    "\n",
    "r = backtracking_search(australia)\n",
    "print('Afetação p = ',r)"
   ],
   "metadata": {
    "collapsed": false,
    "pycharm": {
     "name": "#%%\n"
    }
   }
  },
  {
   "cell_type": "code",
   "execution_count": 40,
   "outputs": [
    {
     "name": "stdout",
     "output_type": "stream",
     "text": [
      "Variáveis =  ['AL', 'LO', 'FC', 'AQ', 'MP', 'LI', 'PC', 'AU', 'CE', 'BO', 'RA', 'LR', 'IF', 'CA', 'BR', 'NB', 'PL', 'PI', 'NH', 'PA', 'NO']\n",
      "Domínios =  {'AL': ['R', 'G', 'B', 'Y'], 'LO': ['R', 'G', 'B', 'Y'], 'FC': ['R', 'G', 'B', 'Y'], 'AQ': ['R', 'G', 'B', 'Y'], 'MP': ['R', 'G', 'B', 'Y'], 'LI': ['R', 'G', 'B', 'Y'], 'PC': ['R', 'G', 'B', 'Y'], 'AU': ['R', 'G', 'B', 'Y'], 'CE': ['R', 'G', 'B', 'Y'], 'BO': ['R', 'G', 'B', 'Y'], 'RA': ['R', 'G', 'B', 'Y'], 'LR': ['R', 'G', 'B', 'Y'], 'IF': ['R', 'G', 'B', 'Y'], 'CA': ['R', 'G', 'B', 'Y'], 'BR': ['R', 'G', 'B', 'Y'], 'NB': ['R', 'G', 'B', 'Y'], 'PL': ['R', 'G', 'B', 'Y'], 'PI': ['R', 'G', 'B', 'Y'], 'NH': ['R', 'G', 'B', 'Y'], 'PA': ['R', 'G', 'B', 'Y'], 'NO': ['R', 'G', 'B', 'Y']}\n",
      "Vizinhos =  defaultdict(<class 'list'>, {'AL': ['LO', 'FC', 'FC', 'LO'], 'LO': ['AL', 'CA', 'FC', 'CA', 'AL', 'FC'], 'FC': ['AL', 'BO', 'CA', 'BO', 'CA', 'LO', 'AL', 'RA', 'LO', 'RA'], 'AQ': ['MP', 'LI', 'PC', 'LI', 'MP', 'PC'], 'MP': ['AQ', 'AU', 'LI', 'LR', 'AQ', 'LI', 'AU', 'LR'], 'LI': ['AQ', 'AU', 'CE', 'PC', 'CE', 'AU', 'MP', 'AQ', 'MP', 'PC'], 'PC': ['AQ', 'CE', 'LI', 'PL', 'CE', 'LI', 'AQ', 'PL'], 'AU': ['LI', 'CE', 'BO', 'RA', 'LR', 'MP', 'BO', 'CE', 'LI', 'LR', 'MP', 'RA'], 'CE': ['AU', 'BO', 'PL', 'NB', 'NH', 'IF', 'BO', 'AU', 'LI', 'PC', 'IF', 'LI', 'NB', 'NH', 'PC', 'PL'], 'BO': ['AU', 'CE', 'IF', 'CA', 'FC', 'RA', 'AU', 'CA', 'CE', 'FC', 'IF', 'RA'], 'RA': ['AU', 'BO', 'FC', 'LR', 'PA', 'AU', 'BO', 'FC', 'PA', 'LR'], 'LR': ['AU', 'MP', 'AU', 'RA', 'PA', 'MP', 'PA', 'RA'], 'IF': ['BO', 'CA', 'CE', 'NH', 'PI', 'CA', 'BO', 'CE', 'NH', 'PI'], 'CA': ['BO', 'IF', 'PI', 'LO', 'FC', 'BO', 'FC', 'IF', 'LO', 'PI'], 'BR': ['NB', 'PL', 'NB', 'PL'], 'NB': ['BR', 'CE', 'NH', 'CE', 'PL', 'BR', 'NH', 'PL'], 'PL': ['BR', 'CE', 'NB', 'PC', 'BR', 'NB', 'CE', 'PC'], 'PI': ['CA', 'IF', 'NH', 'NO', 'NH', 'NO', 'CA', 'IF'], 'NH': ['CE', 'IF', 'NB', 'PI', 'IF', 'CE', 'NB', 'PI'], 'PA': ['LR', 'LR', 'RA', 'RA'], 'NO': ['PI', 'PI']})\n",
      "Afetação p =  {'AL': 'R', 'LO': 'G', 'FC': 'B', 'AQ': 'R', 'MP': 'G', 'LI': 'B', 'PC': 'G', 'AU': 'R', 'CE': 'Y', 'BO': 'G', 'RA': 'Y', 'LR': 'B', 'IF': 'R', 'CA': 'Y', 'BR': 'R', 'NB': 'G', 'PL': 'B', 'PI': 'G', 'NH': 'B', 'PA': 'R', 'NO': 'R'}\n"
     ]
    }
   ],
   "source": [
    "france = MapColoringCSP(list('RGBY'),\n",
    "                        \"\"\"AL: LO FC; AQ: MP LI PC; AU: LI CE BO RA LR MP; BO: CE IF CA FC RA\n",
    "        AU; BR: NB PL; CA: IF PI LO FC BO; CE: PL NB NH IF BO AU LI PC; FC: BO\n",
    "        CA LO AL RA; IF: NH PI CA BO CE; LI: PC CE AU MP AQ; LO: CA AL FC; LR:\n",
    "        MP AU RA PA; MP: AQ LI AU LR; NB: NH CE PL BR; NH: PI IF CE NB; NO:\n",
    "        PI; PA: LR RA; PC: PL CE LI AQ; PI: NH NO CA IF; PL: BR NB CE PC; RA:\n",
    "        AU BO FC PA LR\"\"\")\n",
    "\n",
    "print(\"Variáveis = \", france.variables)\n",
    "print(\"Domínios = \", france.domains)\n",
    "print(\"Vizinhos = \", france.neighbors)\n",
    "\n",
    "r = backtracking_search(france)\n",
    "print('Afetação p = ',r)"
   ],
   "metadata": {
    "collapsed": false,
    "pycharm": {
     "name": "#%%\n"
    }
   }
  },
  {
   "cell_type": "code",
   "execution_count": 41,
   "outputs": [
    {
     "name": "stdout",
     "output_type": "stream",
     "text": [
      "Variáveis =  ['WA', 'OR', 'ID', 'NV', 'CA', 'AZ', 'UT', 'MT', 'WY', 'CO', 'ND', 'SD', 'NE', 'KA', 'OK', 'NM', 'TX', 'MN', 'IA', 'MO', 'AR', 'LA', 'WI', 'IL', 'KY', 'TN', 'MS', 'MI', 'IN', 'OH', 'AL', 'GA', 'FL', 'PA', 'WV', 'VA', 'NC', 'SC', 'NY', 'NJ', 'DE', 'MD', 'DC', 'VT', 'MA', 'CT', 'NH', 'RI', 'ME']\n",
      "Domínios =  {'WA': ['R', 'G', 'B', 'Y'], 'OR': ['R', 'G', 'B', 'Y'], 'ID': ['R', 'G', 'B', 'Y'], 'NV': ['R', 'G', 'B', 'Y'], 'CA': ['R', 'G', 'B', 'Y'], 'AZ': ['R', 'G', 'B', 'Y'], 'UT': ['R', 'G', 'B', 'Y'], 'MT': ['R', 'G', 'B', 'Y'], 'WY': ['R', 'G', 'B', 'Y'], 'CO': ['R', 'G', 'B', 'Y'], 'ND': ['R', 'G', 'B', 'Y'], 'SD': ['R', 'G', 'B', 'Y'], 'NE': ['R', 'G', 'B', 'Y'], 'KA': ['R', 'G', 'B', 'Y'], 'OK': ['R', 'G', 'B', 'Y'], 'NM': ['R', 'G', 'B', 'Y'], 'TX': ['R', 'G', 'B', 'Y'], 'MN': ['R', 'G', 'B', 'Y'], 'IA': ['R', 'G', 'B', 'Y'], 'MO': ['R', 'G', 'B', 'Y'], 'AR': ['R', 'G', 'B', 'Y'], 'LA': ['R', 'G', 'B', 'Y'], 'WI': ['R', 'G', 'B', 'Y'], 'IL': ['R', 'G', 'B', 'Y'], 'KY': ['R', 'G', 'B', 'Y'], 'TN': ['R', 'G', 'B', 'Y'], 'MS': ['R', 'G', 'B', 'Y'], 'MI': ['R', 'G', 'B', 'Y'], 'IN': ['R', 'G', 'B', 'Y'], 'OH': ['R', 'G', 'B', 'Y'], 'AL': ['R', 'G', 'B', 'Y'], 'GA': ['R', 'G', 'B', 'Y'], 'FL': ['R', 'G', 'B', 'Y'], 'PA': ['R', 'G', 'B', 'Y'], 'WV': ['R', 'G', 'B', 'Y'], 'VA': ['R', 'G', 'B', 'Y'], 'NC': ['R', 'G', 'B', 'Y'], 'SC': ['R', 'G', 'B', 'Y'], 'NY': ['R', 'G', 'B', 'Y'], 'NJ': ['R', 'G', 'B', 'Y'], 'DE': ['R', 'G', 'B', 'Y'], 'MD': ['R', 'G', 'B', 'Y'], 'DC': ['R', 'G', 'B', 'Y'], 'VT': ['R', 'G', 'B', 'Y'], 'MA': ['R', 'G', 'B', 'Y'], 'CT': ['R', 'G', 'B', 'Y'], 'NH': ['R', 'G', 'B', 'Y'], 'RI': ['R', 'G', 'B', 'Y'], 'ME': ['R', 'G', 'B', 'Y']}\n",
      "Vizinhos =  defaultdict(<class 'list'>, {'WA': ['OR', 'ID'], 'OR': ['WA', 'ID', 'NV', 'CA'], 'ID': ['WA', 'OR', 'NV', 'MT', 'WY', 'UT'], 'NV': ['OR', 'CA', 'ID', 'UT', 'AZ'], 'CA': ['OR', 'NV', 'AZ'], 'AZ': ['CA', 'NV', 'UT', 'NM'], 'UT': ['NV', 'ID', 'WY', 'CO', 'AZ'], 'MT': ['ID', 'ND', 'SD', 'WY'], 'WY': ['ID', 'UT', 'MT', 'SD', 'NE', 'CO'], 'CO': ['UT', 'WY', 'NE', 'KA', 'OK', 'NM'], 'ND': ['MT', 'MN', 'SD'], 'SD': ['MT', 'WY', 'ND', 'MN', 'IA', 'NE'], 'NE': ['WY', 'CO', 'SD', 'IA', 'MO', 'KA'], 'KA': ['CO', 'NE', 'MO', 'OK'], 'OK': ['CO', 'NM', 'KA', 'MO', 'AR', 'TX'], 'NM': ['CO', 'OK', 'TX', 'AZ'], 'TX': ['NM', 'OK', 'AR', 'LA'], 'MN': ['ND', 'SD', 'WI', 'IA'], 'IA': ['SD', 'NE', 'MN', 'WI', 'IL', 'MO'], 'MO': ['NE', 'KA', 'OK', 'IA', 'IL', 'KY', 'TN', 'AR'], 'AR': ['OK', 'TX', 'MO', 'MS', 'TN', 'LA'], 'LA': ['TX', 'AR', 'MS'], 'WI': ['MN', 'IA', 'MI', 'IL'], 'IL': ['IA', 'MO', 'WI', 'IN', 'KY'], 'KY': ['MO', 'IL', 'IN', 'OH', 'WV', 'VA', 'TN'], 'TN': ['MO', 'AR', 'MS', 'AL', 'KY', 'VA', 'NC', 'GA'], 'MS': ['AR', 'LA', 'TN', 'AL'], 'MI': ['WI', 'OH', 'IN'], 'IN': ['IL', 'OH', 'KY', 'MI'], 'OH': ['IN', 'MI', 'PA', 'WV', 'KY'], 'AL': ['MS', 'TN', 'GA', 'FL'], 'GA': ['AL', 'TN', 'NC', 'SC', 'FL'], 'FL': ['AL', 'GA'], 'PA': ['OH', 'NY', 'NJ', 'DE', 'MD', 'WV'], 'WV': ['OH', 'KY', 'PA', 'MD', 'VA'], 'VA': ['KY', 'TN', 'WV', 'MD', 'DC', 'NC'], 'NC': ['TN', 'GA', 'VA', 'SC'], 'SC': ['GA', 'NC'], 'NY': ['PA', 'VT', 'MA', 'CT', 'NJ'], 'NJ': ['PA', 'NY', 'DE'], 'DE': ['PA', 'NJ', 'MD'], 'MD': ['PA', 'WV', 'VA', 'DE', 'DC'], 'DC': ['VA', 'MD'], 'VT': ['NY', 'NH', 'MA'], 'MA': ['NY', 'VT', 'NH', 'RI', 'CT'], 'CT': ['NY', 'MA', 'RI'], 'NH': ['VT', 'MA', 'ME'], 'RI': ['MA', 'CT'], 'ME': ['NH']})\n",
      "Afetação p =  {'WA': 'R', 'OR': 'G', 'ID': 'B', 'NV': 'R', 'CA': 'B', 'AZ': 'G', 'UT': 'Y', 'MT': 'R', 'WY': 'G', 'CO': 'R', 'ND': 'G', 'SD': 'B', 'NE': 'Y', 'KA': 'G', 'OK': 'B', 'NM': 'Y', 'TX': 'R', 'MN': 'R', 'IA': 'G', 'MO': 'R', 'AR': 'G', 'LA': 'B', 'WI': 'B', 'IL': 'Y', 'KY': 'G', 'TN': 'B', 'MS': 'R', 'MI': 'R', 'IN': 'B', 'OH': 'Y', 'AL': 'G', 'GA': 'R', 'FL': 'B', 'PA': 'R', 'WV': 'B', 'VA': 'R', 'NC': 'G', 'SC': 'B', 'NY': 'G', 'NJ': 'B', 'DE': 'G', 'MD': 'Y', 'DC': 'G', 'VT': 'R', 'MA': 'B', 'CT': 'R', 'NH': 'G', 'RI': 'G', 'ME': 'R'}\n"
     ]
    }
   ],
   "source": [
    "usa = MapColoringCSP(list('RGBY'),\n",
    "                     \"\"\"WA: OR ID; OR: ID NV CA; CA: NV AZ; NV: ID UT AZ; ID: MT WY UT;\n",
    "        UT: WY CO AZ; MT: ND SD WY; WY: SD NE CO; CO: NE KA OK NM; NM: OK TX AZ;\n",
    "        ND: MN SD; SD: MN IA NE; NE: IA MO KA; KA: MO OK; OK: MO AR TX;\n",
    "        TX: AR LA; MN: WI IA; IA: WI IL MO; MO: IL KY TN AR; AR: MS TN LA;\n",
    "        LA: MS; WI: MI IL; IL: IN KY; IN: OH KY; MS: TN AL; AL: TN GA FL;\n",
    "        MI: OH IN; OH: PA WV KY; KY: WV VA TN; TN: VA NC GA; GA: NC SC FL;\n",
    "        PA: NY NJ DE MD WV; WV: MD VA; VA: MD DC NC; NC: SC; NY: VT MA CT NJ;\n",
    "        NJ: DE; DE: MD; MD: DC; VT: NH MA; MA: NH RI CT; CT: RI; ME: NH;\n",
    "        HI: ; AK: \"\"\")\n",
    "\n",
    "print(\"Variáveis = \", usa.variables)\n",
    "print(\"Domínios = \", usa.domains)\n",
    "print(\"Vizinhos = \", usa.neighbors)\n",
    "\n",
    "r = backtracking_search(usa)\n",
    "print('Afetação p = ',r)"
   ],
   "metadata": {
    "collapsed": false,
    "pycharm": {
     "name": "#%%\n"
    }
   }
  },
  {
   "cell_type": "markdown",
   "metadata": {},
   "source": [
    "### Exercício 4 - Palavras Cruzadas pequeninas\n",
    "\n",
    "Formule um problema de palavras cruzadas usando CSP, em que temos uma grelha 2x2 e 8 palavras possíveis para dispor 4 delas nas 2 linhas e 2 colunas. Cada palavra só pode aparecer numa das 4 regiões possíveis (2 linhas e 2 colunas) e as letras das palavras têm de ser as mesmas quando as palavras se intersectam. A figura apresenta uma solução para o problema com 8 palavras: {MA, OS, AS, TU, LI, RO, TO, MO}.\n",
    "<img src=\"figures/PalavrasCruzadas2x2.png\" alt=\"Drawing\" style=\"width: 100px;\"/>"
   ]
  },
  {
   "cell_type": "code",
   "execution_count": null,
   "metadata": {},
   "outputs": [],
   "source": [
    "# Resolução das palavras-cruzadas pequeninas\n",
    "\n"
   ]
  },
  {
   "cell_type": "markdown",
   "metadata": {},
   "source": [
    "### Exercício 5 - Escalonamento de tarefas\n",
    "\n",
    "Formule o problema de escalonamento de tarefas de modo a determinar os tempos de início de cada tarefa que minimizam a duração total do processo. Verifique que está a funcionar bem invocando o ***backtracking_search()***.\n",
    "\n",
    "<img src=\"figures/tarefas.PNG\" alt=\"Drawing\" style=\"width: 200px;\"/>"
   ]
  },
  {
   "cell_type": "code",
   "execution_count": null,
   "metadata": {},
   "outputs": [],
   "source": [
    "# Resolução do exercíco 5\n",
    "\n"
   ]
  },
  {
   "cell_type": "markdown",
   "metadata": {},
   "source": [
    "### Exercício 6 - Problema das 4 rainhas\n",
    "\n",
    "Considere o problema das 4 rainhas em que queremos dispor 4 rainhas num tabuleiro 4x4 tal que as raínhas não se ataquem entre si. As rainhas atacam ao longo das colunas, linhas e diagonais. Formule o problema CSP definindo as variáveis, os domínios, os vizinhos e as restrições para este problema.\n",
    "\n",
    "<img src=\"figures/4queens.png\" alt=\"Drawing\" style=\"width: 150px;\"/>"
   ]
  },
  {
   "cell_type": "code",
   "execution_count": null,
   "metadata": {},
   "outputs": [],
   "source": [
    "# resolução do exercício 6\n",
    "\n"
   ]
  },
  {
   "cell_type": "markdown",
   "metadata": {},
   "source": [
    "### Exercício 7 - Problema das N rainhas\n",
    "\n",
    "Altere o problema das 4 rainhas que resolveu no exercício anterior e formule o problema das `N` rainhas. Defina a função **`CSP_N_rainhas(N)`** que recebe como parâmetro o número `N` de rainhas e devolve um `CSP` inicializado com as variáveis, os domínios, os vizinhos e as restrições para este problema. Confirme que está ok criando problemas com várias dimensões e invocando o método ***backtracking_search()***.\n",
    "\n",
    "<img src=\"figures/16_queens_problem_trial.jpg\" alt=\"Drawing\" style=\"width: 200px;\"/>"
   ]
  },
  {
   "cell_type": "code",
   "execution_count": null,
   "metadata": {},
   "outputs": [],
   "source": [
    "## Resolução do exercício 7\n",
    "\n"
   ]
  },
  {
   "cell_type": "markdown",
   "metadata": {},
   "source": [
    "### Exercício 8 - Problema do Sudoku\n",
    "Formule como um CSP o problema do Sudoku para uma grelha 9x9.\n",
    "Eis o exemplo de um problema em modo texto que pode usar para construir o CSP. Cosntrua uma função que recebe a string com o exemplo de puzzle e devolve a instância de CSP respetiva. Confirme que está ok invocando o método ***backtracking_search()*** para o exemplo a seguir.\n",
    "\n",
    "```python\n",
    "..3.2.6..\n",
    "9..3.5..1\n",
    "..18.64..\n",
    "..81.29..\n",
    "7.......8\n",
    "..67.82..\n",
    "..26.95..\n",
    "8..2.3..9\n",
    "..5.1.3..\n",
    "```\n",
    "temos a string de input:\n",
    "\n",
    "```python\n",
    "'..3.2.6..9..3.5..1..18.64....81.29..7.......8..67.82....26.95..8..2.3..9..5.1.3..'\n",
    "```\n",
    "\n"
   ]
  },
  {
   "cell_type": "code",
   "execution_count": null,
   "metadata": {},
   "outputs": [],
   "source": [
    "### Resolução do Exercício 8 - Problema do Sudoku\n",
    "\n"
   ]
  },
  {
   "cell_type": "markdown",
   "metadata": {},
   "source": [
    "### Exercício 9 - Puzzle da Zebra\n",
    "\n",
    "Considere o puzzle da Zebra https://en.wikipedia.org/wiki/Zebra_Puzzle, que consiste no seguinte puzzle lógico: Em 5 casas, cada uma com uma cor diferente, vivem 5 pessoas de nacionalidades diferentes, cada um prefere uma marca diferente de chocolates, uma bebida diferente, e um animal diferente. Dados os factos que se seguem, as perguntas a responder são: “Onde mora a zebra e em que casa bebem água “.\n",
    "Formule o problema usando CSP e confirme que a solução é encontrada invocando o método ***backtracking_search()***.\n",
    "\n",
    "<img src=\"figures/zebra.PNG\" alt=\"Drawing\" style=\"width: 600px;\"/>\n"
   ]
  },
  {
   "cell_type": "code",
   "execution_count": null,
   "metadata": {},
   "outputs": [],
   "source": [
    "# Resolução do Exer. 9\n",
    "\n"
   ]
  }
 ],
 "metadata": {
  "kernelspec": {
   "display_name": "Python 3 (ipykernel)",
   "language": "python",
   "name": "python3"
  },
  "language_info": {
   "codemirror_mode": {
    "name": "ipython",
    "version": 3
   },
   "file_extension": ".py",
   "mimetype": "text/x-python",
   "name": "python",
   "nbconvert_exporter": "python",
   "pygments_lexer": "ipython3",
   "version": "3.8.12"
  }
 },
 "nbformat": 4,
 "nbformat_minor": 2
}