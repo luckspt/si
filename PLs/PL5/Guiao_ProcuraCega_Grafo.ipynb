{
 "cells": [
  {
   "cell_type": "markdown",
   "metadata": {},
   "source": [
    "# Sistemas Inteligentes\n",
    "\n",
    "## Procura não informada\n",
    "\n",
    "## Conteúdos\n",
    "\n",
    "##### Procura em grafo\n",
    "* Procura em largura primeiro\n",
    "* Procura em profundidade primeiro\n",
    "* Custo uniforme\n",
    "* Exercícios\n"
   ]
  },
  {
   "cell_type": "markdown",
   "metadata": {
    "colab_type": "text",
    "id": "LekFEsVbua_R"
   },
   "source": [
    "## Introdução\n",
    "\n",
    "Nesta aula vamos ver mais alguns aspetos relacionados com a resolução de problemas de acordo com o Paradigma do Espaço de Estados, usando a implementação disponibilizada pelo módulo `searchPlus.py`, introduzido na aula anterior. Vamos hoje começar por ver como poderemos utilizar os dois algoritmos de procura standard, na sua versão em grafo."
   ]
  },
  {
   "cell_type": "code",
   "execution_count": 2,
   "metadata": {},
   "outputs": [],
   "source": [
    "from searchPlus import *"
   ]
  },
  {
   "cell_type": "markdown",
   "metadata": {},
   "source": [
    "## Grafo com custos heterogéneos\n",
    "Vamos voltar a usar o grafo abstracto da figura em baixo, com custos heterogéneos."
   ]
  },
  {
   "cell_type": "markdown",
   "metadata": {},
   "source": [
    "<img src=\"figura-ee-T-2.png\" alt=\"Drawing\" style=\"width: 300px;\"/>"
   ]
  },
  {
   "cell_type": "code",
   "execution_count": 3,
   "metadata": {
    "colab": {},
    "colab_type": "code",
    "id": "ExFVWdVxyRvI"
   },
   "outputs": [],
   "source": [
    "class ProblemaGrafoCustos(Problem) :\n",
    "    grafo = {'I':{'A':2,'B':5},\n",
    "             'A':{'C':2,'D':4,'I':2},\n",
    "             'B':{'D':1,'F':5,'I':5},\n",
    "             'C':{},\n",
    "             'D':{'C':3,'F':2},\n",
    "             'F':{}}\n",
    "\n",
    "    def __init__(self,initial = 'I', final = 'F') :\n",
    "        super().__init__(initial,final)\n",
    "        \n",
    "    def actions(self,estado) :\n",
    "        sucessores = self.grafo[estado].keys()  # métodos keys() devolve a lista das chaves do dicionário\n",
    "        accoes = list(map(lambda x : \"ir de {} para {}\".format(estado,x),sucessores))\n",
    "        return accoes\n",
    "\n",
    "    def result(self, estado, accao) :\n",
    "        \"\"\"Assume-se que uma acção é da forma 'ir de X para Y'\n",
    "        \"\"\"\n",
    "        return accao.split()[-1]\n",
    "    \n",
    "    def path_cost(self, c, state1, action, state2):\n",
    "        return c + self.grafo[state1][state2]"
   ]
  },
  {
   "cell_type": "markdown",
   "metadata": {},
   "source": [
    "## Profundidade-prim e Largura-prim em Grafo"
   ]
  },
  {
   "cell_type": "markdown",
   "metadata": {},
   "source": [
    "Na procura em grafo, tanto na profundidade primeiro como na largura primeiro é preciso guardar os estados expandidos num conjunto e também filtrar os estados sucessores, evitando os já expandidos ou aqueles que são terminais dos caminhos na fronteira (ainda não expandidos mas na fronteira).\n",
    "```python\n",
    "def graph_search(problem, frontier):\n",
    "    \"\"\"Search through the successors of a problem to find a goal.\n",
    "    The argument frontier should be an empty queue.\n",
    "    If two paths reach a state, only use the first one. [Figure 3.7]\"\"\"\n",
    "    frontier.append(Node(problem.initial))\n",
    "    explored = set()\n",
    "    while frontier:\n",
    "        node = frontier.pop()\n",
    "        if problem.goal_test(node.state):\n",
    "            return node\n",
    "        explored.add(node.state)\n",
    "        frontier.extend(child for child in node.expand(problem)\n",
    "                        if child.state not in explored and\n",
    "                        child not in frontier)\n",
    "    return None\n",
    "```\n",
    "\n",
    "As diferenças são que teremos um conjunto de estados explorados que começa vazio:\n",
    "```\n",
    "explored=set()\n",
    "```\n",
    "Quando se expande um nó o seu estado é colocado no conjunto de explorados\n",
    "\n",
    "```\n",
    "explored.add(node.state)\n",
    "```\n",
    "\n",
    "Não se colocam na fronteira todos os nós expandidos, mas apenas aqueles cujo estado não foi ainda explorado, ou que não sejam os estados dos nós da fronteira.\n",
    "\n",
    "```\n",
    "frontier.extend(child for child in node.expand(problem)\n",
    "                        if child.state not in explored and\n",
    "                        child not in frontier)\n",
    "```\n"
   ]
  },
  {
   "cell_type": "markdown",
   "metadata": {},
   "source": [
    "Notem que a instrução \n",
    "```python\n",
    "child not in frontier\n",
    "```\n",
    "\n",
    "só funciona porque dois nós são iguais apenas se os seus atributos **state** o forem, mesmo que os outros atributos não sejam nada iguais!"
   ]
  },
  {
   "cell_type": "markdown",
   "metadata": {},
   "source": [
    "Eis o algoritmo de procura-primeiro que utiliza o ***graph_search()***\n",
    "```python\n",
    "def depth_first_graph_search(problem):\n",
    "    \"\"\"Search the deepest nodes in the search tree first.\"\"\"\n",
    "    return graph_search(problem, Stack())\n",
    "```\n",
    "\n",
    "Notem que os elementos que são inseridos num conjunto têm que ser **hashable**. Temos de ter como estados elementos \"hashable\" para inserir nos conjuntos e verificar se são membros de conjuntos."
   ]
  },
  {
   "cell_type": "markdown",
   "metadata": {},
   "source": [
    "As strings são \"hashable\" e por isso tudo funciona bem com o grafo abstracto com custos da figura.\n",
    "Experimentem:"
   ]
  },
  {
   "cell_type": "code",
   "execution_count": 4,
   "metadata": {},
   "outputs": [
    {
     "data": {
      "text/plain": "-2817946740830214814"
     },
     "execution_count": 4,
     "metadata": {},
     "output_type": "execute_result"
    }
   ],
   "source": [
    "hash(\"branco\")"
   ]
  },
  {
   "cell_type": "markdown",
   "metadata": {},
   "source": [
    "Como não existe no aima-pyton (módulo `searchPlus.py`) a largura-primeiro em grafo, ei-la aqui."
   ]
  },
  {
   "cell_type": "code",
   "execution_count": 5,
   "metadata": {},
   "outputs": [],
   "source": [
    "def breadth_first_graph_search(problem):\n",
    "    \"\"\"Search the deepest nodes in the search tree first.\"\"\"\n",
    "    return graph_search(problem, FIFOQueue())"
   ]
  },
  {
   "cell_type": "markdown",
   "metadata": {
    "colab_type": "text",
    "id": "FjkymD_czL2l"
   },
   "source": [
    "Comecemos por criar uma instância da classe do problema e mostrar o grafo e o estado inicial."
   ]
  },
  {
   "cell_type": "code",
   "execution_count": 6,
   "metadata": {
    "colab": {
     "base_uri": "https://localhost:8080/",
     "height": 34
    },
    "colab_type": "code",
    "executionInfo": {
     "elapsed": 623,
     "status": "ok",
     "timestamp": 1538853312991,
     "user": {
      "displayName": "Paulo Urbano",
      "photoUrl": "",
      "userId": "11091263212854737306"
     },
     "user_tz": -60
    },
    "id": "DjZ5zsTuzXXX",
    "outputId": "4539549d-9e76-43c1-8421-d5affc97d9e6"
   },
   "outputs": [
    {
     "data": {
      "text/plain": "'I'"
     },
     "execution_count": 6,
     "metadata": {},
     "output_type": "execute_result"
    }
   ],
   "source": [
    "p = ProblemaGrafoCustos()\n",
    "p.initial"
   ]
  },
  {
   "cell_type": "markdown",
   "metadata": {},
   "source": [
    "Invoquemos a procura em largura em grafo."
   ]
  },
  {
   "cell_type": "code",
   "execution_count": 7,
   "metadata": {},
   "outputs": [
    {
     "data": {
      "text/plain": "['ir de I para B', 'ir de B para F']"
     },
     "execution_count": 7,
     "metadata": {},
     "output_type": "execute_result"
    }
   ],
   "source": [
    "res=breadth_first_graph_search(p)\n",
    "res.solution()"
   ]
  },
  {
   "cell_type": "markdown",
   "metadata": {},
   "source": [
    "Notem que o problema dos ciclos com a procura em profundidade neste grafo ficou resolvido!"
   ]
  },
  {
   "cell_type": "code",
   "execution_count": 8,
   "metadata": {},
   "outputs": [
    {
     "data": {
      "text/plain": "['ir de I para B', 'ir de B para F']"
     },
     "execution_count": 8,
     "metadata": {},
     "output_type": "execute_result"
    }
   ],
   "source": [
    "res=depth_first_graph_search(p)\n",
    "res.solution()"
   ]
  },
  {
   "cell_type": "markdown",
   "metadata": {},
   "source": [
    "#### Exercício 1\n",
    "Faça uma versão da procura em grafo que mostre os estados expandidos ao longo da procura e teste-os para o grafo abstracto, confirmando que os estados nunca são expandidos mais do que uma vez."
   ]
  },
  {
   "cell_type": "code",
   "execution_count": 9,
   "metadata": {},
   "outputs": [],
   "source": [
    "## Resolução do exercício 1\n",
    "def graph_search_echo(problem, frontier):\n",
    "    \"\"\"Search through the successors of a problem to find a goal.\n",
    "    The argument frontier should be an empty queue.\n",
    "    If two paths reach a state, only use the first one. [Figure 3.7]\"\"\"\n",
    "    frontier.append(Node(problem.initial))\n",
    "    explored = set()\n",
    "    while frontier:\n",
    "        node = frontier.pop()\n",
    "        if problem.goal_test(node.state):\n",
    "            return node\n",
    "\n",
    "        if node.state not in explored:\n",
    "            print('Expandir', node.state)\n",
    "\n",
    "        explored.add(node.state)\n",
    "        frontier.extend(child for child in node.expand(problem)\n",
    "                        if child.state not in explored and\n",
    "                        child not in frontier)\n",
    "        print('Fronteira', frontier)\n",
    "    return None"
   ]
  },
  {
   "cell_type": "code",
   "execution_count": 10,
   "metadata": {
    "collapsed": false,
    "pycharm": {
     "name": "#%%\n"
    }
   },
   "outputs": [],
   "source": [
    "def depth_first_graph_search_echo(problem):\n",
    "    \"\"\"Search the deepest nodes in the search tree first.\"\"\"\n",
    "    return graph_search_echo(problem, Stack())"
   ]
  },
  {
   "cell_type": "code",
   "execution_count": 11,
   "metadata": {
    "pycharm": {
     "name": "#%%\n"
    }
   },
   "outputs": [
    {
     "name": "stdout",
     "output_type": "stream",
     "text": [
      "Expandir I\n",
      "Fronteira [<Node A>, <Node B>]\n",
      "Expandir B\n",
      "Fronteira [<Node A>, <Node D>, <Node F>]\n",
      "['ir de I para B', 'ir de B para F']\n"
     ]
    }
   ],
   "source": [
    "res=depth_first_graph_search_echo(p)\n",
    "print(res.solution())"
   ]
  },
  {
   "cell_type": "markdown",
   "metadata": {
    "collapsed": false,
    "pycharm": {
     "name": "#%% md\n"
    }
   },
   "source": [
    "## Comparação de procura em árvore vs. em grafo\n",
    "### Pacman Grave come pastilha\n",
    "Vamos formular problemas de navegação sujeita às forças da gravidade, numa grelha 2D em que algumas células são obstáculos impassíveis. O estado vai ser um tuplo com as coordenadas (x,y) (x corresponde à coluna e y à linha) e as acções (x+dx,y+dy) correspondem às casas vizinhas, desde que não sejam obstáculos. (dx,dy) corresponde ao deslocamento: (0,1) corresponde ao norte e (-1,-1) a sudoeste.\n",
    "Notem que as acções para baixo não custam nada, as acções na horizontal custam 1 e as acções para cima custam 2."
   ]
  },
  {
   "cell_type": "code",
   "execution_count": 12,
   "metadata": {},
   "outputs": [],
   "source": [
    "class GridProblem(Problem):\n",
    "    \"\"\"Encontrar um caminho numa grelha 2D com obstáculos. Os obstáculos são células (x, y).\"\"\"\n",
    "\n",
    "    def __init__(self, initial=(1, 1), goal=(7, 8), obstacles=()):\n",
    "        self.initial=initial\n",
    "        self.goal=goal \n",
    "        self.obstacles=set(obstacles) - {initial, goal}\n",
    "\n",
    "    directions = {\"N\":(0, -1), \"W\":(-1, 0), \"E\":(1,  0),\"S\":(0, +1)}  # ortogonais\n",
    "    \n",
    "    costs = {\"N\":3, \"W\":1, \"E\":1,\"S\":0}  # ortogonais\n",
    "                  \n",
    "    def result(self, state, action): \n",
    "        \"Tanto as acções como os estados são representados por pares (x,y).\"\n",
    "        (x,y) = state\n",
    "        (dx,dy) = self.directions[action]\n",
    "        return (x+dx,y+dy) \n",
    "    \n",
    "    def actions(self, state):\n",
    "        \"\"\"Podes move-te para uma célula em qualquer das direcções para uma casa \n",
    "           que não seja obstáculo.\"\"\"\n",
    "        x, y = state\n",
    "        return [act for act in self.directions.keys() if (x+self.directions[act][0],y+self.directions[act][1]) not in self.obstacles]\n",
    "    \n",
    "    def path_cost(self,c,state,action,new):\n",
    "        return c+self.costs[action]\n",
    "    \n",
    "    def display(self, state,d):\n",
    "        \"\"\" print the state please\"\"\"\n",
    "        output=\"\"\n",
    "        for j in range(d):\n",
    "            for i in range(d):\n",
    "                if state ==(i,j):\n",
    "                    ch = '@'\n",
    "                elif self.goal==(i,j):\n",
    "                    ch = \"*\"\n",
    "                elif (i,j) in self.obstacles:\n",
    "                    ch = \"#\"\n",
    "                else:\n",
    "                    ch = \".\"\n",
    "                output += ch + \" \"\n",
    "            output += \"\\n\"\n",
    "        print(output)\n",
    "        \n",
    "    def display_trace(self,d,plan):\n",
    "        path = set()\n",
    "        st = self.initial\n",
    "        for a in plan[:-1]:\n",
    "            st = self.result(st,a)\n",
    "            path.add(st)\n",
    "            \n",
    "        \"\"\" print the state please\"\"\"\n",
    "        output=\"\"\n",
    "        for j in range(d):\n",
    "            for i in range(d):\n",
    "                if self.initial ==(i,j):\n",
    "                    ch = '@'\n",
    "                elif self.goal==(i,j):\n",
    "                    ch = \"*\"\n",
    "                elif (i,j) in self.obstacles:\n",
    "                    ch = \"#\"\n",
    "                elif (i,j) in path:\n",
    "                    ch = '+'\n",
    "                else:\n",
    "                    ch = \".\"\n",
    "                output += ch + \" \"\n",
    "            output += \"\\n\"\n",
    "        print(output)\n",
    "\n",
    "def line(x, y, dx, dy, length):\n",
    "    \"\"\"Uma linha de células de comprimento 'length' começando em (x, y) na direcção (dx, dy).\"\"\"\n",
    "    return {(x + i * dx, y + i * dy) for i in range(length)}\n",
    "\n",
    "def quadro(x, y, length):\n",
    "    \"\"\"Uma moldura quadrada de células de comprimento 'length' começando no topo esquerdo (x, y).\"\"\"\n",
    "    return line(x,y,0,1,length) | line(x+length-1,y,0,1,length) | line(x,y,1,0,length) | line(x,y+length-1,1,0,length)"
   ]
  },
  {
   "cell_type": "markdown",
   "metadata": {},
   "source": [
    "Criemos um mundo cercado 10 x 10, em que o Pacman começa na posição (1,1) e temos uma pastilha em baixo na posição (7,8)."
   ]
  },
  {
   "cell_type": "code",
   "execution_count": 13,
   "metadata": {},
   "outputs": [
    {
     "name": "stdout",
     "output_type": "stream",
     "text": [
      "# # # # # # # # # # \n",
      "# @ . . . . . . . # \n",
      "# . . . . . . . . # \n",
      "# . . . . . . . . # \n",
      "# . . . . . . . . # \n",
      "# . . . . . . . . # \n",
      "# . . . . . . . . # \n",
      "# . . . . . . . . # \n",
      "# . . . . . . * . # \n",
      "# # # # # # # # # # \n",
      "\n"
     ]
    }
   ],
   "source": [
    "fronteira = quadro(0,0,10)\n",
    "g = GridProblem(obstacles=fronteira)\n",
    "g.display(g.initial,10)"
   ]
  },
  {
   "cell_type": "markdown",
   "metadata": {},
   "source": [
    "Executemos Profundidade-primeiro em ávore e calculemos o tempo que demora a encontrar a solução:"
   ]
  },
  {
   "cell_type": "code",
   "execution_count": 14,
   "metadata": {},
   "outputs": [
    {
     "name": "stdout",
     "output_type": "stream",
     "text": [
      "Solução Prof-prim (árvore) com custo 6:\n",
      "['S', 'S', 'S', 'S', 'S', 'S', 'S', 'E', 'E', 'E', 'E', 'E', 'E']\n",
      "Time:  0.0006246909979381599\n",
      "Podemos ver o rasto do plano\n",
      "# # # # # # # # # # \n",
      "# @ . . . . . . . # \n",
      "# + . . . . . . . # \n",
      "# + . . . . . . . # \n",
      "# + . . . . . . . # \n",
      "# + . . . . . . . # \n",
      "# + . . . . . . . # \n",
      "# + . . . . . . . # \n",
      "# + + + + + + * . # \n",
      "# # # # # # # # # # \n",
      "\n"
     ]
    }
   ],
   "source": [
    "import timeit\n",
    "start = timeit.default_timer()\n",
    "resultado = depth_first_tree_search(g)\n",
    "print(\"Solução Prof-prim (árvore) com custo\", str(resultado.path_cost)+\":\")\n",
    "print(resultado.solution())\n",
    "stop = timeit.default_timer()\n",
    "print('Time: ', stop - start)\n",
    "print('Podemos ver o rasto do plano')\n",
    "g.display_trace(10,resultado.solution())"
   ]
  },
  {
   "cell_type": "markdown",
   "metadata": {},
   "source": [
    "E agora a profundidade primeiro na sua versão em grafo, que por acaso dá a mesma solução do que a versão em árvore:"
   ]
  },
  {
   "cell_type": "code",
   "execution_count": 15,
   "metadata": {},
   "outputs": [
    {
     "name": "stdout",
     "output_type": "stream",
     "text": [
      "Solução Prof-prim (grafo) com custo 6:\n",
      "['S', 'S', 'S', 'S', 'S', 'S', 'S', 'E', 'E', 'E', 'E', 'E', 'E']\n",
      "Time:  0.0004997569994884543\n",
      "# # # # # # # # # # \n",
      "# @ . . . . . . . # \n",
      "# + . . . . . . . # \n",
      "# + . . . . . . . # \n",
      "# + . . . . . . . # \n",
      "# + . . . . . . . # \n",
      "# + . . . . . . . # \n",
      "# + . . . . . . . # \n",
      "# + + + + + + * . # \n",
      "# # # # # # # # # # \n",
      "\n"
     ]
    }
   ],
   "source": [
    "import timeit\n",
    "start = timeit.default_timer()\n",
    "resultado = depth_first_graph_search(g)\n",
    "print(\"Solução Prof-prim (grafo) com custo\", str(resultado.path_cost)+\":\")\n",
    "print(resultado.solution())\n",
    "stop = timeit.default_timer()\n",
    "print('Time: ', stop - start)\n",
    "g.display_trace(10,resultado.solution())"
   ]
  },
  {
   "cell_type": "markdown",
   "metadata": {},
   "source": [
    "Vamos comparar a procura em largura primeiro nas suas duas versões: árvore e grafo, para o problema de cima, para o objectivo: (7,8)."
   ]
  },
  {
   "cell_type": "code",
   "execution_count": 16,
   "metadata": {},
   "outputs": [
    {
     "name": "stdout",
     "output_type": "stream",
     "text": [
      "Solução largura-prim (árvore) com custo 6:\n",
      "['E', 'E', 'E', 'E', 'E', 'E', 'S', 'S', 'S', 'S', 'S', 'S', 'S']\n",
      "Time:  38.592319347997545\n",
      "Solução largura-prim (grafo) com custo 6:\n",
      "['E', 'E', 'E', 'E', 'E', 'E', 'S', 'S', 'S', 'S', 'S', 'S', 'S']\n",
      "Time:  0.0007475820020772517\n",
      "A Versão em grafo é 51623.0 mais rápida\n"
     ]
    }
   ],
   "source": [
    "import timeit\n",
    "\n",
    "# em árvore\n",
    "start = timeit.default_timer()\n",
    "resultado = breadth_first_tree_search(g)\n",
    "print(\"Solução largura-prim (árvore) com custo\", str(resultado.path_cost)+\":\")\n",
    "print(resultado.solution())\n",
    "stop = timeit.default_timer()\n",
    "timeTree = stop - start\n",
    "print('Time: ', timeTree) \n",
    "\n",
    "# em Grafo\n",
    "start = timeit.default_timer()\n",
    "resultado = breadth_first_graph_search(g)\n",
    "print(\"Solução largura-prim (grafo) com custo\", str(resultado.path_cost)+\":\")\n",
    "print(resultado.solution())\n",
    "stop = timeit.default_timer()\n",
    "timeGraph = stop-start\n",
    "print('Time: ', timeGraph)\n",
    "\n",
    "print(\"A Versão em grafo é\",round(timeTree/timeGraph,0),\"mais rápida\")"
   ]
  },
  {
   "cell_type": "markdown",
   "metadata": {},
   "source": [
    "É notória a vantagem no uso da versão em grafo quando há muitos estados repetidos na árvore."
   ]
  },
  {
   "cell_type": "markdown",
   "metadata": {},
   "source": [
    "## Custo Uniforme (grafo)\n",
    "Se aplicarmos a procura de custo uniforme **teremos sempre a solução óptima**. "
   ]
  },
  {
   "cell_type": "markdown",
   "metadata": {},
   "source": [
    "Vamos fazê-lo para o grafo abstracto do início do guião."
   ]
  },
  {
   "cell_type": "code",
   "execution_count": 17,
   "metadata": {},
   "outputs": [
    {
     "name": "stdout",
     "output_type": "stream",
     "text": [
      "solução custo uniforme (grafo) com custo 8:\n",
      "ir de I para A\n",
      "ir de A para D\n",
      "ir de D para F\n"
     ]
    }
   ],
   "source": [
    "resultado = uniform_cost_search(p)\n",
    "print(\"solução custo uniforme (grafo) com custo\", str(resultado.path_cost)+\":\")\n",
    "for x in resultado.solution():\n",
    "    print(x)"
   ]
  },
  {
   "cell_type": "code",
   "execution_count": 18,
   "metadata": {
    "collapsed": false,
    "pycharm": {
     "name": "#%%\n"
    }
   },
   "outputs": [
    {
     "name": "stdout",
     "output_type": "stream",
     "text": [
      "Solução custo uniforme (grafo) com custo 6:\n",
      "['S', 'S', 'S', 'S', 'S', 'S', 'S', 'E', 'E', 'E', 'E', 'E', 'E']\n",
      "Time:  0.0012955109996255487\n",
      "# # # # # # # # # # \n",
      "# @ . . . . . . . # \n",
      "# + . . . . . . . # \n",
      "# + . . . . . . . # \n",
      "# + . . . . . . . # \n",
      "# + . . . . . . . # \n",
      "# + . . . . . . . # \n",
      "# + . . . . . . . # \n",
      "# + + + + + + * . # \n",
      "# # # # # # # # # # \n",
      "\n"
     ]
    }
   ],
   "source": [
    "start = timeit.default_timer()\n",
    "resultado = uniform_cost_search(g)\n",
    "print(\"Solução custo uniforme (grafo) com custo\", str(resultado.path_cost)+\":\")\n",
    "print(resultado.solution())\n",
    "stop = timeit.default_timer()\n",
    "timeGraph = stop-start\n",
    "print('Time: ', timeGraph)\n",
    "g.display_trace(10,resultado.solution())"
   ]
  },
  {
   "cell_type": "markdown",
   "metadata": {},
   "source": [
    "#### Exercício 2.\n",
    "Calcule os melhores caminhos até F a partir de quaisquer dos estados do grafo. No caso de não haver solução indique-o, como em baixo.\n",
    "\n",
    "    Menor distância de  I ao objectivo F = 8\n",
    "    Menor distância de  A ao objectivo F = 6\n",
    "    Menor distância de  B ao objectivo F = 3\n",
    "    Sem solução a partir de C\n",
    "    Menor distância de  D ao objectivo F = 2\n",
    "    Menor distância de  F ao objectivo F = 0"
   ]
  },
  {
   "cell_type": "code",
   "execution_count": 19,
   "metadata": {},
   "outputs": [
    {
     "name": "stdout",
     "output_type": "stream",
     "text": [
      "Menor distancia de I ao objetivo F = 8\n",
      "Menor distancia de A ao objetivo F = 6\n",
      "Menor distancia de B ao objetivo F = 3\n",
      "Sem solução a partir de C\n",
      "Menor distancia de D ao objetivo F = 2\n",
      "Menor distancia de F ao objetivo F = 0\n"
     ]
    }
   ],
   "source": [
    "# Resolução do exercício 2\n",
    "for estado in p.grafo.keys():\n",
    "    px = uniform_cost_search(ProblemaGrafoCustos(estado))\n",
    "    if not px:\n",
    "        print(f'Sem solução a partir de {estado}')\n",
    "    else:\n",
    "        print(f'Menor distancia de {estado} ao objetivo {p.goal} = {px.path_cost}')\n"
   ]
  },
  {
   "cell_type": "markdown",
   "metadata": {},
   "source": [
    "### Por dentro do ***uniform_cost_search()***\n",
    "O algoritmo de custo uniforme implementado em `searchPlus.py` faz uso de um método genérico ***uniform_cost_search()***, que usa um estrutura de dados ***PriorityQueue*** para armazenar a fronteira. A função que é usada na fila de prioridades é passada como argumento. Neste caso, é o custo que é o critério que estrutura a fila de prioridades, passado como função no segundo argumento, sendo o primeiro a instância do problema."
   ]
  },
  {
   "cell_type": "markdown",
   "metadata": {},
   "source": [
    "```python\n",
    "def uniform_cost_search(problem):\n",
    "    \"\"\"[Figure 3.14]\"\"\"\n",
    "    return best_first_graph_search(problem, lambda node: node.path_cost)\n",
    "```"
   ]
  },
  {
   "cell_type": "markdown",
   "metadata": {},
   "source": [
    "Olhemos com algum detalhe para o método ***best_first_graph_search***. Como é uma pesquisa em grafo é necessário guardar num conjunto os estados expandidos.\n",
    "\n",
    "A fronteira é uma **PriorityQueue** que estrutura os seus elementos com base na minimização da função f (no caso do custo uniforme, f devolve o custo do caminho).\n",
    "\n",
    "Os sucessores de um nó são filtrados de modo a que os estados expandidos nunca sejam expandidos e de modo a que se há um nó na fronteira que seja igual ao do nó sucessor (estados iguais) só o que tem menor custo é que fica na fronteira. Só é adicionado se não tiver sido expandido nem existe na fronteira ou se é melhor do que o que existe na fronteira, que é retirado.\n",
    "\n",
    "De modo a que não se recalcule sempre a função f, os valores de f são \"cached\".\n",
    "\n",
    "Notem que os estados têm de ser comparáveis, tem de existir o método __lt()__ (less than). Os tuplos de inteiros são comparáveis."
   ]
  },
  {
   "cell_type": "markdown",
   "metadata": {},
   "source": [
    "```python\n",
    "def best_first_graph_search(problem, f):\n",
    "    \"\"\"Search the nodes with the lowest f scores first.\n",
    "    You specify the function f(node) that you want to minimize; for example,\n",
    "    if f is a heuristic estimate to the goal, then we have greedy best\n",
    "    first search; if f is node.depth then we have breadth-first search.\n",
    "    There is a subtlety: the line \"f = memoize(f, 'f')\" means that the f\n",
    "    values will be cached on the nodes as they are computed. So after doing\n",
    "    a best first search you can examine the f values of the path returned.\"\"\"\n",
    "    f = memoize(f, 'f')\n",
    "    node = Node(problem.initial)\n",
    "    if problem.goal_test(node.state):\n",
    "        return node\n",
    "    frontier = PriorityQueue(min, f)\n",
    "    frontier.append(node)\n",
    "    explored = set()\n",
    "    while frontier:\n",
    "        node = frontier.pop()\n",
    "        if problem.goal_test(node.state):\n",
    "            return node\n",
    "        explored.add(node.state)\n",
    "        for child in node.expand(problem):\n",
    "            if child.state not in explored and child not in frontier:\n",
    "                frontier.append(child)\n",
    "            elif child in frontier:\n",
    "                incumbent = frontier[child]\n",
    "                if f(child) < f(incumbent):\n",
    "                    del frontier[incumbent]\n",
    "                    frontier.append(child)\n",
    "    return None\n",
    "```"
   ]
  },
  {
   "cell_type": "markdown",
   "metadata": {},
   "source": [
    "Voltemos ao Pacman vítima da força da gravidade.\n",
    "Vamos colocar alguns obstáculos no mundo."
   ]
  },
  {
   "cell_type": "code",
   "execution_count": 20,
   "metadata": {},
   "outputs": [
    {
     "name": "stdout",
     "output_type": "stream",
     "text": [
      "# # # # # # # # # # \n",
      "# @ . . . . . . . # \n",
      "# . # # # # # # . # \n",
      "# . # * . . . . . # \n",
      "# . # . . . . . . # \n",
      "# . # . . . . . . # \n",
      "# . # . . . . . . # \n",
      "# . . . . . . . . # \n",
      "# . . . . . . . . # \n",
      "# # # # # # # # # # \n",
      "\n"
     ]
    }
   ],
   "source": [
    "l = line(2,2,1,0,6)\n",
    "c = line(2,3,0,1,4)\n",
    "g = GridProblem(obstacles=fronteira | l | c,goal=(3,3))\n",
    "g.display(g.initial,10)"
   ]
  },
  {
   "cell_type": "markdown",
   "metadata": {},
   "source": [
    "Executemos a Largura-prim em grafo"
   ]
  },
  {
   "cell_type": "code",
   "execution_count": 21,
   "metadata": {},
   "outputs": [
    {
     "name": "stdout",
     "output_type": "stream",
     "text": [
      "Solução largura-prim (grafo) com custo 14:\n",
      "['S', 'S', 'S', 'S', 'S', 'S', 'E', 'E', 'N', 'N', 'N', 'N']\n",
      "Time:  0.0012175239971838892\n",
      "# # # # # # # # # # \n",
      "# @ . . . . . . . # \n",
      "# + # # # # # # . # \n",
      "# + # * . . . . . # \n",
      "# + # + . . . . . # \n",
      "# + # + . . . . . # \n",
      "# + # + . . . . . # \n",
      "# + + + . . . . . # \n",
      "# . . . . . . . . # \n",
      "# # # # # # # # # # \n",
      "\n"
     ]
    }
   ],
   "source": [
    "# em Grafo\n",
    "start = timeit.default_timer()\n",
    "resultado = breadth_first_graph_search(g)\n",
    "print(\"Solução largura-prim (grafo) com custo\", str(resultado.path_cost)+\":\")\n",
    "print(resultado.solution())\n",
    "stop = timeit.default_timer()\n",
    "timeGraph = stop-start\n",
    "print('Time: ', timeGraph)\n",
    "g.display_trace(10,resultado.solution())"
   ]
  },
  {
   "cell_type": "markdown",
   "metadata": {},
   "source": [
    "E agora o custo uniforme, que dá a solução óptima em termos de custo mas que tem mais duas acções do que a devolvida pela largura."
   ]
  },
  {
   "cell_type": "code",
   "execution_count": 22,
   "metadata": {},
   "outputs": [
    {
     "name": "stdout",
     "output_type": "stream",
     "text": [
      "Solução custo uniforme (grafo) com custo 12:\n",
      "['E', 'E', 'E', 'E', 'E', 'E', 'E', 'S', 'S', 'W', 'W', 'W', 'W', 'W']\n",
      "Time:  0.0019220319954911247\n",
      "# # # # # # # # # # \n",
      "# @ + + + + + + + # \n",
      "# . # # # # # # + # \n",
      "# . # * + + + + + # \n",
      "# . # . . . . . . # \n",
      "# . # . . . . . . # \n",
      "# . # . . . . . . # \n",
      "# . . . . . . . . # \n",
      "# . . . . . . . . # \n",
      "# # # # # # # # # # \n",
      "\n"
     ]
    }
   ],
   "source": [
    "# em Grafo\n",
    "start = timeit.default_timer()\n",
    "resultado = uniform_cost_search(g)\n",
    "print(\"Solução custo uniforme (grafo) com custo\", str(resultado.path_cost)+\":\")\n",
    "print(resultado.solution())\n",
    "stop = timeit.default_timer()\n",
    "timeGraph = stop-start\n",
    "print('Time: ', timeGraph)\n",
    "g.display_trace(10,resultado.solution())"
   ]
  },
  {
   "cell_type": "markdown",
   "metadata": {},
   "source": [
    "#### Exercício 3.\n",
    "Desenvolva uma versão em árvore do algoritmo custo uniforme e compare em termos temporais a execução dos dois algoritmos para o mesmo problema do Pacman Grave. Note que terá de na verdade fazer uma versão em árvore do ***best_first_graph_search()***."
   ]
  },
  {
   "cell_type": "code",
   "execution_count": 23,
   "metadata": {},
   "outputs": [],
   "source": [
    "## Resolução do exercício 3\n"
   ]
  },
  {
   "cell_type": "markdown",
   "metadata": {},
   "source": [
    "#### Exercício 4.\n",
    "O algoritmo de profundidade primeiro para árvore está resolvido de modo recursivo. Desenvolva uma versão iterativa do algoritmo de profundidade primeiro limitada para árvore, que tem como base o método ***tree_search()***.\n",
    "\n",
    "```python\n",
    "def depth_limited_search(problem, limit=50):\n",
    "    \"\"\"[Figure 3.17]\"\"\"\n",
    "    def recursive_dls(node, problem, limit):\n",
    "        if problem.goal_test(node.state):\n",
    "            return node\n",
    "        elif limit == 0:\n",
    "            return 'cutoff'\n",
    "        else:\n",
    "            cutoff_occurred = False\n",
    "            for child in node.expand(problem):\n",
    "                result = recursive_dls(child, problem, limit - 1)\n",
    "                if result == 'cutoff':\n",
    "                    cutoff_occurred = True\n",
    "                elif result is not None:\n",
    "                    return result\n",
    "            return 'cutoff' if cutoff_occurred else None\n",
    "\n",
    "    # Body of depth_limited_search:\n",
    "    return recursive_dls(Node(problem.initial), problem, limit)\n",
    "```\n"
   ]
  },
  {
   "cell_type": "code",
   "execution_count": 24,
   "metadata": {},
   "outputs": [],
   "source": [
    "## Resolução do exercício 4\n"
   ]
  },
  {
   "cell_type": "markdown",
   "metadata": {},
   "source": [
    "#### Exercício 5.\n",
    "Com base no exercício 4 desenvolva o algoritmo de aprofundamento progressivo na sua versão em árvore."
   ]
  },
  {
   "cell_type": "code",
   "execution_count": 25,
   "metadata": {},
   "outputs": [],
   "source": [
    "## Resolução do exercício 5\n"
   ]
  },
  {
   "cell_type": "markdown",
   "metadata": {},
   "source": [
    "#### Exercício 6\n",
    "Desenvolva a versão iterativa em grafo do algoritmo de aprofundamento progressivo"
   ]
  },
  {
   "cell_type": "code",
   "execution_count": 26,
   "metadata": {},
   "outputs": [],
   "source": [
    "## Resolução do exercicio 6\n"
   ]
  },
  {
   "cell_type": "markdown",
   "metadata": {},
   "source": [
    "#### Exercício 7\n",
    "Faça novas versões da profundidade-primeiro e largura-primeiro em grafo, usando a ***função best_first_graph_search()*** em que a função passada tem que ver com o comprimento dos nós. Repare que se quer minimizar o comprimento dos nós no caso da largura e maximizar no caso da profundidade."
   ]
  },
  {
   "cell_type": "code",
   "execution_count": 27,
   "metadata": {},
   "outputs": [],
   "source": [
    "## Resolução do exercício 7\n"
   ]
  }
 ],
 "metadata": {
  "colab": {
   "collapsed_sections": [],
   "name": "Untitled0.ipynb",
   "provenance": [],
   "version": "0.3.2"
  },
  "kernelspec": {
   "display_name": "Python 3 (ipykernel)",
   "language": "python",
   "name": "python3"
  },
  "language_info": {
   "codemirror_mode": {
    "name": "ipython",
    "version": 3
   },
   "file_extension": ".py",
   "mimetype": "text/x-python",
   "name": "python",
   "nbconvert_exporter": "python",
   "pygments_lexer": "ipython3",
   "version": "3.8.12"
  }
 },
 "nbformat": 4,
 "nbformat_minor": 2
}