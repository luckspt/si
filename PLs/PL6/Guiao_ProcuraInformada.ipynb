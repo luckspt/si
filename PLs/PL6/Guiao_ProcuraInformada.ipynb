{
 "cells": [
  {
   "cell_type": "markdown",
   "metadata": {
    "colab_type": "text",
    "id": "LekFEsVbua_R"
   },
   "source": [
    "# Sistemas Inteligentes\n",
    "\n",
    "## Procura Informada\n",
    "\n",
    "\n",
    "## Conteúdos\n",
    "\n",
    "##### Procura em grafo\n",
    "* Heurísticas\n",
    "* Procura com heurísticas\n",
    "    * Procura sôfrega (greedy) em grafo\n",
    "    * A* em grafo\n",
    "* Admissibilidade de uma heurística\n",
    "* Consistência de uma heurística\n",
    "* Exemplos de problemas\n",
    "    * Pacman grave como pastilhas\n",
    "    * Problema do Puzzle8\n",
    "* Exercícios"
   ]
  },
  {
   "cell_type": "markdown",
   "metadata": {},
   "source": [
    "## Introdução\n",
    "Nesta aula vamos ver mais alguns aspetos relacionados com a resolução de problemas de acordo com o Paradigma do Espaço de Estados, usando a implementação disponibilizada pelo módulo `searchPlus.py`, introduzido nas aulas anteriores. Vamos hoje começar por ver como poderemos utilizar os dois algoritmos de procura standard, na sua versão em grafo."
   ]
  },
  {
   "cell_type": "code",
   "execution_count": 20,
   "metadata": {},
   "outputs": [],
   "source": [
    "from searchPlus import *"
   ]
  },
  {
   "cell_type": "markdown",
   "metadata": {},
   "source": [
    "## Heurísticas"
   ]
  },
  {
   "cell_type": "markdown",
   "metadata": {},
   "source": [
    "Vamos adicionar valores heurísticos ao grafo abstracto que temos usado, em que mudamos o custo do arco I -> B para 6.\n",
    "A heurística de um estado é a estimativa da distância mais curta desse estado a um estado objectivo.\n",
    "Os valores heurísticos são os seguintes:\n",
    "I: 7, A: 6 B: 2 C: 4 D: 2 F: 0\n",
    "e correspondem ao método h1 na classe do Problema que redefinimos a seguir"
   ]
  },
  {
   "cell_type": "markdown",
   "metadata": {},
   "source": [
    "<img src=\"grafoXX.png\" alt=\"Drawing\" style=\"width: 300px;\"/>"
   ]
  },
  {
   "cell_type": "code",
   "execution_count": 21,
   "metadata": {},
   "outputs": [],
   "source": [
    "class ProblemaGrafoHs(Problem) :\n",
    "    grafo = {'I':{'A':2,'B':6},\n",
    "             'A':{'C':2,'D':4,'I':2},\n",
    "             'B':{'D':1,'F':5,'I':6},\n",
    "             'C':{},\n",
    "             'D':{'C':3,'F':2},\n",
    "             'F':{}}\n",
    "\n",
    "    def __init__(self,initial = 'I', final = 'F') :\n",
    "        super().__init__(initial,final)\n",
    "        \n",
    "    def actions(self,estado) :\n",
    "        sucessores = self.grafo[estado].keys()  # métodos keys() devolve a lista das chaves do dicionário\n",
    "        accoes = list(map(lambda x : \"ir de {} para {}\".format(estado,x),sucessores))\n",
    "        return accoes\n",
    "\n",
    "    def result(self, estado, accao) :\n",
    "        \"\"\"Assume-se que uma acção é da forma 'ir de X para Y'\n",
    "        \"\"\"\n",
    "        return accao.split()[-1]\n",
    "    \n",
    "    def path_cost(self, c, state1, action, state2):\n",
    "        return c + self.grafo[state1][state2]\n",
    "\n",
    "    def h1(self,no) : \n",
    "        \"\"\"Uma heurística é uma função de um estado.\n",
    "        Nesta implementação, é uma função do estado associado ao nó\n",
    "        (objecto da classe Node) fornecido como argumento.\n",
    "        \"\"\"\n",
    "        h = {'I':7, 'A':6,'B':2,'C':4,'D':2,'F':0}\n",
    "        return h[no.state]"
   ]
  },
  {
   "cell_type": "code",
   "execution_count": 53,
   "metadata": {},
   "outputs": [],
   "source": [
    "p=ProblemaGrafoHs()"
   ]
  },
  {
   "cell_type": "markdown",
   "metadata": {},
   "source": [
    "Se quisermos saber qual o valor heurístico de um estado, ele só é possível no contexto de um problema e é preciso encapsular o estado numa instância de **Node** (classe definida em *searchPlus.py*)"
   ]
  },
  {
   "cell_type": "code",
   "execution_count": 23,
   "metadata": {},
   "outputs": [
    {
     "name": "stdout",
     "output_type": "stream",
     "text": [
      "h1 de A  = 6\n",
      "h1 de F  = 0\n"
     ]
    }
   ],
   "source": [
    "print(\"h1 de\", 'A',\" =\", p.h1(Node('A')))\n",
    "print(\"h1 de\", 'F',\" =\", p.h1(Node('F')))"
   ]
  },
  {
   "cell_type": "markdown",
   "metadata": {},
   "source": [
    "Se quisermos listar os valores heurísticos de todos os estados"
   ]
  },
  {
   "cell_type": "code",
   "execution_count": 24,
   "metadata": {},
   "outputs": [
    {
     "name": "stdout",
     "output_type": "stream",
     "text": [
      "h1 de I  = 7\n",
      "h1 de A  = 6\n",
      "h1 de B  = 2\n",
      "h1 de C  = 4\n",
      "h1 de D  = 2\n",
      "h1 de F  = 0\n"
     ]
    }
   ],
   "source": [
    "for estado in p.grafo.keys():\n",
    "    print(\"h1 de\", estado,\" =\", p.h1(Node(estado)))"
   ]
  },
  {
   "cell_type": "markdown",
   "metadata": {},
   "source": [
    "## Procura heurística"
   ]
  },
  {
   "cell_type": "markdown",
   "metadata": {},
   "source": [
    "Vamos aplicar os algoritmos de procura heurística: o Greedy Melhor Primeiro e o A*"
   ]
  },
  {
   "cell_type": "markdown",
   "metadata": {},
   "source": [
    "### Greedy Melhor Primeiro (grafo)\n",
    "\n",
    "Na Procura Sôfrega (Greedy) preferimos sempre expandir o estado de menor valor heurístico. Na prática a implementação em Python faz uso do mesmo método que o custo uniforme, que é o ***best_first_graph_search()***, que relembramos usa um fila de prioridades com base no valor heurístico. Esta versão é a em grafo, i.e., os ramos com estados já expandidos nunca são colocados na fronteira. Também são colocados dois ramos que acabam no mesmo estado, i.e., os limites da fronteira nunca podem ter estados repetidos."
   ]
  },
  {
   "cell_type": "markdown",
   "metadata": {},
   "source": [
    "```python\n",
    "def best_first_graph_search(problem, f):\n",
    "    \"\"\"Search the nodes with the lowest f scores first.\n",
    "    You specify the function f(node) that you want to minimize; for example,\n",
    "    if f is a heuristic estimate to the goal, then we have greedy best\n",
    "    first search; if f is node.depth then we have breadth-first search.\n",
    "    There is a subtlety: the line \"f = memoize(f, 'f')\" means that the f\n",
    "    values will be cached on the nodes as they are computed. So after doing\n",
    "    a best first search you can examine the f values of the path returned.\"\"\"\n",
    "    f = memoize(f, 'f')\n",
    "    node = Node(problem.initial)\n",
    "    if problem.goal_test(node.state):\n",
    "        return node\n",
    "    frontier = PriorityQueue(min, f)\n",
    "    frontier.append(node)\n",
    "    explored = set()\n",
    "    while frontier:\n",
    "        node = frontier.pop()\n",
    "        if problem.goal_test(node.state):\n",
    "            return node\n",
    "        explored.add(node.state)\n",
    "        for child in node.expand(problem):\n",
    "            if child.state not in explored and child not in frontier:\n",
    "                frontier.append(child)\n",
    "            elif child in frontier:\n",
    "                incumbent = frontier[child]\n",
    "                if f(child) < f(incumbent):\n",
    "                    del frontier[incumbent]\n",
    "                    frontier.append(child)\n",
    "    return None\n",
    "```"
   ]
  },
  {
   "cell_type": "markdown",
   "metadata": {},
   "source": [
    "Enquanto o custo uniforme utiliza o custo como prioridade, ignorando o segundo argumento do método de cima, a procura sôfrega é exactamente equivalente ao método de cima. A função heurística terá que ser passada como argumento quando for usada.\n",
    "\n",
    "```python\n",
    " greedy_best_first_graph_search = best_first_graph_search\n",
    "```"
   ]
  },
  {
   "cell_type": "markdown",
   "metadata": {},
   "source": [
    "Vamos executar o Melhor Primeiro (Greedy Best First), versão em grafo, para o grafo abstracto.\n",
    "Notem que estamos a passar como argumento a função heurística h1."
   ]
  },
  {
   "cell_type": "markdown",
   "source": [
    "Notem que esta parte do código lida particularmente com a questão da procura ser em grafo:\n",
    "\n",
    "```python\n",
    "for child in node.expand(problem):\n",
    "    if child.state not in explored and child not in frontier:\n",
    "        frontier.append(child)\n",
    "    elif child in frontier:\n",
    "        incumbent = frontier[child]\n",
    "        if f(child) < f(incumbent):\n",
    "            del frontier[incumbent]\n",
    "            frontier.append(child)\n",
    "```\n",
    "\n",
    "Se o estado do nó (ponta do ramo) não tiver sido ainda expandido e se um nó com o mesmo estado (ramo com a mesma ponta) não fizer parte da fronteira, então é adicionado à fronteira, mas se já lá estiver um ramo com o mesmo estado ele nunca é adicionado porque dois nós com o mesmo estado (ponta) terão o mesmo valor heurístico e o novo nó nunca será adicionado."
   ],
   "metadata": {
    "collapsed": false
   }
  },
  {
   "cell_type": "code",
   "execution_count": 25,
   "metadata": {},
   "outputs": [
    {
     "name": "stdout",
     "output_type": "stream",
     "text": [
      "['ir de I para B', 'ir de B para F']\n",
      "11\n"
     ]
    }
   ],
   "source": [
    "res_gbfs = greedy_best_first_graph_search(p,p.h1)\n",
    "print(res_gbfs.solution())\n",
    "print(res_gbfs.path_cost)"
   ]
  },
  {
   "cell_type": "markdown",
   "metadata": {},
   "source": [
    "Vejam que o Melhor Primeiro dá-nos uma solução que não é a melhor. Não garante o óptimo como se confirma com a invocação do custo uniforme, esse sim um algoritmo optimal."
   ]
  },
  {
   "cell_type": "code",
   "execution_count": 27,
   "metadata": {},
   "outputs": [
    {
     "name": "stdout",
     "output_type": "stream",
     "text": [
      "['ir de I para A', 'ir de A para D', 'ir de D para F']\n",
      "8\n"
     ]
    }
   ],
   "source": [
    "res_best = uniform_cost_search(p)\n",
    "print(res_best.solution())\n",
    "print(res_best.path_cost)"
   ]
  },
  {
   "cell_type": "markdown",
   "metadata": {},
   "source": [
    "### A* (grafo)"
   ]
  },
  {
   "cell_type": "markdown",
   "metadata": {},
   "source": [
    "O A* é independente dos problemas e das funções heurísticas e recebe-os como argumentos. Só temos a sua versão em grafo que invoca o ***best_first_graph_search()*** mas em que a função de prioridade é uma função lambda que dado um nó soma o custo do caminho total até ao estado inicial com o valor da função heurística do nó (respetivo estado). Para o cálculo da função heurística basta o nó, porque através dele acede-se ao custo do caminho até à origem (estado inicial) sendo o nó também o argumento da função heurística.\n",
    "\n",
    "Notem que o uso do memoize serve para não se recalcular os valores heurísticos dos estados se já foram calculados antes, é um cache. Embora seja uma procura em grafo, é preciso recalcular as funções heurísticas no caso do estado do nó ainda não tiver sido expandido e for estado (folha ou ponta) de um nó na fronteira. É tanto mais relevante quanto maior os custos computacionais do cálculo dos valores heurísticos.\n",
    "\n",
    "```python\n",
    "def astar_search(problem, h=None):\n",
    "    \"\"\"A* search is best-first graph search with f(n) = g(n)+h(n).\n",
    "    You need to specify the h function when you call astar_search, or\n",
    "    else in your Problem subclass.\"\"\"\n",
    "    h = memoize(h or problem.h, 'h')\n",
    "    return best_first_graph_search(problem, lambda n: n.path_cost + h(n))\n",
    "```"
   ]
  },
  {
   "cell_type": "markdown",
   "metadata": {},
   "source": [
    "Vamos executar o algoritmo A* na sua versão em grafo. Só existe a versão em grafo em *searchPlus.py*.\n",
    "Notem que a solução devolvida até é a de menor custo. Será que a heurística h1 é consistente?"
   ]
  },
  {
   "cell_type": "code",
   "execution_count": 28,
   "metadata": {},
   "outputs": [
    {
     "name": "stdout",
     "output_type": "stream",
     "text": [
      "['ir de I para A', 'ir de A para D', 'ir de D para F']\n",
      "8\n"
     ]
    }
   ],
   "source": [
    "res_astar = astar_search(p,p.h1)\n",
    "print(res_astar.solution())\n",
    "print(res_astar.path_cost)"
   ]
  },
  {
   "cell_type": "markdown",
   "metadata": {},
   "source": [
    "### Admissibilidade de uma função heurística"
   ]
  },
  {
   "cell_type": "markdown",
   "metadata": {},
   "source": [
    "**Uma função heurística é considerada admissível se nunca sobreestima a sua menor distância ao objectivo.** Notem que isso quer dizer que para qualquer estado, **o valor heurístico é sempre menor ou igual à menor distância desse estado ao objectivo**.\n",
    "A admissibilidade é principalmente importante para o algoritmos A* na sua versão não optimizada (em árvore), que não está implementada no *searchPlus.py*.\n",
    "**Uma heurística que seja admissível garante a solução óptima no A* (árvore).**"
   ]
  },
  {
   "cell_type": "markdown",
   "metadata": {},
   "source": [
    "Para verificar se é admissível iremos calcular os custos das melhores soluções de cada estado para o estado final, utilizando o algoritmo de Custo Uniforme que relembramos é optimal calculando sempre os menores custos. Esses custos irão ser comparados com os respectivos valores heurísticos."
   ]
  },
  {
   "cell_type": "code",
   "execution_count": 29,
   "metadata": {},
   "outputs": [
    {
     "name": "stdout",
     "output_type": "stream",
     "text": [
      "Menor distância de I ao objectivo F = 8\n",
      "h(I) = 7\n",
      "Menor distância de A ao objectivo F = 6\n",
      "h(A) = 6\n",
      "Menor distância de B ao objectivo F = 3\n",
      "h(B) = 2\n",
      "sem solução a partir de C\n",
      "Menor distância de D ao objectivo F = 2\n",
      "h(D) = 2\n",
      "Menor distância de F ao objectivo F = 0\n",
      "h(F) = 0\n"
     ]
    }
   ],
   "source": [
    "for estado in p.grafo.keys():\n",
    "    p = ProblemaGrafoHs(estado)\n",
    "    resultado = uniform_cost_search(p)\n",
    "    if resultado is None:\n",
    "        print(\"sem solução a partir de\", estado)\n",
    "    else:\n",
    "        print(\"Menor distância de\", estado,\"ao objectivo\",p.goal, \"=\",resultado.path_cost)\n",
    "        print(\"h(\"+estado+\") =\",p.h1(Node(estado)))"
   ]
  },
  {
   "cell_type": "markdown",
   "metadata": {},
   "source": [
    "#### Exercício 1\n",
    "Para não o fazer manualmente, construa uma função para verificar se a heurística do grafo abstracto é admissível."
   ]
  },
  {
   "cell_type": "code",
   "execution_count": 55,
   "metadata": {},
   "outputs": [
    {
     "data": {
      "text/plain": "True"
     },
     "execution_count": 55,
     "metadata": {},
     "output_type": "execute_result"
    }
   ],
   "source": [
    "# Resolução do exercício 1\n",
    "def is_admissivel(problem, h = None):\n",
    "    h = h or problem.h\n",
    "    for estado in problem.grafo.keys():\n",
    "        p_deste_estado = ProblemaGrafoHs(estado)\n",
    "\n",
    "        resultado = uniform_cost_search(p_deste_estado)\n",
    "        if resultado is not None and p_deste_estado.h1(Node(estado)) > resultado.path_cost: # > == not <=\n",
    "            return False\n",
    "\n",
    "    return True\n",
    "\n",
    "is_admissivel(p, p.h1)"
   ]
  },
  {
   "cell_type": "markdown",
   "metadata": {},
   "source": [
    "### Consistência de uma função heurística\n",
    "Uma heurística é consistente se para todos os arcos X -> Y, a diferença das heurísticas h(X) - h(Y) é menor do que o custo do arco.\n",
    "**Uma heurística consistente garante a optimalidade do A* em grafo.**"
   ]
  },
  {
   "cell_type": "markdown",
   "metadata": {},
   "source": [
    "A solução que o A* em grafo devolveu foi a melhor. Foi a melhor por acaso?\n",
    "Não. Esta heurística é consistente e quando a heurística é consistente, o A* (grafo) garante a melhor solução, de caminho mais curto.\n",
    "Porque é que a heurística é consistente?\n",
    "Para que uma heurística seja consistente é preciso que para qualquer arco dirigido x1 -> x2, h(x1)-h(x2) <= c(x1,x2)\n",
    "\n",
    "No grafo temos os seguintes arcos:\n",
    "I --> A\n",
    "I --> B\n",
    "A --> I\n",
    "B --> I\n",
    "B --> D \n",
    "B --> F \n",
    "A --> C\n",
    "A --> D\n",
    "D --> C\n",
    "D --> F\n",
    "\n",
    "Verifiquemos a consistência começando pelo arco I --> A\n",
    "1. h(I)-h(A)=7-6=1   e  c(I,A)=2   ---  1 <= 2    satisfaz\n",
    "2. h(I)-h(B)=7-2=5   e  c(I,B)=6   ---  5 <= 6    satisfaz\n",
    "3. h(A)-h(I)=6-7=-1  e  c(A,I)=2   --- -1 <= 2    satisfaz\n",
    "4. h(B)-h(I)=2-7=-5  e  c(B,I)=6   --- -5 <= 6    satisfaz\n",
    "5. h(B)-h(D)=2-2=0   e  c(B,D)=1   ---  0 <= 1    satisfaz\n",
    "6. h(B)-h(F)=2-0=2   e  c(B,F)=5   ---  2 <= 5    satisfaz\n",
    "7. h(A)-h(C)=6-4=2   e  c(A,C)=2   ---  2 <= 2    satisfaz\n",
    "8. h(A)-h(D)=6-2=4   e  c(A,D)=4   ---  4 <= 4    satisfaz\n",
    "9. h(D)-h(C)=2-4=-2  e  c(D,C)=3   --- -2 <= 3    satisfaz\n",
    "10. h(D)-h(F)=2-0=2  e  c(D,F)=2   ---  2 <= 2    satisfaz\n",
    "\n",
    "Bastaria violar a regra para um arco para que não fosse consistente, mas isso não acontece.\n",
    "Conclusão: h1 é consistente, garantindo a optimalidade."
   ]
  },
  {
   "cell_type": "markdown",
   "metadata": {},
   "source": [
    "#### Exercício 2\n",
    "Para não o fazer manualmente, construa uma função para verificar se a heurística do grafo abstracto é consistente. Teste-a com o grafo abstracto inicial."
   ]
  },
  {
   "cell_type": "code",
   "execution_count": 56,
   "metadata": {},
   "outputs": [
    {
     "data": {
      "text/plain": "True"
     },
     "execution_count": 56,
     "metadata": {},
     "output_type": "execute_result"
    }
   ],
   "source": [
    "# Resolução do exercício 2\n",
    "def is_consistente(problem, h=None):\n",
    "    h = h or problem.h\n",
    "    for estado in problem.grafo.keys():\n",
    "        no_estado = Node(estado)\n",
    "        expandidos = no_estado.expand(problem)\n",
    "\n",
    "        h_estado = h(no_estado)\n",
    "        if any(h_estado - h(expandido) > expandido.path_cost - expandido.parent.path_cost\n",
    "               for expandido in expandidos):\n",
    "            return False\n",
    "\n",
    "    return True\n",
    "\n",
    "is_consistente(p, p.h1)"
   ]
  },
  {
   "cell_type": "markdown",
   "metadata": {},
   "source": [
    "#### Exercício 3\n",
    "Crie uma nova heurística h2(x) que seja inconsistente e volte a correr o A* com h2(x). Cuidado que o facto de uma heurística ser inconsistente não impede o A* de encontrar a solução melhor. Não é garantido que a encontre mas pode encontrar. Nesse caso procure uma função h3 que devolva uma solução que não seja a melhor."
   ]
  },
  {
   "cell_type": "code",
   "execution_count": 60,
   "metadata": {},
   "outputs": [
    {
     "data": {
      "text/plain": "False"
     },
     "execution_count": 60,
     "metadata": {},
     "output_type": "execute_result"
    }
   ],
   "source": [
    "# Resolução do exercício 3\n",
    "def h2(no):\n",
    "    h = {'I':9, 'A':6,'B':2,'C':4,'D':2,'F':0}\n",
    "    return h[no.state]\n",
    "\n",
    "is_consistente(p, h2)"
   ]
  },
  {
   "cell_type": "markdown",
   "metadata": {},
   "source": [
    "## Pacman Grave come pastilha\n",
    "Relembremos o problema do Pacman Grave que come a pastilha. Vamos formular problemas de navegação sujeita às forças da gravidade, numa grelha 2D em que algumas células são obstáculos impassíveis. O estado vai ser um tuplo com as coordenadas (x,y) e as acções (x+dx,y+dy) correspondem às casas vizinhas, desde que não sejam obstáculos. (dx,dy) corresponde ao deslocamento: (0,1) corresponde ao norte e (-1,-1) a sudoeste.\n",
    "Notem que as acções para baixo não custam nada, as acções na horizontal custam 1 e as acções para cima custam 3.    "
   ]
  },
  {
   "cell_type": "code",
   "execution_count": 46,
   "metadata": {},
   "outputs": [
    {
     "name": "stdout",
     "output_type": "stream",
     "text": [
      "# # # # # # # # # # \n",
      "# @ . . . . . . . # \n",
      "# . # # # # # # . # \n",
      "# . # * . . . . . # \n",
      "# . # . . . . . . # \n",
      "# . # . . . . . . # \n",
      "# . # . . . . . . # \n",
      "# . . . . . . . . # \n",
      "# . . . . . . . . # \n",
      "# # # # # # # # # # \n",
      "\n",
      "Distância entre (1,4) e (3,7): 5\n"
     ]
    }
   ],
   "source": [
    "def manhatan(p,q):\n",
    "    (x1,y1) = p\n",
    "    (x2,y2) = q\n",
    "    return abs(x1-x2) + abs(y1-y2)\n",
    "\n",
    "\"\"\"Encontrar um caminho numa grelha 2D com obstáculos. Os obstáculos são células (x, y).\"\"\"\n",
    "class GridProblem(Problem):\n",
    "    def __init__(self, initial=(1, 1), goal=(7, 8), obstacles=()):\n",
    "        self.initial=initial\n",
    "        self.goal=goal \n",
    "        self.obstacles=set(obstacles) - {initial, goal}\n",
    "\n",
    "    directions = {\"N\":(0, -1), \"W\":(-1, 0), \"E\":(1,  0),\"S\":(0, +1)}  # ortogonais\n",
    "    \n",
    "    costs = {\"N\":3, \"W\":1, \"E\":1,\"S\":0}  # ortogonais\n",
    "                  \n",
    "    def result(self, state, action): \n",
    "        \"Tanto as acções como os estados são representados por pares (x,y).\"\n",
    "        (x,y) = state\n",
    "        (dx,dy) = self.directions[action]\n",
    "        return (x+dx,y+dy) \n",
    "    \n",
    "    def actions(self, state):\n",
    "        \"\"\"Podes move-te para uma célula em qualquer das direcções para uma casa \n",
    "           que não seja obstáculo.\"\"\"\n",
    "        x, y = state\n",
    "        return [act for act in self.directions.keys() if (x+self.directions[act][0],y+self.directions[act][1]) not in self.obstacles]\n",
    "    \n",
    "    def path_cost(self,c,state,action,new):\n",
    "        return c+self.costs[action]\n",
    "    \n",
    "    def display(self, state,d):\n",
    "        \"\"\" print the state please\"\"\"\n",
    "        output=\"\"\n",
    "        for j in range(d):\n",
    "            for i in range(d):\n",
    "                if state ==(i,j):\n",
    "                    ch = '@'\n",
    "                elif self.goal==(i,j):\n",
    "                    ch = \"*\"\n",
    "                elif (i,j) in self.obstacles:\n",
    "                    ch = \"#\"\n",
    "                else:\n",
    "                    ch = \".\"\n",
    "                output += ch + \" \"\n",
    "            output += \"\\n\"\n",
    "        print(output)\n",
    "        \n",
    "    def display_trace(self,d,plan):\n",
    "        path = set()\n",
    "        st = self.initial\n",
    "        for a in plan[:-1]:\n",
    "            st = self.result(st,a)\n",
    "            path.add(st)\n",
    "            \n",
    "        \"\"\" print the state please\"\"\"\n",
    "        output=\"\"\n",
    "        for j in range(d):\n",
    "            for i in range(d):\n",
    "                if self.initial ==(i,j):\n",
    "                    ch = '@'\n",
    "                elif self.goal==(i,j):\n",
    "                    ch = \"*\"\n",
    "                elif (i,j) in self.obstacles:\n",
    "                    ch = \"#\"\n",
    "                elif (i,j) in path:\n",
    "                    ch = '+'\n",
    "                else:\n",
    "                    ch = \".\"\n",
    "                output += ch + \" \"\n",
    "            output += \"\\n\"\n",
    "        print(output)\n",
    "\n",
    "    def manhatan_goal(self,no) : \n",
    "        \"\"\"Uma heurística é uma função de um estado.\n",
    "        Nesta implementação, é uma função do estado associado ao nó\n",
    "        (objecto da classe Node) fornecido como argumento.\n",
    "        \"\"\"\n",
    "        return manhatan(no.state,self.goal)\n",
    "\n",
    "def line(x, y, dx, dy, length):\n",
    "    \"\"\"Uma linha de células de comprimento 'length' começando em (x, y) na direcção (dx, dy).\"\"\"\n",
    "    return {(x + i * dx, y + i * dy) for i in range(length)}\n",
    "\n",
    "def quadro(x, y, length):\n",
    "    \"\"\"Uma moldura quadrada de células de comprimento 'length' começando no topo esquerdo (x, y).\"\"\"\n",
    "    return line(x,y,0,1,length) | line(x+length-1,y,0,1,length) | line(x,y,1,0,length) | line(x,y+length-1,1,0,length)\n",
    "\n",
    "l = line(2,2,1,0,6)\n",
    "c = line(2,3,0,1,4)\n",
    "fronteira = quadro(0,0,10)\n",
    "g = GridProblem(obstacles=fronteira | l | c,goal=(3,3))\n",
    "g.display(g.initial,10)\n",
    "\n",
    "# teste da função de distância de Manhatan\n",
    "print('Distância entre (1,4) e (3,7):',manhatan((1,4),(3,7)))"
   ]
  },
  {
   "cell_type": "markdown",
   "metadata": {},
   "source": [
    "#### Exercício 4\n",
    "Apliquem o \"Greedy\" e o A* ao problema do Pacman, usando a distância de Manhatan entre dois pontos como função heuristica. Reparem que essa heurística não é nem consistente nem admissível. O A* não terá que devolver a solução de menor custo. Podem comparar o custo com o devolvido pelo custo uniforme e comparar os tempos de execução."
   ]
  },
  {
   "cell_type": "code",
   "execution_count": 49,
   "metadata": {},
   "outputs": [
    {
     "name": "stdout",
     "output_type": "stream",
     "text": [
      "['S', 'S', 'S', 'S', 'S', 'S', 'E', 'E', 'N', 'N', 'N', 'N']\n",
      "14\n",
      "['S', 'S', 'S', 'S', 'S', 'S', 'E', 'E', 'N', 'N', 'N', 'N']\n",
      "14\n"
     ]
    }
   ],
   "source": [
    "# Resolução do exercício 4\n",
    "res_gbfs = greedy_best_first_graph_search(g,g.manhatan_goal)\n",
    "print(res_gbfs.solution())\n",
    "print(res_gbfs.path_cost)\n",
    "\n",
    "res_astar = astar_search(g,g.manhatan_goal)\n",
    "print(res_astar.solution())\n",
    "print(res_astar.path_cost)"
   ]
  },
  {
   "cell_type": "markdown",
   "metadata": {},
   "source": [
    "#### Exercício 5\n",
    "A heurística da distância de Manhatan entre a posição do Pacman e a posição da pastilha não é admissível nem consistente. Notem que se o Pacman está na casa adjacente a norte da pastilha, o custo menor até lá é 0 e a heurística indica 1, sobreestimando o seu valor e violando a propriedade de admissibilidade.\n",
    "Desenhe uma heurística consistente e volte a executar o A* e o Greedy. Notem que essa heurística tem de levar em conta os diferentes custos dos movimentos devido ao efeito da força de gravidade sobre o Pacman."
   ]
  },
  {
   "cell_type": "code",
   "execution_count": 67,
   "metadata": {},
   "outputs": [
    {
     "name": "stdout",
     "output_type": "stream",
     "text": [
      "['S', 'S', 'S', 'S', 'S', 'S', 'E', 'E', 'N', 'N', 'N', 'N']\n",
      "14\n",
      "['E', 'E', 'E', 'E', 'E', 'E', 'E', 'S', 'S', 'W', 'W', 'W', 'W', 'W']\n",
      "12\n"
     ]
    }
   ],
   "source": [
    "# Resolução do exercício 5\n",
    "def h(node: Node):\n",
    "    return 0\n",
    "\n",
    "es_gbfs = greedy_best_first_graph_search(g, h)\n",
    "print(res_gbfs.solution())\n",
    "print(res_gbfs.path_cost)\n",
    "\n",
    "res_astar = astar_search(g, h)\n",
    "print(res_astar.solution())\n",
    "print(res_astar.path_cost)"
   ]
  },
  {
   "cell_type": "markdown",
   "metadata": {},
   "source": [
    "## Problema do Puzzle 8\n",
    "\n",
    "![](https://ece.uwaterloo.ca/~dwharder/aads/Algorithms/N_puzzles/images/puz3.png)\n",
    "\n",
    "Consideremos o puzzle de 8 que é modelizado a seguir em que temos duas funções heurísticas: h1 e h2.\n",
    "\n",
    "A função heurística h1(x) conta apenas o número de peças bem colocadas. Estar bem colocada é estar na posição desejável ou objetivo (neste exemplo, o objetivo atinge-se com os números ordenados e a casa vazia situada no canto inferior direito). Na configuração da esquerda só a peça 2 está bem colocada e assim é preciso no mínimo deslocar 7 peças. Esta heurística é admissível e consistente.\n",
    "\n",
    "A função h2(x) devolve a soma total das distâncias de manhatan de cada peça à sua posição objetivo. Na configuração da esquerda:\n",
    "\n",
    "    A peça 1 está a 2 de distância.\n",
    "    A peça 2 está a 0 de distância.\n",
    "    A peça 3 está a 3 de distância.\n",
    "    A peça 4 está apenas à distância de 1.\n",
    "    A peça 5 está a 2 de distância.\n",
    "    A 6 está a 1 de distância.\n",
    "    A 7 está a 4 e \n",
    "    A 8 a 2.\n",
    "    \n",
    "    Dá um total de 15 movimentos de distância, muito mais próximo do número mínimo do que o dado por h1.\n"
   ]
  },
  {
   "cell_type": "code",
   "execution_count": 68,
   "metadata": {},
   "outputs": [],
   "source": [
    "from itertools import combinations\n",
    "\n",
    "class EightPuzzle(Problem):\n",
    "    \"\"\" The problem of sliding tiles numbered from 1 to 8 on a 3x3 board,\n",
    "    where one of the squares is a blank, trying to reach a goal configuration.\n",
    "    A board state is represented as a tuple of length 9, where the element at index i \n",
    "    represents the tile number at index i, or 0 if for the empty square, e.g. the goal:\n",
    "        1 2 3\n",
    "        4 5 6 ==> (1, 2, 3, 4, 5, 6, 7, 8, 0)\n",
    "        7 8 _\n",
    "    \"\"\"\n",
    "\n",
    "    def __init__(self, initial, goal=(0, 1, 2, 3, 4, 5, 6, 7, 8)):\n",
    "        assert inversions(initial) % 2 == inversions(goal) % 2 # Parity check\n",
    "        self.initial, self.goal = initial, goal\n",
    "    \n",
    "    def actions(self, state):\n",
    "        \"\"\"The indexes of the squares that the blank can move to.\"\"\"\n",
    "        moves = ((1, 3),    (0, 2, 4),    (1, 5),\n",
    "                 (0, 4, 6), (1, 3, 5, 7), (2, 4, 8),\n",
    "                 (3, 7),    (4, 6, 8),    (7, 5))\n",
    "        blank = state.index(0)\n",
    "        return moves[blank]\n",
    "    \n",
    "    def result(self, state, action):\n",
    "        \"\"\"Swap the blank with the square numbered `action`.\"\"\"\n",
    "        s = list(state)\n",
    "        blank = state.index(0)\n",
    "        s[action], s[blank] = s[blank], s[action]\n",
    "        return tuple(s)\n",
    "    \n",
    "    def h1(self, node):\n",
    "        \"\"\"The misplaced tiles heuristic.\"\"\"\n",
    "        return hamming_distance(node.state, self.goal) - 1\n",
    "    \n",
    "    def h2(self, node):\n",
    "        \"\"\"The Manhattan heuristic.\"\"\"\n",
    "        X = (0, 1, 2, 0, 1, 2, 0, 1, 2)\n",
    "        Y = (0, 0, 0, 1, 1, 1, 2, 2, 2)\n",
    "        return sum(abs(X[s] - X[g]) + abs(Y[s] - Y[g])\n",
    "                   for (s, g) in zip(node.state, self.goal) if s != 0)\n",
    "    \n",
    "    def h(self, node): return self.h2(node)\n",
    "    \n",
    "    \n",
    "def hamming_distance(A, B):\n",
    "    \"Number of positions where vectors A and B are different.\"\n",
    "    return sum(a != b for a, b in zip(A, B))\n",
    "    \n",
    "\n",
    "def inversions(board):\n",
    "    \"The number of times a piece is a smaller number than a following piece.\"\n",
    "    return sum((a > b and a != 0 and b != 0) for (a, b) in combinations(board, 2))\n",
    "    \n",
    "    \n",
    "def board8(board, fmt=(3 * '{} {} {}\\n')):\n",
    "    \"A string representing an 8-puzzle board\"\n",
    "    return fmt.format(*board).replace('0', '_')\n",
    "\n",
    "class Board(defaultdict):\n",
    "    empty = '.'\n",
    "    off = '#'\n",
    "    def __init__(self, board=None, width=8, height=8, to_move=None, **kwds):\n",
    "        if board is not None:\n",
    "            self.update(board)\n",
    "            self.width, self.height = (board.width, board.height) \n",
    "        else:\n",
    "            self.width, self.height = (width, height)\n",
    "        self.to_move = to_move\n",
    "\n",
    "    def __missing__(self, key):\n",
    "        x, y = key\n",
    "        if x < 0 or x >= self.width or y < 0 or y >= self.height:\n",
    "            return self.off\n",
    "        else:\n",
    "            return self.empty\n",
    "        \n",
    "    def __repr__(self):\n",
    "        def row(y): return ' '.join(self[x, y] for x in range(self.width))\n",
    "        return '\\n'.join(row(y) for y in range(self.height))\n",
    "            \n",
    "    def __hash__(self): \n",
    "        return hash(tuple(sorted(self.items()))) + hash(self.to_move)"
   ]
  },
  {
   "cell_type": "markdown",
   "metadata": {},
   "source": [
    "Temos alguns exemplos de puzzles"
   ]
  },
  {
   "cell_type": "code",
   "execution_count": 69,
   "metadata": {},
   "outputs": [],
   "source": [
    "e1 = EightPuzzle((1, 4, 2, 0, 7, 5, 3, 6, 8))\n",
    "e2 = EightPuzzle((1, 2, 3, 4, 5, 6, 7, 8, 0))\n",
    "e3 = EightPuzzle((4, 0, 2, 5, 1, 3, 7, 8, 6))\n",
    "e4 = EightPuzzle((7, 2, 4, 5, 0, 6, 8, 3, 1))\n",
    "e5 = EightPuzzle((8, 6, 7, 2, 5, 4, 3, 0, 1))"
   ]
  },
  {
   "cell_type": "markdown",
   "metadata": {},
   "source": [
    "Testemos as heurísticas para cada um dos casos"
   ]
  },
  {
   "cell_type": "code",
   "execution_count": 70,
   "metadata": {},
   "outputs": [
    {
     "name": "stdout",
     "output_type": "stream",
     "text": [
      "Goal =\n",
      "_ 1 2\n",
      "3 4 5\n",
      "6 7 8\n",
      "\n",
      "Teste das heuristicas para cada um dos casos:\n",
      "\n",
      "1 4 2\n",
      "_ 7 5\n",
      "3 6 8\n",
      "\n",
      "Número de peças mal colocadas: 5\n",
      "Distância total à solução: 5\n",
      "1 2 3\n",
      "4 5 6\n",
      "7 8 _\n",
      "\n",
      "Número de peças mal colocadas: 8\n",
      "Distância total à solução: 12\n",
      "4 _ 2\n",
      "5 1 3\n",
      "7 8 6\n",
      "\n",
      "Número de peças mal colocadas: 7\n",
      "Distância total à solução: 11\n",
      "7 2 4\n",
      "5 _ 6\n",
      "8 3 1\n",
      "\n",
      "Número de peças mal colocadas: 8\n",
      "Distância total à solução: 18\n"
     ]
    }
   ],
   "source": [
    "print('Goal =')\n",
    "print(board8(e1.goal))\n",
    "print('Teste das heuristicas para cada um dos casos:')\n",
    "print()\n",
    "for e in [e1, e2, e3, e4]:\n",
    "    print(board8(e.initial))\n",
    "    print('Número de peças mal colocadas:',e.h1(Node(e.initial)))\n",
    "    print('Distância total à solução:', e.h2(Node(e.initial)))"
   ]
  },
  {
   "cell_type": "markdown",
   "metadata": {},
   "source": [
    "Vamos aplicar o A* com as duas heurísticas ao primeiro problema: e1"
   ]
  },
  {
   "cell_type": "code",
   "execution_count": 114,
   "metadata": {},
   "outputs": [
    {
     "name": "stdout",
     "output_type": "stream",
     "text": [
      "A* com a heurística do número de peças mal colocadas\n",
      "Time: 0.00032434999957331456\n",
      "Solução: [6, 7, 4, 1, 0]\n",
      "\n",
      "A* com a heurística do somatório das distâncias de cada peça ao objetivo\n",
      "Time: 0.0003239220000068599\n",
      "Solução: [6, 7, 4, 1, 0]\n"
     ]
    }
   ],
   "source": [
    "import timeit\n",
    "\n",
    "print('A* com a heurística do número de peças mal colocadas')\n",
    "start = timeit.default_timer()\n",
    "res_astar = astar_search(e1,e1.h1)\n",
    "stop = timeit.default_timer()\n",
    "timeGraph = stop-start\n",
    "print('Time:', timeGraph)\n",
    "print(\"Solução:\",res_astar.solution())\n",
    "print('\\nA* com a heurística do somatório das distâncias de cada peça ao objetivo')\n",
    "start = timeit.default_timer()\n",
    "res_astar = astar_search(e1,e1.h2)\n",
    "stop = timeit.default_timer()\n",
    "timeGraph = stop-start\n",
    "print('Time:', timeGraph)\n",
    "print(\"Solução:\",res_astar.solution()) # corresponde aos movimentos da casa vazia"
   ]
  },
  {
   "cell_type": "markdown",
   "metadata": {},
   "source": [
    "Para vizualizarmos a sequência de estados que corresponde à solução vamos definir a função ***path_states()*** que devolve todos os estados ao longo de um node."
   ]
  },
  {
   "cell_type": "code",
   "execution_count": 115,
   "metadata": {},
   "outputs": [],
   "source": [
    "def path_states(node):\n",
    "    \"The sequence of states to get to this node.\"\n",
    "    if node == None: \n",
    "        return []\n",
    "    return path_states(node.parent) + [node.state]"
   ]
  },
  {
   "cell_type": "markdown",
   "metadata": {},
   "source": [
    "Vamos aplicá-la"
   ]
  },
  {
   "cell_type": "code",
   "execution_count": 116,
   "metadata": {},
   "outputs": [
    {
     "name": "stdout",
     "output_type": "stream",
     "text": [
      "1 4 2\n",
      "_ 7 5\n",
      "3 6 8\n",
      "\n",
      "1 4 2\n",
      "3 7 5\n",
      "_ 6 8\n",
      "\n",
      "1 4 2\n",
      "3 7 5\n",
      "6 _ 8\n",
      "\n",
      "1 4 2\n",
      "3 _ 5\n",
      "6 7 8\n",
      "\n",
      "1 _ 2\n",
      "3 4 5\n",
      "6 7 8\n",
      "\n",
      "_ 1 2\n",
      "3 4 5\n",
      "6 7 8\n",
      "\n"
     ]
    }
   ],
   "source": [
    "for s in path_states(res_astar):\n",
    "    print(board8(s))"
   ]
  },
  {
   "cell_type": "markdown",
   "metadata": {},
   "source": [
    "Este puzzle é demasiado simples para podermos apreciar e comparar o impacto que as duas heurísticas têm sobre o A*. Vamos ao segundo puzzle, em e2"
   ]
  },
  {
   "cell_type": "code",
   "execution_count": 117,
   "metadata": {},
   "outputs": [
    {
     "name": "stdout",
     "output_type": "stream",
     "text": [
      "A* com a heurística do número de peças mal colocadas\n",
      "Time: 10.7498236739998\n",
      "Solução: [5, 4, 3, 6, 7, 8, 5, 2, 1, 4, 7, 6, 3, 4, 5, 8, 7, 6, 3, 4, 1, 0]\n",
      "\n",
      "A* com a heurística do somatório das distâncias de cada peça ao objectivo\n",
      "Time: 0.19306565499982753\n",
      "Solução: [5, 4, 3, 6, 7, 8, 5, 2, 1, 4, 7, 6, 3, 4, 5, 8, 7, 6, 3, 4, 1, 0]\n"
     ]
    }
   ],
   "source": [
    "print('A* com a heurística do número de peças mal colocadas')\n",
    "start = timeit.default_timer()\n",
    "res_astar = astar_search(e2,e2.h1)\n",
    "stop = timeit.default_timer()\n",
    "timeGraph = stop-start\n",
    "print('Time:', timeGraph)\n",
    "print(\"Solução:\",res_astar.solution())\n",
    "print('\\nA* com a heurística do somatório das distâncias de cada peça ao objectivo')\n",
    "start = timeit.default_timer()\n",
    "res_astar = astar_search(e2,e2.h2)\n",
    "stop = timeit.default_timer()\n",
    "timeGraph = stop-start\n",
    "print('Time:', timeGraph)\n",
    "print(\"Solução:\",res_astar.solution())"
   ]
  },
  {
   "cell_type": "code",
   "execution_count": 118,
   "metadata": {},
   "outputs": [
    {
     "name": "stdout",
     "output_type": "stream",
     "text": [
      "1 2 3\n",
      "4 5 6\n",
      "7 8 _\n",
      "\n",
      "1 2 3\n",
      "4 5 _\n",
      "7 8 6\n",
      "\n",
      "1 2 3\n",
      "4 _ 5\n",
      "7 8 6\n",
      "\n",
      "1 2 3\n",
      "_ 4 5\n",
      "7 8 6\n",
      "\n",
      "1 2 3\n",
      "7 4 5\n",
      "_ 8 6\n",
      "\n",
      "1 2 3\n",
      "7 4 5\n",
      "8 _ 6\n",
      "\n",
      "1 2 3\n",
      "7 4 5\n",
      "8 6 _\n",
      "\n",
      "1 2 3\n",
      "7 4 _\n",
      "8 6 5\n",
      "\n",
      "1 2 _\n",
      "7 4 3\n",
      "8 6 5\n",
      "\n",
      "1 _ 2\n",
      "7 4 3\n",
      "8 6 5\n",
      "\n",
      "1 4 2\n",
      "7 _ 3\n",
      "8 6 5\n",
      "\n",
      "1 4 2\n",
      "7 6 3\n",
      "8 _ 5\n",
      "\n",
      "1 4 2\n",
      "7 6 3\n",
      "_ 8 5\n",
      "\n",
      "1 4 2\n",
      "_ 6 3\n",
      "7 8 5\n",
      "\n",
      "1 4 2\n",
      "6 _ 3\n",
      "7 8 5\n",
      "\n",
      "1 4 2\n",
      "6 3 _\n",
      "7 8 5\n",
      "\n",
      "1 4 2\n",
      "6 3 5\n",
      "7 8 _\n",
      "\n",
      "1 4 2\n",
      "6 3 5\n",
      "7 _ 8\n",
      "\n",
      "1 4 2\n",
      "6 3 5\n",
      "_ 7 8\n",
      "\n",
      "1 4 2\n",
      "_ 3 5\n",
      "6 7 8\n",
      "\n",
      "1 4 2\n",
      "3 _ 5\n",
      "6 7 8\n",
      "\n",
      "1 _ 2\n",
      "3 4 5\n",
      "6 7 8\n",
      "\n",
      "_ 1 2\n",
      "3 4 5\n",
      "6 7 8\n",
      "\n"
     ]
    }
   ],
   "source": [
    "for s in path_states(res_astar):\n",
    "    print(board8(s))"
   ]
  },
  {
   "cell_type": "markdown",
   "metadata": {},
   "source": [
    "Não aconselhamos a tentarem aplicar a profundidade primeiro a este problema mas podem tentar descomentando o código a seguir"
   ]
  },
  {
   "cell_type": "code",
   "execution_count": null,
   "metadata": {},
   "outputs": [],
   "source": [
    "\n",
    "# print('Profundidade primeiro em grafo')\n",
    "# start = timeit.default_timer()\n",
    "# res_prof = depth_first_graph_search(e1)\n",
    "# stop = timeit.default_timer()\n",
    "# timeGraph = stop-start\n",
    "# print('Time: ', timeGraph)\n",
    "# print(\"Solução:\",res_prof.solution())\n"
   ]
  },
  {
   "cell_type": "markdown",
   "metadata": {},
   "source": [
    "Vamos aplicar o \"Greedy\" para o problema e1"
   ]
  },
  {
   "cell_type": "code",
   "execution_count": 119,
   "metadata": {},
   "outputs": [
    {
     "name": "stdout",
     "output_type": "stream",
     "text": [
      "Greedy com a heurística do número de mal colocados\n",
      "Time: 0.0003100819999417581\n",
      "Solução: [6, 7, 4, 1, 0]\n",
      "\n",
      "Greedy com a heurística da soma total de Manhatan\n",
      "Time: 0.00034219000008306466\n",
      "Solução: [6, 7, 4, 1, 0]\n"
     ]
    }
   ],
   "source": [
    "print('Greedy com a heurística do número de mal colocados')\n",
    "start = timeit.default_timer()\n",
    "res_greedy_h1 = greedy_best_first_graph_search(e1,e1.h1)\n",
    "stop = timeit.default_timer()\n",
    "timeGraph = stop-start\n",
    "print('Time:', timeGraph)\n",
    "print(\"Solução:\",res_greedy_h1.solution())\n",
    "print('\\nGreedy com a heurística da soma total de Manhatan')\n",
    "start = timeit.default_timer()\n",
    "res_greedy_h2 = greedy_best_first_graph_search(e1,e1.h2)\n",
    "stop = timeit.default_timer()\n",
    "timeGraph = stop-start\n",
    "print('Time:', timeGraph)\n",
    "print(\"Solução:\",res_greedy_h2.solution())"
   ]
  },
  {
   "cell_type": "markdown",
   "metadata": {},
   "source": [
    "E agora para o segundo problema"
   ]
  },
  {
   "cell_type": "code",
   "execution_count": 120,
   "metadata": {},
   "outputs": [
    {
     "name": "stdout",
     "output_type": "stream",
     "text": [
      "Greedy com a heurística do número de mal colocados\n",
      "Time: 0.05406351800002085\n",
      "Solução: [7, 6, 3, 4, 5, 2, 1, 0, 3, 6, 7, 4, 3, 6, 7, 4, 3, 0, 1, 2, 5, 4, 7, 8, 5, 2, 1, 0, 3, 4, 5, 8, 7, 4, 5, 8, 7, 4, 3, 6, 7, 8, 5, 4, 7, 6, 3, 0, 1, 4, 3, 0, 1, 4, 5, 2, 1, 0, 3, 4, 1, 0, 3, 4, 5, 2, 1, 0, 3, 4, 1, 2, 5, 4, 3, 0, 1, 4, 5, 2, 1, 0]\n",
      "\n",
      "Greedy com a heurística da soma total de Manhatan\n",
      "Time: 0.04414541000005556\n",
      "Solução: [5, 2, 1, 4, 5, 2, 1, 0, 3, 4, 7, 8, 5, 4, 7, 6, 3, 4, 5, 8, 7, 4, 3, 6, 7, 8, 5, 2, 1, 0, 3, 4, 1, 2, 5, 8, 7, 6, 3, 0, 1, 2, 5, 4, 1, 2, 5, 4, 7, 8, 5, 2, 1, 4, 5, 8, 7, 4, 1, 2, 5, 4, 7, 8, 5, 2, 1, 0]\n"
     ]
    }
   ],
   "source": [
    "print('Greedy com a heurística do número de mal colocados')\n",
    "start = timeit.default_timer()\n",
    "res_greedy_h1 = greedy_best_first_graph_search(e2,e2.h1)\n",
    "stop = timeit.default_timer()\n",
    "timeGraph = stop-start\n",
    "print('Time:', timeGraph)\n",
    "print(\"Solução:\",res_greedy_h1.solution())\n",
    "print('\\nGreedy com a heurística da soma total de Manhatan')\n",
    "start = timeit.default_timer()\n",
    "res_greedy_h2 = greedy_best_first_graph_search(e2,e2.h2)\n",
    "stop = timeit.default_timer()\n",
    "timeGraph = stop-start\n",
    "print('Time:', timeGraph)\n",
    "print(\"Solução:\",res_greedy_h2.solution())"
   ]
  },
  {
   "cell_type": "markdown",
   "metadata": {},
   "source": [
    "O \"Greedy\" teve um bom desempenho mesmo no problema mais duro, como iremos ver quando compararmos com a procura em largura, não informada."
   ]
  },
  {
   "cell_type": "code",
   "execution_count": 121,
   "metadata": {},
   "outputs": [
    {
     "name": "stdout",
     "output_type": "stream",
     "text": [
      "Largura em grafo, problema e1\n",
      "Time: 0.0011960780002482352\n",
      "Solução: [6, 7, 4, 1, 0]\n",
      "\n",
      "Largura em Grafo, problema e2\n",
      "Time: 386.3912395790003\n",
      "Solução: [7, 4, 5, 2, 1, 0, 3, 4, 5, 2, 1, 4, 7, 6, 3, 0, 1, 2, 5, 4, 3, 0]\n"
     ]
    }
   ],
   "source": [
    "print('Largura em grafo, problema e1')\n",
    "start = timeit.default_timer()\n",
    "res_breadth = breadth_first_graph_search(e1)\n",
    "stop = timeit.default_timer()\n",
    "timeGraph = stop-start\n",
    "print('Time:', timeGraph)\n",
    "print(\"Solução:\",res_breadth.solution())\n",
    "print('\\nLargura em Grafo, problema e2')\n",
    "start = timeit.default_timer()\n",
    "res_breadth = breadth_first_graph_search(e2)\n",
    "stop = timeit.default_timer()\n",
    "timeGraph = stop-start\n",
    "print('Time:', timeGraph)\n",
    "print(\"Solução:\",res_breadth.solution())"
   ]
  },
  {
   "cell_type": "markdown",
   "metadata": {},
   "source": [
    "Vamos comparar a procura em largura com o aprofundamento progressivo, diferença que será mais notória no problema mais difícil dos dois."
   ]
  },
  {
   "cell_type": "code",
   "execution_count": 123,
   "metadata": {},
   "outputs": [
    {
     "name": "stdout",
     "output_type": "stream",
     "text": [
      "Progressivo em grafo, problema e1\n",
      "Time: 0.0003327299996271904\n",
      "Solução: [6, 7, 4, 1, 0]\n",
      "\n",
      "Progressivo em Grafo, problema e2\n",
      "Time: 0.5136134829999719\n",
      "Solução: [5, 4, 3, 6, 7, 8, 5, 4, 1, 2, 5, 4, 1, 2, 5, 4, 7, 6, 3, 4, 5, 8, 7, 6, 3, 4, 1, 0]\n"
     ]
    }
   ],
   "source": [
    "print('Progressivo em grafo, problema e1')\n",
    "start = timeit.default_timer()\n",
    "res_prog = iterative_deepening_graph_search(e1)\n",
    "stop = timeit.default_timer()\n",
    "timeGraph = stop-start\n",
    "print('Time:', timeGraph)\n",
    "print(\"Solução:\",res_prog.solution())\n",
    "print('\\nProgressivo em Grafo, problema e2')\n",
    "start = timeit.default_timer()\n",
    "res_prog = iterative_deepening_graph_search(e2)\n",
    "stop = timeit.default_timer()\n",
    "timeGraph = stop-start\n",
    "print('Time:', timeGraph)\n",
    "print(\"Solução:\",res_prog.solution())\n"
   ]
  },
  {
   "cell_type": "markdown",
   "metadata": {},
   "source": [
    "#### Exercício 6\n",
    "Considere o problema da inversão de setas que está definido em Python já a seguir. Desenvolva duas funções heurísticas:\n",
    "1. A primeira calcula a menor das distâncias de um estado aos dois estados objectivos. A distância entre dois estados devolve o número de setas correspondentes com orientações diferentes. Por exemplo, a distância entre [d,d,d,e,e,e] e [e,d,e,d,e,d] é igual a 4. Só as duas segundas setas e as duas quintas setas é que possuem a mesma orientação.\n",
    "2. Número de pares adjacentes de setas com a mesma orientação. O estado inicial: [d,d,d,e,e,e] possui um nº de pares adjacentes com a mesma orientação que é igual a 4. Os dois objectivos têm ambos 0 como valor heurístico."
   ]
  },
  {
   "cell_type": "code",
   "execution_count": 131,
   "metadata": {},
   "outputs": [],
   "source": [
    "class EstadoSetas :\n",
    "\n",
    "    \"\"\"Um estado do problema da inversao das setas\n",
    "        Uma lista de 6 setas (e's ou d's), indicando para cada seta se está orientada\n",
    "        para a esquerda para para a direita\n",
    "        A ordem da esquerda para a direita corresponde às setas de cima para baixo\n",
    "    \"\"\"\n",
    "    def __init__(self,setas = [\"e\",\"e\",\"e\",\"d\",\"d\",\"d\"]) :\n",
    "        self.setas = setas\n",
    "\n",
    "        \n",
    "    def flip(self,seta) :\n",
    "        \"\"\" Inversão do sentido de uma seta: de e para d e de d para e\"\"\"\n",
    "        if seta==\"e\":\n",
    "            return \"d\"\n",
    "        else:\n",
    "            return \"e\"\n",
    "\n",
    "    def inverte(self,n) :\n",
    "        \"\"\" Inverte duas setas, na posição n e n+1. A primeira seta está na posição 0\n",
    "            e para inverter a primeira e a segunda, de cima para baixo, implica n = 0.\n",
    "            Gera uma nova lista.\n",
    "        \"\"\"\n",
    "        copye = []\n",
    "        for i in range(len(self.setas)) :\n",
    "            if i == n-1 or i == n :\n",
    "                copye.append(self.flip(self.setas[i]))\n",
    "            else:\n",
    "                copye.append(self.setas[i])\n",
    "        return EstadoSetas(copye)\n",
    "        \n",
    "    def __str__(self) :\n",
    "        return str(self.setas)\n",
    "    \n",
    "    def __eq__(self,estado) :\n",
    "        \"\"\"Definir em que circunstância os dois estados são considerados iguais.\n",
    "        Necessário para os algoritmos de procura em grafo.\n",
    "        \"\"\"\n",
    "        return self.setas == estado.setas\n",
    "    \n",
    "    def __lt__(self,estado):\n",
    "            return True\n",
    "\n",
    "    def __hash__(self) :\n",
    "        \"\"\"Necessário para os algoritmos de procura em grafo.\"\"\"\n",
    "        return hash((str(self.setas)))\n",
    "\n",
    "\n",
    "\n",
    "class ProblemaSetas(Problem) :\n",
    "    \n",
    "    def __init__(self,initial = EstadoSetas([\"e\",\"e\",\"e\",\"d\",\"d\",\"d\"])) :\n",
    "        super().__init__(initial)\n",
    "\n",
    "    \n",
    "    def actions(self,estado) :\n",
    "        \"\"\" A acção 1 corresponde a inverter as setas de índices 0 e 1 da lista\n",
    "            A acção 5 coorresponde a inverter as setas de índices 4 e 5, as últimas duas \"\"\"\n",
    "        accoes = [1,2,3,4,5]\n",
    "        \n",
    "        return accoes \n",
    "\n",
    "    def result(self,estado,acao) :\n",
    "        if acao in self.actions(estado) :\n",
    "            resultante = estado.inverte(acao)\n",
    "        else:\n",
    "            raise \"Há aqui qualquer coisa mal>> acao não reconhecida\"\n",
    " \n",
    "        return resultante"
   ]
  },
  {
   "cell_type": "code",
   "execution_count": 130,
   "metadata": {},
   "outputs": [
    {
     "name": "stdout",
     "output_type": "stream",
     "text": [
      "H1 ['e', 'e', 'e', 'd', 'd', 'd'] None\n",
      "H2 ['e', 'e', 'e', 'd', 'd', 'd'] 4\n"
     ]
    }
   ],
   "source": [
    "# Resolução do exercício 6\n",
    "psetas = ProblemaSetas()\n",
    "\n",
    "def h1(node: Node):\n",
    "    \"\"\"A menor das distâncias de um estado aos dois estados objectivos. A distância entre dois estados devolve o número de setas correspondentes com orientações diferentes. Por exemplo, a distância entre [d,d,d,e,e,e] e [e,d,e,d,e,d] é igual a 4. Só as duas segundas setas e as duas quintas setas é que possuem a mesma orientação.\"\"\"\n",
    "    pass\n",
    "\n",
    "def h2(node: Node):\n",
    "    \"\"\"Número de pares adjacentes de setas com a mesma orientação. O estado inicial: [d,d,d,e,e,e] possui um nº de pares adjacentes com a mesma orientação que é igual a 4. Os dois objectivos têm ambos 0 como valor heurístico.\"\"\"\n",
    "    cnt = 0\n",
    "\n",
    "    for i in range(len(node.state.setas) - 1):\n",
    "        if node.state.setas[i] == node.state.setas[i+1]:\n",
    "            cnt += 1\n",
    "\n",
    "    return cnt\n",
    "\n",
    "no = Node(psetas.initial)\n",
    "print('H1', psetas.initial, h1(no))\n",
    "print('H2', psetas.initial, h2(no))"
   ]
  }
 ],
 "metadata": {
  "colab": {
   "collapsed_sections": [],
   "name": "Untitled0.ipynb",
   "provenance": [],
   "version": "0.3.2"
  },
  "kernelspec": {
   "display_name": "Python 3 (ipykernel)",
   "language": "python",
   "name": "python3"
  },
  "language_info": {
   "codemirror_mode": {
    "name": "ipython",
    "version": 3
   },
   "file_extension": ".py",
   "mimetype": "text/x-python",
   "name": "python",
   "nbconvert_exporter": "python",
   "pygments_lexer": "ipython3",
   "version": "3.8.12"
  }
 },
 "nbformat": 4,
 "nbformat_minor": 2
}